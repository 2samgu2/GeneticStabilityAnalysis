{
 "cells": [
  {
   "cell_type": "markdown",
   "metadata": {},
   "source": [
    "# GSA - Genetic Stability Analyzer"
   ]
  },
  {
   "cell_type": "markdown",
   "metadata": {},
   "source": [
    "In order to speed up processing time when running classification algorithms, it is often useful to choose only the most \"best\" genes to use.  There are various algorithms available to choose genes, however here we use Chi2 Select K best.  K is how many genes you wish to use for testing stability.  More genese is usually better, however again in order to speed up processing time we limit the number of genes used.  This program allows you to set a min and max number of genes and an interval.  This will in turn setup numpy arrays with class and the select number of genes for further processing by FASTR and FASTrand."
   ]
  },
  {
   "cell_type": "markdown",
   "metadata": {},
   "source": [
    "### Libraries\n",
    "Must be pre-installed.  Recommended to use virtual environment."
   ]
  },
  {
   "cell_type": "code",
   "execution_count": 1,
   "metadata": {},
   "outputs": [
    {
     "name": "stderr",
     "output_type": "stream",
     "text": [
      "/Users/terek/.virtualenvs/py370/lib/python3.7/site-packages/sklearn/ensemble/weight_boosting.py:29: DeprecationWarning: numpy.core.umath_tests is an internal NumPy module and should not be imported. It will be removed in a future NumPy release.\n",
      "  from numpy.core.umath_tests import inner1d\n"
     ]
    }
   ],
   "source": [
    "import numpy as np\n",
    "from typing import Optional\n",
    "from random import sample, choice, uniform\n",
    "from os import path, getcwd, makedirs\n",
    "from sklearn.feature_selection import SelectKBest, chi2\n",
    "from sklearn.model_selection import StratifiedKFold\n",
    "from collections import Counter\n",
    "from sklearn.metrics import mean_squared_error\n",
    "from scipy.sparse.linalg import lsqr\n",
    "from math import sqrt, floor\n",
    "from sklearn import svm\n",
    "from multiprocessing import Pool, cpu_count\n",
    "from sklearn.neighbors import KNeighborsClassifier\n",
    "from sklearn.ensemble import RandomForestClassifier\n",
    "from sklearn.naive_bayes import GaussianNB\n",
    "from sklearn import svm"
   ]
  },
  {
   "cell_type": "markdown",
   "metadata": {},
   "source": [
    "## Methods and Classes\n",
    "This section defines all classes and methods used.  The corresponding methods and classes for each .py file found in `main/Python` are described here."
   ]
  },
  {
   "cell_type": "markdown",
   "metadata": {},
   "source": [
    "### NBC.py"
   ]
  },
  {
   "cell_type": "markdown",
   "metadata": {},
   "source": [
    "The NBC.py file contains two classes: Model and NBC.  The Network-based supervised classification technique (NBC) is described in [Ahmet Ay et al](http://journals.sagepub.com/doi/abs/10.4137/CIN.S14025).  Briefly, for each gene, a model is constructed from the gene's neighbors.  The model is a function of the form:\n",
    "\n",
    "gene_expressipn @ g = neigh1X + neigh2X +....neighNx + C\n",
    "\n",
    "The set of expressions for all genes creates the expressio nmodel."
   ]
  },
  {
   "cell_type": "code",
   "execution_count": 2,
   "metadata": {},
   "outputs": [],
   "source": [
    "class Model:\n",
    "    \"\"\"The model constructed for a given class\"\"\"\n",
    "\n",
    "    def __init__(self, X, label, epsilon=0.8):\n",
    "        \"\"\"Initializes the model for a given class.\n",
    "\n",
    "        :param X: Training data for model. If array or matrix, shape [n_samples, n_features].\n",
    "        :param label: Class label for the data.\n",
    "        :param epsilon: epsilon value correlation cutoff\n",
    "        \"\"\"\n",
    "        self._label = label\n",
    "        self.X = np.array(X)\n",
    "\n",
    "        correlations = np.corrcoef(self.X, y=None, rowvar=False)\n",
    "\n",
    "        # Note: the mask is the graph.\n",
    "        self.mask = (np.absolute(correlations) > epsilon)\n",
    "\n",
    "        pool = Pool(processes=cpu_count())\n",
    "        self.coefficients = pool.map(self.solver, [gene for gene in range(len(correlations))])\n",
    "        pool.terminate()\n",
    "\n",
    "        self.coefficients = np.array(self.coefficients)\n",
    "\n",
    "    def solver(self, gene):\n",
    "        \"\"\"Uses least-square solver to compute coefficients for Ax=b, where\n",
    "        A is an equation list created from the neighbors of a gene and b is\n",
    "        the value of the gene.\n",
    "\n",
    "        :param gene: The index of the gene to be solved for.\n",
    "        :return: The coefficients of the equation (x) in Ax=b\n",
    "        \"\"\"\n",
    "        mask = self.mask[gene]\n",
    "        A = []\n",
    "        b = []\n",
    "        for sample in self.X:\n",
    "            neighbors = [sample[neighbor] if (mask[neighbor] and (gene != neighbor))\n",
    "                         else 0 for neighbor in range(len(mask))]\n",
    "            neighbors.append(1)\n",
    "            A.append(neighbors)\n",
    "            b.append(sample[gene])\n",
    "        A = np.array(A)\n",
    "        b = np.array(b)\n",
    "        x = lsqr(A, b)[0]\n",
    "        return x.tolist()\n",
    "\n",
    "    def expression(self, sample):\n",
    "        \"\"\"Returns a hypothetical expression level for a given sample.\n",
    "\n",
    "        :param sample: Test sample\n",
    "        :return: The hypothetical expression level of a given sample.\n",
    "        \"\"\"\n",
    "        expression = []\n",
    "        for gene in range(len(self.coefficients)):\n",
    "            level = 0  # the expression level of a gene\n",
    "            for neighbor in range(len(self.mask) - 1):\n",
    "                level += self.coefficients[gene][neighbor] * sample[neighbor]\n",
    "            level += self.coefficients[gene][len(self.mask)]\n",
    "            expression.append(level)\n",
    "        return np.array(expression)\n",
    "\n",
    "    def label(self):\n",
    "        \"\"\"Returns the class label of the model.\n",
    "\n",
    "        :return: The class label of the model.\n",
    "        \"\"\"\n",
    "        return self._label\n",
    "\n",
    "\n",
    "class NetworkBasedClassifier:\n",
    "    \"\"\"Classifier implementing the Network-based Classifier.\"\"\"\n",
    "\n",
    "    def __init__(self, epsilon=0.8):\n",
    "        \"\"\"Initializes the classifier.\n",
    "\n",
    "        :param epsilon: epsilon value correlation cutoff.\n",
    "        \"\"\"\n",
    "        self.models = []\n",
    "        self.epsilon = epsilon\n",
    "\n",
    "    def fit(self, X, y):\n",
    "        \"\"\"Fit the model using X as training data and y as target values.\n",
    "\n",
    "        :param X: Training data. If array or matrix, shape [n_samples, n_features].\n",
    "        :param y: Target values of shape = [n_samples]\n",
    "        \"\"\"\n",
    "        y = np.array(y)\n",
    "        X = np.array(X)\n",
    "        for label in Counter(y):\n",
    "            a_class = np.where(y == label)\n",
    "            self.models.append(Model([X[i] for i in a_class[0]], label, self.epsilon))\n",
    "\n",
    "    def predict(self, X):\n",
    "        \"\"\"Predict the class labels for the provided data.\n",
    "\n",
    "        :param X: Test samples.\n",
    "\n",
    "        :return: lass labels for each data sample.\n",
    "        \"\"\"\n",
    "        pool = Pool(processes=cpu_count())\n",
    "        classifications = pool.map(self.classification, [sample for sample in X])\n",
    "        pool.terminate()\n",
    "        return np.array(classifications)\n",
    "\n",
    "    def score(self, X, y):\n",
    "        \"\"\"Returns the mean accuracy on the given test data and labels.\n",
    "\n",
    "        :param X: Test samples.\n",
    "        :param y: True labels for X.\n",
    "\n",
    "        :return: Mean accuracy of self.predict(X) wrt. y.\n",
    "        \"\"\"\n",
    "        y = np.array(y)\n",
    "        X = np.array(X)\n",
    "        correct = np.asarray(self.predict(X) == y)\n",
    "        return np.sum(correct) / correct.shape[0]\n",
    "\n",
    "    def classification(self, sample):\n",
    "        \"\"\"Returns the classification of the sample.\n",
    "\n",
    "        :param sample: Test sample\n",
    "        :return: The class label of the sample.\n",
    "        \"\"\"\n",
    "        errors = []\n",
    "        for model in self.models:\n",
    "            error = sqrt(mean_squared_error(sample, model.expression(sample)))\n",
    "            errors.append(error)\n",
    "        min_index = errors.index(min(errors))\n",
    "        return self.models[min_index].label()\n"
   ]
  },
  {
   "cell_type": "code",
   "execution_count": 3,
   "metadata": {},
   "outputs": [],
   "source": [
    "class Estimator:\n",
    "    \"\"\"Describes the classifier chooser.\"\"\"\n",
    "\n",
    "    # Classifiers included:\n",
    "    NBC = 0\n",
    "    KNN = 1\n",
    "    SVM = 2\n",
    "    RF = 3\n",
    "    NB = 4\n",
    "    \n",
    "    def __init__(self, _type, epsilon=0.8, k=1):\n",
    "        \"\"\"Initializes the classifier type.\n",
    "\n",
    "        :param _type: The type of classifier to initialize.\n",
    "        :param epsilon: Used in NBC (See nbc.py for more details).\n",
    "        :param K: Used in KNeighborsClassifier (See documentation for more details).\n",
    "        \"\"\"\n",
    "        self._type = _type\n",
    "\n",
    "        # create the classifier\n",
    "        if _type == Estimator.NBC:\n",
    "            self._classifier = NetworkBasedClassifier(epsilon)\n",
    "            self._name = \"NBC\"\n",
    "        elif _type == Estimator.KNN:\n",
    "            self._classifier = KNeighborsClassifier(k)\n",
    "            self._name = \"KNN\"\n",
    "        elif _type == Estimator.SVM:\n",
    "            self._classifier = svm.LinearSVC()\n",
    "            self._name = \"SVM\"\n",
    "        elif _type == Estimator.RF:\n",
    "            self._classifier = RandomForestClassifier()\n",
    "            self._name = \"RF\"\n",
    "        elif _type == Estimator.NB:\n",
    "            self._classifier = GaussianNB()\n",
    "            self._name = \"NB\"\n",
    "    \n",
    "    @property\n",
    "    def type(self):\n",
    "        \"\"\"Returns the type of the classifier.\n",
    "\n",
    "        :return: The type of the classifier\n",
    "        \"\"\"\n",
    "        return self._type\n",
    "    \n",
    "    @property\n",
    "    def name(self):\n",
    "        \"\"\"Returns the name of the classifier.\n",
    "\n",
    "        :return: The string name of the classifier.\n",
    "        \"\"\"\n",
    "        return self._name\n",
    "    \n",
    "    def fit(self, X, y):\n",
    "        \"\"\"Fit the model using X as training data and y as target values.\n",
    "\n",
    "        :param X: Training data. If array or matrix, shape [n_samples, n_features].\n",
    "        :param y: Target values of shape = [n_samples]\n",
    "        \"\"\"\n",
    "        self._classifier.fit(X, y)\n",
    "        \n",
    "    def score(self, X, y):\n",
    "        \"\"\"Returns the mean accuracy on the given test data and labels.\n",
    "\n",
    "        :param X: Test samples\n",
    "        :param y: True labels for X\n",
    "        :return: Mean accuracy of self.predict(X) wrt. y.\n",
    "        \"\"\"\n",
    "        return self._classifier.score(X, y)\n",
    "        \n",
    "    def predict(self, X):\n",
    "        \"\"\"Predict the class labels for the provided data.\n",
    "\n",
    "        :param X: Test samples.\n",
    "        :return: lass labels for each data sample.\n",
    "        \"\"\"\n",
    "        return self._classifier.predict(X)"
   ]
  },
  {
   "cell_type": "markdown",
   "metadata": {},
   "source": [
    "### Alter.py\n",
    "The Alter.py file contains all methods and helper methods used to alter expressions.  There are currently four methods to alter expressions:\n",
    "\n",
    "1) Greedy - uses a greed strategy to select the top k genes that will produce the largest bad accuracy\n",
    "2) All - alters all genes by some percent amount.\n",
    "3) Subset - alters a subset of the genes selected via chi2 value\n",
    "4) RandSubset - alters a subset of the genes selected randomly\n"
   ]
  },
  {
   "cell_type": "code",
   "execution_count": 4,
   "metadata": {},
   "outputs": [],
   "source": [
    "class AlterStrategy:\n",
    "    \"\"\"Describes the alteration strategy used.\"\"\"\n",
    "    estimator: Optional[Estimator]\n",
    "\n",
    "    # Alter strategies included:\n",
    "    ALL = 0\n",
    "    SUB = 1\n",
    "    RAND_SUB = 2\n",
    "    GREEDY = 3\n",
    "\n",
    "    def __init__(self,\n",
    "                 _type,\n",
    "                 estimator: Estimator = None,\n",
    "                 X=None, y=None,\n",
    "                 path=None):\n",
    "        self._type = _type\n",
    "        self.estimator = estimator\n",
    "        self.X = X\n",
    "        self.y = y\n",
    "        if self.type == AlterStrategy.ALL:\n",
    "            self._name = \"ALL\"\n",
    "        elif self.type == AlterStrategy.SUB:\n",
    "            self._name = \"SUB\"\n",
    "        elif self.type == AlterStrategy.RAND_SUB:\n",
    "            self._name = \"RANDSUB\"\n",
    "        elif self.type == AlterStrategy.GREEDY:\n",
    "            self._name = \"GREEDY\"\n",
    "            filename = '{}greedyRank.npy'.format(estimator.name)\n",
    "            self.greedy_path = os.path.join(path, filename)\n",
    "            if not os.path.exists(self.greedy_path):\n",
    "                print(\"GREEDY RANK INITIALIZER - THIS CAN TAKE A WHILE.\")\n",
    "                self.estimator.fit(X, y)\n",
    "                print(X.shape[1])\n",
    "                to_choose = list(range(X.shape[1]))\n",
    "                chosen = []\n",
    "                for i in range(X.shape[1]):\n",
    "                    pool = Pool(processes=cpu_count())\n",
    "                    accuracies = pool.starmap(\n",
    "                        self.accuracy,\n",
    "                        [(X, y, chosen, idx, estimator) for idx in to_choose])\n",
    "                    pool.terminate()\n",
    "                    a = [x for _, x in sorted(zip(accuracies, to_choose))]\n",
    "                    chosen.append(a[0])\n",
    "                    to_choose.remove(a[0])\n",
    "                np.save(self.greedy_path, chosen)\n",
    "\n",
    "    @property\n",
    "    def type(self):\n",
    "        return self._type\n",
    "\n",
    "    @property\n",
    "    def name(self):\n",
    "        return self._name\n",
    "\n",
    "    def accuracy(self,\n",
    "                 X, y,\n",
    "                 chosen, idx_to_change,\n",
    "                 estimator: Estimator=None):\n",
    "        # TODO: run multiple times and return avg accuracy\n",
    "        result = []\n",
    "        for x in X:\n",
    "            alt = np.copy(x)\n",
    "            # alter prev chosen\n",
    "            for i in chosen:\n",
    "                alt[i] = 0\n",
    "            # alter new gene\n",
    "            alt[idx_to_change] = 0\n",
    "            result.append(alt)\n",
    "        result = np.array(result)\n",
    "        return estimator.score(result, y)\n",
    "\n",
    "    def alter(self, percent, X):\n",
    "        \"\"\"B/c genese are already ordered by chi2 rank we can choose top k to alter.\n",
    "\n",
    "        :param percent: The percent of the subset to select from X\n",
    "        :param X: Test samples.\n",
    "        :return:\n",
    "        \"\"\"\n",
    "        # high = np.amax(X)\n",
    "        # low = np.amin(X)\n",
    "        result = []\n",
    "        k = floor(X[0].size * percent)\n",
    "        if k <= 0:\n",
    "            return X\n",
    "        else:\n",
    "            indices = []\n",
    "            if self.type == AlterStrategy.RAND_SUB:\n",
    "                indices = sample(range(X[0].size), k)\n",
    "            elif self.type == AlterStrategy.SUB:\n",
    "                indices = list(range(k))\n",
    "            elif self.type == AlterStrategy.GREEDY:\n",
    "                indices = np.load(self.greedy_path)[0:k:1]\n",
    "            elif self.type == AlterStrategy.ALL:\n",
    "                indices = list(range(X[0].size))\n",
    "            for x in X:\n",
    "                alt = np.copy(x)\n",
    "                for i in indices:\n",
    "                    if self.type == AlterStrategy.ALL:\n",
    "                        offset = alt[i] * percent\n",
    "                        low = alt[i] - offset\n",
    "                        high = alt[i] + offset\n",
    "                        alt[i] = choice([low, high])\n",
    "                    else:\n",
    "                        alt[i] = choice([0, alt[i] * 2])\n",
    "                result.append(alt)\n",
    "            return np.array(result)\n",
    "\n",
    "    def cross_validate(self, percent=0, cv=10):\n",
    "        scores = []\n",
    "        skf = StratifiedKFold(cv)\n",
    "        for train_index, test_index in skf.split(self.X, self.y):\n",
    "            self.estimator.fit(self.X[train_index], self.y[train_index])\n",
    "            accuracy = self.estimator.score(\n",
    "                self.alter(percent, self.X[test_index]), self.y[test_index])\n",
    "            scores.append(accuracy)\n",
    "        return np.array(scores)\n"
   ]
  },
  {
   "cell_type": "markdown",
   "metadata": {},
   "source": [
    "#### Helpers"
   ]
  },
  {
   "cell_type": "markdown",
   "metadata": {},
   "source": [
    "The strategy is to choose greedily, however because of the random choice from the Accuracy method strategy, different genese may be chose, thus affecting the order in which the rank returns.  In general, the top gene should be the top gene in all cases, but as it progresses the genese can switch."
   ]
  },
  {
   "cell_type": "markdown",
   "metadata": {},
   "source": [
    "### Common.py\n",
    "These are files that are helpers for the main program.  They consist of two methods:\n",
    "1) A method to order the K best ranked genes.  This is used in conjunction with Atler.py Subset method.\n",
    "2) A method to cross validate.  This is different than normal cross validation in that the estimator is fit to correct data while the score is derived from altered data."
   ]
  },
  {
   "cell_type": "code",
   "execution_count": 5,
   "metadata": {},
   "outputs": [],
   "source": [
    "def SelectKBestRanked(k, X, y):    \n",
    "    b = SelectKBest(chi2, k).fit(X, y)\n",
    "    a = b.get_support(indices = True)\n",
    "    a = [x for _,x in sorted(zip(b.scores_[a],a),reverse=True)]\n",
    "    return np.array(a)"
   ]
  },
  {
   "cell_type": "code",
   "execution_count": 6,
   "metadata": {},
   "outputs": [],
   "source": []
  },
  {
   "cell_type": "markdown",
   "metadata": {},
   "source": [
    "### Estimatory.py"
   ]
  },
  {
   "cell_type": "markdown",
   "metadata": {},
   "source": [
    "## START MAIN PROGRAM"
   ]
  },
  {
   "cell_type": "markdown",
   "metadata": {},
   "source": [
    "###### Enter the series and feature_size to use\n",
    "Must be all upper case. e.g. `\"GSE27562\"`"
   ]
  },
  {
   "cell_type": "code",
   "execution_count": 7,
   "metadata": {},
   "outputs": [],
   "source": [
    "series = \"GSE19804\"\n",
    "feature_size = 50\n",
    "estimator = Estimator(Estimator.NBC)"
   ]
  },
  {
   "cell_type": "markdown",
   "metadata": {},
   "source": [
    "### Get/Create Directories\n",
    "Assumes this notebook is in `GenClass-Stability/main/notebooks/`"
   ]
  },
  {
   "cell_type": "code",
   "execution_count": 8,
   "metadata": {},
   "outputs": [],
   "source": [
    "notebook_dir = getcwd();\n",
    "main_dir = path.dirname(path.dirname(notebook_dir))\n",
    "load_path = path.join(main_dir, \"GSE\", series)\n",
    "gsa_path = path.join(main_dir,\"GSA\", series, str(feature_size))\n",
    "if not path.exists(gsa_path):\n",
    "    makedirs(gsa_path)"
   ]
  },
  {
   "cell_type": "markdown",
   "metadata": {},
   "source": [
    "### Import Classes and Expressions\n",
    "Load original data. Assumes SIT and custome GSE script have been run to import data."
   ]
  },
  {
   "cell_type": "code",
   "execution_count": 9,
   "metadata": {},
   "outputs": [],
   "source": [
    "classes =np.loadtxt(path.join(load_path, \"classes.txt\"), dtype=np.str, delimiter=\"\\t\")\n",
    "exprs = np.loadtxt(path.join(load_path, \"exprs.txt\"), delimiter=\"\\t\")"
   ]
  },
  {
   "cell_type": "markdown",
   "metadata": {},
   "source": [
    "Select K best genes for analysis."
   ]
  },
  {
   "cell_type": "code",
   "execution_count": 10,
   "metadata": {},
   "outputs": [],
   "source": [
    "a = SelectKBestRanked(feature_size, exprs, classes)"
   ]
  },
  {
   "cell_type": "markdown",
   "metadata": {},
   "source": [
    "Get selected genes from expressions."
   ]
  },
  {
   "cell_type": "code",
   "execution_count": 11,
   "metadata": {},
   "outputs": [],
   "source": [
    "exprs = exprs[:, a]"
   ]
  },
  {
   "cell_type": "markdown",
   "metadata": {},
   "source": [
    "Save the selected expression data for potential later use."
   ]
  },
  {
   "cell_type": "code",
   "execution_count": 12,
   "metadata": {},
   "outputs": [],
   "source": [
    "np.save(path.join(gsa_path,\"exprs.npy\"), exprs)\n",
    "np.save(path.join(gsa_path,\"classses.npy\"), classes)"
   ]
  },
  {
   "cell_type": "markdown",
   "metadata": {},
   "source": [
    "### Stability Test"
   ]
  },
  {
   "cell_type": "code",
   "execution_count": 13,
   "metadata": {},
   "outputs": [],
   "source": [
    "alterStrat = AlterStrategy(AlterStrategy.ALL, estimator, exprs, classes, gsa_path)"
   ]
  },
  {
   "cell_type": "code",
   "execution_count": 14,
   "metadata": {},
   "outputs": [
    {
     "name": "stdout",
     "output_type": "stream",
     "text": [
      "Percent: 0.0\n",
      "Accuracy: 0.97 (+/- 0.04)\n",
      "Percent: 0.05\n",
      "Accuracy: 0.97 (+/- 0.04)\n",
      "Percent: 0.1\n",
      "Accuracy: 0.97 (+/- 0.04)\n",
      "Percent: 0.15000000000000002\n",
      "Accuracy: 0.96 (+/- 0.06)\n",
      "Percent: 0.2\n",
      "Accuracy: 0.95 (+/- 0.07)\n",
      "Percent: 0.25\n",
      "Accuracy: 0.95 (+/- 0.07)\n",
      "Percent: 0.30000000000000004\n",
      "Accuracy: 0.94 (+/- 0.07)\n",
      "Percent: 0.35000000000000003\n",
      "Accuracy: 0.89 (+/- 0.13)\n",
      "Percent: 0.4\n",
      "Accuracy: 0.86 (+/- 0.09)\n",
      "Percent: 0.45\n",
      "Accuracy: 0.87 (+/- 0.08)\n",
      "Percent: 0.5\n",
      "Accuracy: 0.82 (+/- 0.13)\n",
      "Percent: 0.55\n",
      "Accuracy: 0.83 (+/- 0.11)\n",
      "Percent: 0.6000000000000001\n",
      "Accuracy: 0.72 (+/- 0.12)\n",
      "Percent: 0.65\n",
      "Accuracy: 0.68 (+/- 0.10)\n",
      "Percent: 0.7000000000000001\n"
     ]
    },
    {
     "name": "stderr",
     "output_type": "stream",
     "text": [
      "Process ForkPoolWorker-1761:\n",
      "Process ForkPoolWorker-1763:\n",
      "Process ForkPoolWorker-1762:\n",
      "Traceback (most recent call last):\n",
      "Traceback (most recent call last):\n",
      "  File \"/usr/local/Cellar/python/3.7.0/Frameworks/Python.framework/Versions/3.7/lib/python3.7/multiprocessing/process.py\", line 297, in _bootstrap\n",
      "    self.run()\n",
      "  File \"/usr/local/Cellar/python/3.7.0/Frameworks/Python.framework/Versions/3.7/lib/python3.7/multiprocessing/process.py\", line 99, in run\n",
      "    self._target(*self._args, **self._kwargs)\n",
      "  File \"/usr/local/Cellar/python/3.7.0/Frameworks/Python.framework/Versions/3.7/lib/python3.7/multiprocessing/pool.py\", line 121, in worker\n",
      "    result = (True, func(*args, **kwds))\n",
      "  File \"/usr/local/Cellar/python/3.7.0/Frameworks/Python.framework/Versions/3.7/lib/python3.7/multiprocessing/process.py\", line 297, in _bootstrap\n",
      "    self.run()\n",
      "  File \"/usr/local/Cellar/python/3.7.0/Frameworks/Python.framework/Versions/3.7/lib/python3.7/multiprocessing/process.py\", line 99, in run\n",
      "    self._target(*self._args, **self._kwargs)\n",
      "  File \"/usr/local/Cellar/python/3.7.0/Frameworks/Python.framework/Versions/3.7/lib/python3.7/multiprocessing/pool.py\", line 44, in mapstar\n",
      "    return list(map(*args))\n",
      "  File \"<ipython-input-2-3cd5648a2c4e>\", line 126, in classification\n",
      "    error = sqrt(mean_squared_error(sample, model.expression(sample)))\n",
      "  File \"<ipython-input-2-3cd5648a2c4e>\", line 57, in expression\n",
      "    level += self.coefficients[gene][neighbor] * sample[neighbor]\n",
      "  File \"/usr/local/Cellar/python/3.7.0/Frameworks/Python.framework/Versions/3.7/lib/python3.7/multiprocessing/pool.py\", line 121, in worker\n",
      "    result = (True, func(*args, **kwds))\n",
      "  File \"/usr/local/Cellar/python/3.7.0/Frameworks/Python.framework/Versions/3.7/lib/python3.7/multiprocessing/pool.py\", line 44, in mapstar\n",
      "    return list(map(*args))\n",
      "  File \"<ipython-input-2-3cd5648a2c4e>\", line 126, in classification\n",
      "    error = sqrt(mean_squared_error(sample, model.expression(sample)))\n",
      "  File \"<ipython-input-2-3cd5648a2c4e>\", line 57, in expression\n",
      "    level += self.coefficients[gene][neighbor] * sample[neighbor]\n",
      "KeyboardInterrupt\n",
      "Process ForkPoolWorker-1764:\n",
      "Traceback (most recent call last):\n",
      "  File \"/usr/local/Cellar/python/3.7.0/Frameworks/Python.framework/Versions/3.7/lib/python3.7/multiprocessing/process.py\", line 297, in _bootstrap\n",
      "    self.run()\n",
      "  File \"/usr/local/Cellar/python/3.7.0/Frameworks/Python.framework/Versions/3.7/lib/python3.7/multiprocessing/process.py\", line 99, in run\n",
      "    self._target(*self._args, **self._kwargs)\n",
      "  File \"/usr/local/Cellar/python/3.7.0/Frameworks/Python.framework/Versions/3.7/lib/python3.7/multiprocessing/pool.py\", line 121, in worker\n",
      "    result = (True, func(*args, **kwds))\n",
      "  File \"/usr/local/Cellar/python/3.7.0/Frameworks/Python.framework/Versions/3.7/lib/python3.7/multiprocessing/pool.py\", line 44, in mapstar\n",
      "    return list(map(*args))\n",
      "Traceback (most recent call last):\n",
      "  File \"/usr/local/Cellar/python/3.7.0/Frameworks/Python.framework/Versions/3.7/lib/python3.7/multiprocessing/process.py\", line 297, in _bootstrap\n",
      "    self.run()\n",
      "  File \"<ipython-input-2-3cd5648a2c4e>\", line 126, in classification\n",
      "    error = sqrt(mean_squared_error(sample, model.expression(sample)))\n",
      "  File \"<ipython-input-2-3cd5648a2c4e>\", line 57, in expression\n",
      "    level += self.coefficients[gene][neighbor] * sample[neighbor]\n",
      "KeyboardInterrupt\n",
      "  File \"/usr/local/Cellar/python/3.7.0/Frameworks/Python.framework/Versions/3.7/lib/python3.7/multiprocessing/process.py\", line 99, in run\n",
      "    self._target(*self._args, **self._kwargs)\n",
      "KeyboardInterrupt\n",
      "  File \"/usr/local/Cellar/python/3.7.0/Frameworks/Python.framework/Versions/3.7/lib/python3.7/multiprocessing/pool.py\", line 110, in worker\n",
      "    task = get()\n",
      "  File \"/usr/local/Cellar/python/3.7.0/Frameworks/Python.framework/Versions/3.7/lib/python3.7/multiprocessing/queues.py\", line 352, in get\n",
      "    res = self._reader.recv_bytes()\n",
      "  File \"/usr/local/Cellar/python/3.7.0/Frameworks/Python.framework/Versions/3.7/lib/python3.7/multiprocessing/connection.py\", line 216, in recv_bytes\n",
      "    buf = self._recv_bytes(maxlength)\n",
      "  File \"/usr/local/Cellar/python/3.7.0/Frameworks/Python.framework/Versions/3.7/lib/python3.7/multiprocessing/connection.py\", line 411, in _recv_bytes\n",
      "    return self._recv(size)\n",
      "  File \"/usr/local/Cellar/python/3.7.0/Frameworks/Python.framework/Versions/3.7/lib/python3.7/multiprocessing/connection.py\", line 379, in _recv\n",
      "    chunk = read(handle, remaining)\n",
      "KeyboardInterrupt\n"
     ]
    },
    {
     "ename": "KeyboardInterrupt",
     "evalue": "",
     "output_type": "error",
     "traceback": [
      "\u001b[0;31m---------------------------------------------------------------------------\u001b[0m",
      "\u001b[0;31mKeyboardInterrupt\u001b[0m                         Traceback (most recent call last)",
      "\u001b[0;32m<ipython-input-14-c3b7fe88ebe6>\u001b[0m in \u001b[0;36m<module>\u001b[0;34m()\u001b[0m\n\u001b[1;32m      4\u001b[0m \u001b[0;32mfor\u001b[0m \u001b[0mpercent\u001b[0m \u001b[0;32min\u001b[0m \u001b[0mpercents\u001b[0m\u001b[0;34m:\u001b[0m\u001b[0;34m\u001b[0m\u001b[0m\n\u001b[1;32m      5\u001b[0m     \u001b[0mprint\u001b[0m \u001b[0;34m(\u001b[0m\u001b[0;34m\"Percent:\"\u001b[0m\u001b[0;34m,\u001b[0m \u001b[0mpercent\u001b[0m\u001b[0;34m)\u001b[0m\u001b[0;34m\u001b[0m\u001b[0m\n\u001b[0;32m----> 6\u001b[0;31m     \u001b[0mscores\u001b[0m \u001b[0;34m=\u001b[0m \u001b[0malterStrat\u001b[0m\u001b[0;34m.\u001b[0m\u001b[0mcross_validate\u001b[0m\u001b[0;34m(\u001b[0m\u001b[0mpercent\u001b[0m\u001b[0;34m,\u001b[0m \u001b[0;36m10\u001b[0m\u001b[0;34m)\u001b[0m\u001b[0;34m\u001b[0m\u001b[0m\n\u001b[0m\u001b[1;32m      7\u001b[0m     \u001b[0mprint\u001b[0m\u001b[0;34m(\u001b[0m\u001b[0;34m\"Accuracy: %0.2f (+/- %0.2f)\"\u001b[0m \u001b[0;34m%\u001b[0m \u001b[0;34m(\u001b[0m\u001b[0mscores\u001b[0m\u001b[0;34m.\u001b[0m\u001b[0mmean\u001b[0m\u001b[0;34m(\u001b[0m\u001b[0;34m)\u001b[0m\u001b[0;34m,\u001b[0m \u001b[0mscores\u001b[0m\u001b[0;34m.\u001b[0m\u001b[0mstd\u001b[0m\u001b[0;34m(\u001b[0m\u001b[0;34m)\u001b[0m\u001b[0;34m)\u001b[0m\u001b[0;34m)\u001b[0m\u001b[0;34m\u001b[0m\u001b[0m\n\u001b[1;32m      8\u001b[0m     \u001b[0maccuracies\u001b[0m\u001b[0;34m.\u001b[0m\u001b[0mappend\u001b[0m\u001b[0;34m(\u001b[0m\u001b[0mscores\u001b[0m\u001b[0;34m.\u001b[0m\u001b[0mmean\u001b[0m\u001b[0;34m(\u001b[0m\u001b[0;34m)\u001b[0m\u001b[0;34m)\u001b[0m\u001b[0;34m\u001b[0m\u001b[0m\n",
      "\u001b[0;32m<ipython-input-4-43fc0614236b>\u001b[0m in \u001b[0;36mcross_validate\u001b[0;34m(self, percent, cv)\u001b[0m\n\u001b[1;32m    112\u001b[0m             \u001b[0mself\u001b[0m\u001b[0;34m.\u001b[0m\u001b[0mestimator\u001b[0m\u001b[0;34m.\u001b[0m\u001b[0mfit\u001b[0m\u001b[0;34m(\u001b[0m\u001b[0mself\u001b[0m\u001b[0;34m.\u001b[0m\u001b[0mX\u001b[0m\u001b[0;34m[\u001b[0m\u001b[0mtrain_index\u001b[0m\u001b[0;34m]\u001b[0m\u001b[0;34m,\u001b[0m \u001b[0mself\u001b[0m\u001b[0;34m.\u001b[0m\u001b[0my\u001b[0m\u001b[0;34m[\u001b[0m\u001b[0mtrain_index\u001b[0m\u001b[0;34m]\u001b[0m\u001b[0;34m)\u001b[0m\u001b[0;34m\u001b[0m\u001b[0m\n\u001b[1;32m    113\u001b[0m             accuracy = self.estimator.score(\n\u001b[0;32m--> 114\u001b[0;31m                 self.alter(percent, self.X[test_index]), self.y[test_index])\n\u001b[0m\u001b[1;32m    115\u001b[0m             \u001b[0mscores\u001b[0m\u001b[0;34m.\u001b[0m\u001b[0mappend\u001b[0m\u001b[0;34m(\u001b[0m\u001b[0maccuracy\u001b[0m\u001b[0;34m)\u001b[0m\u001b[0;34m\u001b[0m\u001b[0m\n\u001b[1;32m    116\u001b[0m         \u001b[0;32mreturn\u001b[0m \u001b[0mnp\u001b[0m\u001b[0;34m.\u001b[0m\u001b[0marray\u001b[0m\u001b[0;34m(\u001b[0m\u001b[0mscores\u001b[0m\u001b[0;34m)\u001b[0m\u001b[0;34m\u001b[0m\u001b[0m\n",
      "\u001b[0;32m<ipython-input-3-49031848c392>\u001b[0m in \u001b[0;36mscore\u001b[0;34m(self, X, y)\u001b[0m\n\u001b[1;32m     66\u001b[0m         \u001b[0;34m:\u001b[0m\u001b[0;32mreturn\u001b[0m\u001b[0;34m:\u001b[0m \u001b[0mMean\u001b[0m \u001b[0maccuracy\u001b[0m \u001b[0mof\u001b[0m \u001b[0mself\u001b[0m\u001b[0;34m.\u001b[0m\u001b[0mpredict\u001b[0m\u001b[0;34m(\u001b[0m\u001b[0mX\u001b[0m\u001b[0;34m)\u001b[0m \u001b[0mwrt\u001b[0m\u001b[0;34m.\u001b[0m \u001b[0my\u001b[0m\u001b[0;34m.\u001b[0m\u001b[0;34m\u001b[0m\u001b[0m\n\u001b[1;32m     67\u001b[0m         \"\"\"\n\u001b[0;32m---> 68\u001b[0;31m         \u001b[0;32mreturn\u001b[0m \u001b[0mself\u001b[0m\u001b[0;34m.\u001b[0m\u001b[0m_classifier\u001b[0m\u001b[0;34m.\u001b[0m\u001b[0mscore\u001b[0m\u001b[0;34m(\u001b[0m\u001b[0mX\u001b[0m\u001b[0;34m,\u001b[0m \u001b[0my\u001b[0m\u001b[0;34m)\u001b[0m\u001b[0;34m\u001b[0m\u001b[0m\n\u001b[0m\u001b[1;32m     69\u001b[0m \u001b[0;34m\u001b[0m\u001b[0m\n\u001b[1;32m     70\u001b[0m     \u001b[0;32mdef\u001b[0m \u001b[0mpredict\u001b[0m\u001b[0;34m(\u001b[0m\u001b[0mself\u001b[0m\u001b[0;34m,\u001b[0m \u001b[0mX\u001b[0m\u001b[0;34m)\u001b[0m\u001b[0;34m:\u001b[0m\u001b[0;34m\u001b[0m\u001b[0m\n",
      "\u001b[0;32m<ipython-input-2-3cd5648a2c4e>\u001b[0m in \u001b[0;36mscore\u001b[0;34m(self, X, y)\u001b[0m\n\u001b[1;32m    113\u001b[0m         \u001b[0my\u001b[0m \u001b[0;34m=\u001b[0m \u001b[0mnp\u001b[0m\u001b[0;34m.\u001b[0m\u001b[0marray\u001b[0m\u001b[0;34m(\u001b[0m\u001b[0my\u001b[0m\u001b[0;34m)\u001b[0m\u001b[0;34m\u001b[0m\u001b[0m\n\u001b[1;32m    114\u001b[0m         \u001b[0mX\u001b[0m \u001b[0;34m=\u001b[0m \u001b[0mnp\u001b[0m\u001b[0;34m.\u001b[0m\u001b[0marray\u001b[0m\u001b[0;34m(\u001b[0m\u001b[0mX\u001b[0m\u001b[0;34m)\u001b[0m\u001b[0;34m\u001b[0m\u001b[0m\n\u001b[0;32m--> 115\u001b[0;31m         \u001b[0mcorrect\u001b[0m \u001b[0;34m=\u001b[0m \u001b[0mnp\u001b[0m\u001b[0;34m.\u001b[0m\u001b[0masarray\u001b[0m\u001b[0;34m(\u001b[0m\u001b[0mself\u001b[0m\u001b[0;34m.\u001b[0m\u001b[0mpredict\u001b[0m\u001b[0;34m(\u001b[0m\u001b[0mX\u001b[0m\u001b[0;34m)\u001b[0m \u001b[0;34m==\u001b[0m \u001b[0my\u001b[0m\u001b[0;34m)\u001b[0m\u001b[0;34m\u001b[0m\u001b[0m\n\u001b[0m\u001b[1;32m    116\u001b[0m         \u001b[0;32mreturn\u001b[0m \u001b[0mnp\u001b[0m\u001b[0;34m.\u001b[0m\u001b[0msum\u001b[0m\u001b[0;34m(\u001b[0m\u001b[0mcorrect\u001b[0m\u001b[0;34m)\u001b[0m \u001b[0;34m/\u001b[0m \u001b[0mcorrect\u001b[0m\u001b[0;34m.\u001b[0m\u001b[0mshape\u001b[0m\u001b[0;34m[\u001b[0m\u001b[0;36m0\u001b[0m\u001b[0;34m]\u001b[0m\u001b[0;34m\u001b[0m\u001b[0m\n\u001b[1;32m    117\u001b[0m \u001b[0;34m\u001b[0m\u001b[0m\n",
      "\u001b[0;32m<ipython-input-2-3cd5648a2c4e>\u001b[0m in \u001b[0;36mpredict\u001b[0;34m(self, X)\u001b[0m\n\u001b[1;32m     99\u001b[0m         \"\"\"\n\u001b[1;32m    100\u001b[0m         \u001b[0mpool\u001b[0m \u001b[0;34m=\u001b[0m \u001b[0mPool\u001b[0m\u001b[0;34m(\u001b[0m\u001b[0mprocesses\u001b[0m\u001b[0;34m=\u001b[0m\u001b[0mcpu_count\u001b[0m\u001b[0;34m(\u001b[0m\u001b[0;34m)\u001b[0m\u001b[0;34m)\u001b[0m\u001b[0;34m\u001b[0m\u001b[0m\n\u001b[0;32m--> 101\u001b[0;31m         \u001b[0mclassifications\u001b[0m \u001b[0;34m=\u001b[0m \u001b[0mpool\u001b[0m\u001b[0;34m.\u001b[0m\u001b[0mmap\u001b[0m\u001b[0;34m(\u001b[0m\u001b[0mself\u001b[0m\u001b[0;34m.\u001b[0m\u001b[0mclassification\u001b[0m\u001b[0;34m,\u001b[0m \u001b[0;34m[\u001b[0m\u001b[0msample\u001b[0m \u001b[0;32mfor\u001b[0m \u001b[0msample\u001b[0m \u001b[0;32min\u001b[0m \u001b[0mX\u001b[0m\u001b[0;34m]\u001b[0m\u001b[0;34m)\u001b[0m\u001b[0;34m\u001b[0m\u001b[0m\n\u001b[0m\u001b[1;32m    102\u001b[0m         \u001b[0mpool\u001b[0m\u001b[0;34m.\u001b[0m\u001b[0mterminate\u001b[0m\u001b[0;34m(\u001b[0m\u001b[0;34m)\u001b[0m\u001b[0;34m\u001b[0m\u001b[0m\n\u001b[1;32m    103\u001b[0m         \u001b[0;32mreturn\u001b[0m \u001b[0mnp\u001b[0m\u001b[0;34m.\u001b[0m\u001b[0marray\u001b[0m\u001b[0;34m(\u001b[0m\u001b[0mclassifications\u001b[0m\u001b[0;34m)\u001b[0m\u001b[0;34m\u001b[0m\u001b[0m\n",
      "\u001b[0;32m/usr/local/Cellar/python/3.7.0/Frameworks/Python.framework/Versions/3.7/lib/python3.7/multiprocessing/pool.py\u001b[0m in \u001b[0;36mmap\u001b[0;34m(self, func, iterable, chunksize)\u001b[0m\n\u001b[1;32m    266\u001b[0m         \u001b[0;32min\u001b[0m \u001b[0ma\u001b[0m \u001b[0mlist\u001b[0m \u001b[0mthat\u001b[0m \u001b[0;32mis\u001b[0m \u001b[0mreturned\u001b[0m\u001b[0;34m.\u001b[0m\u001b[0;34m\u001b[0m\u001b[0m\n\u001b[1;32m    267\u001b[0m         '''\n\u001b[0;32m--> 268\u001b[0;31m         \u001b[0;32mreturn\u001b[0m \u001b[0mself\u001b[0m\u001b[0;34m.\u001b[0m\u001b[0m_map_async\u001b[0m\u001b[0;34m(\u001b[0m\u001b[0mfunc\u001b[0m\u001b[0;34m,\u001b[0m \u001b[0miterable\u001b[0m\u001b[0;34m,\u001b[0m \u001b[0mmapstar\u001b[0m\u001b[0;34m,\u001b[0m \u001b[0mchunksize\u001b[0m\u001b[0;34m)\u001b[0m\u001b[0;34m.\u001b[0m\u001b[0mget\u001b[0m\u001b[0;34m(\u001b[0m\u001b[0;34m)\u001b[0m\u001b[0;34m\u001b[0m\u001b[0m\n\u001b[0m\u001b[1;32m    269\u001b[0m \u001b[0;34m\u001b[0m\u001b[0m\n\u001b[1;32m    270\u001b[0m     \u001b[0;32mdef\u001b[0m \u001b[0mstarmap\u001b[0m\u001b[0;34m(\u001b[0m\u001b[0mself\u001b[0m\u001b[0;34m,\u001b[0m \u001b[0mfunc\u001b[0m\u001b[0;34m,\u001b[0m \u001b[0miterable\u001b[0m\u001b[0;34m,\u001b[0m \u001b[0mchunksize\u001b[0m\u001b[0;34m=\u001b[0m\u001b[0;32mNone\u001b[0m\u001b[0;34m)\u001b[0m\u001b[0;34m:\u001b[0m\u001b[0;34m\u001b[0m\u001b[0m\n",
      "\u001b[0;32m/usr/local/Cellar/python/3.7.0/Frameworks/Python.framework/Versions/3.7/lib/python3.7/multiprocessing/pool.py\u001b[0m in \u001b[0;36mget\u001b[0;34m(self, timeout)\u001b[0m\n\u001b[1;32m    649\u001b[0m \u001b[0;34m\u001b[0m\u001b[0m\n\u001b[1;32m    650\u001b[0m     \u001b[0;32mdef\u001b[0m \u001b[0mget\u001b[0m\u001b[0;34m(\u001b[0m\u001b[0mself\u001b[0m\u001b[0;34m,\u001b[0m \u001b[0mtimeout\u001b[0m\u001b[0;34m=\u001b[0m\u001b[0;32mNone\u001b[0m\u001b[0;34m)\u001b[0m\u001b[0;34m:\u001b[0m\u001b[0;34m\u001b[0m\u001b[0m\n\u001b[0;32m--> 651\u001b[0;31m         \u001b[0mself\u001b[0m\u001b[0;34m.\u001b[0m\u001b[0mwait\u001b[0m\u001b[0;34m(\u001b[0m\u001b[0mtimeout\u001b[0m\u001b[0;34m)\u001b[0m\u001b[0;34m\u001b[0m\u001b[0m\n\u001b[0m\u001b[1;32m    652\u001b[0m         \u001b[0;32mif\u001b[0m \u001b[0;32mnot\u001b[0m \u001b[0mself\u001b[0m\u001b[0;34m.\u001b[0m\u001b[0mready\u001b[0m\u001b[0;34m(\u001b[0m\u001b[0;34m)\u001b[0m\u001b[0;34m:\u001b[0m\u001b[0;34m\u001b[0m\u001b[0m\n\u001b[1;32m    653\u001b[0m             \u001b[0;32mraise\u001b[0m \u001b[0mTimeoutError\u001b[0m\u001b[0;34m\u001b[0m\u001b[0m\n",
      "\u001b[0;32m/usr/local/Cellar/python/3.7.0/Frameworks/Python.framework/Versions/3.7/lib/python3.7/multiprocessing/pool.py\u001b[0m in \u001b[0;36mwait\u001b[0;34m(self, timeout)\u001b[0m\n\u001b[1;32m    646\u001b[0m \u001b[0;34m\u001b[0m\u001b[0m\n\u001b[1;32m    647\u001b[0m     \u001b[0;32mdef\u001b[0m \u001b[0mwait\u001b[0m\u001b[0;34m(\u001b[0m\u001b[0mself\u001b[0m\u001b[0;34m,\u001b[0m \u001b[0mtimeout\u001b[0m\u001b[0;34m=\u001b[0m\u001b[0;32mNone\u001b[0m\u001b[0;34m)\u001b[0m\u001b[0;34m:\u001b[0m\u001b[0;34m\u001b[0m\u001b[0m\n\u001b[0;32m--> 648\u001b[0;31m         \u001b[0mself\u001b[0m\u001b[0;34m.\u001b[0m\u001b[0m_event\u001b[0m\u001b[0;34m.\u001b[0m\u001b[0mwait\u001b[0m\u001b[0;34m(\u001b[0m\u001b[0mtimeout\u001b[0m\u001b[0;34m)\u001b[0m\u001b[0;34m\u001b[0m\u001b[0m\n\u001b[0m\u001b[1;32m    649\u001b[0m \u001b[0;34m\u001b[0m\u001b[0m\n\u001b[1;32m    650\u001b[0m     \u001b[0;32mdef\u001b[0m \u001b[0mget\u001b[0m\u001b[0;34m(\u001b[0m\u001b[0mself\u001b[0m\u001b[0;34m,\u001b[0m \u001b[0mtimeout\u001b[0m\u001b[0;34m=\u001b[0m\u001b[0;32mNone\u001b[0m\u001b[0;34m)\u001b[0m\u001b[0;34m:\u001b[0m\u001b[0;34m\u001b[0m\u001b[0m\n",
      "\u001b[0;32m/usr/local/Cellar/python/3.7.0/Frameworks/Python.framework/Versions/3.7/lib/python3.7/threading.py\u001b[0m in \u001b[0;36mwait\u001b[0;34m(self, timeout)\u001b[0m\n\u001b[1;32m    550\u001b[0m             \u001b[0msignaled\u001b[0m \u001b[0;34m=\u001b[0m \u001b[0mself\u001b[0m\u001b[0;34m.\u001b[0m\u001b[0m_flag\u001b[0m\u001b[0;34m\u001b[0m\u001b[0m\n\u001b[1;32m    551\u001b[0m             \u001b[0;32mif\u001b[0m \u001b[0;32mnot\u001b[0m \u001b[0msignaled\u001b[0m\u001b[0;34m:\u001b[0m\u001b[0;34m\u001b[0m\u001b[0m\n\u001b[0;32m--> 552\u001b[0;31m                 \u001b[0msignaled\u001b[0m \u001b[0;34m=\u001b[0m \u001b[0mself\u001b[0m\u001b[0;34m.\u001b[0m\u001b[0m_cond\u001b[0m\u001b[0;34m.\u001b[0m\u001b[0mwait\u001b[0m\u001b[0;34m(\u001b[0m\u001b[0mtimeout\u001b[0m\u001b[0;34m)\u001b[0m\u001b[0;34m\u001b[0m\u001b[0m\n\u001b[0m\u001b[1;32m    553\u001b[0m             \u001b[0;32mreturn\u001b[0m \u001b[0msignaled\u001b[0m\u001b[0;34m\u001b[0m\u001b[0m\n\u001b[1;32m    554\u001b[0m \u001b[0;34m\u001b[0m\u001b[0m\n",
      "\u001b[0;32m/usr/local/Cellar/python/3.7.0/Frameworks/Python.framework/Versions/3.7/lib/python3.7/threading.py\u001b[0m in \u001b[0;36mwait\u001b[0;34m(self, timeout)\u001b[0m\n\u001b[1;32m    294\u001b[0m         \u001b[0;32mtry\u001b[0m\u001b[0;34m:\u001b[0m    \u001b[0;31m# restore state no matter what (e.g., KeyboardInterrupt)\u001b[0m\u001b[0;34m\u001b[0m\u001b[0m\n\u001b[1;32m    295\u001b[0m             \u001b[0;32mif\u001b[0m \u001b[0mtimeout\u001b[0m \u001b[0;32mis\u001b[0m \u001b[0;32mNone\u001b[0m\u001b[0;34m:\u001b[0m\u001b[0;34m\u001b[0m\u001b[0m\n\u001b[0;32m--> 296\u001b[0;31m                 \u001b[0mwaiter\u001b[0m\u001b[0;34m.\u001b[0m\u001b[0macquire\u001b[0m\u001b[0;34m(\u001b[0m\u001b[0;34m)\u001b[0m\u001b[0;34m\u001b[0m\u001b[0m\n\u001b[0m\u001b[1;32m    297\u001b[0m                 \u001b[0mgotit\u001b[0m \u001b[0;34m=\u001b[0m \u001b[0;32mTrue\u001b[0m\u001b[0;34m\u001b[0m\u001b[0m\n\u001b[1;32m    298\u001b[0m             \u001b[0;32melse\u001b[0m\u001b[0;34m:\u001b[0m\u001b[0;34m\u001b[0m\u001b[0m\n",
      "\u001b[0;31mKeyboardInterrupt\u001b[0m: "
     ]
    }
   ],
   "source": [
    "percents = np.arange(0,1.01,0.05)\n",
    "accuracies = []\n",
    "stds = []\n",
    "for percent in percents:\n",
    "    print (\"Percent:\", percent)\n",
    "    scores = alterStrat.cross_validate(percent, 10)\n",
    "    print(\"Accuracy: %0.2f (+/- %0.2f)\" % (scores.mean(), scores.std()))\n",
    "    accuracies.append(scores.mean())\n",
    "    stds.append(scores.std())\n",
    "accuracies = np.array(accuracies)\n",
    "stds = np.array(stds)\n",
    "\n",
    "result = np.column_stack((percents,accuracies,stds))"
   ]
  },
  {
   "cell_type": "code",
   "execution_count": null,
   "metadata": {},
   "outputs": [],
   "source": [
    "filename = '{}_{}_result.npy'.format(estimator.name, alterStrat.name)\n",
    "print(filename)\n",
    "np.save(path.join(gsa_path, filename), result)"
   ]
  },
  {
   "cell_type": "code",
   "execution_count": null,
   "metadata": {},
   "outputs": [],
   "source": [
    "print(result)"
   ]
  },
  {
   "cell_type": "code",
   "execution_count": null,
   "metadata": {},
   "outputs": [],
   "source": [
    "#list(zip(*list(result)))"
   ]
  },
  {
   "cell_type": "code",
   "execution_count": null,
   "metadata": {},
   "outputs": [],
   "source": []
  },
  {
   "cell_type": "code",
   "execution_count": null,
   "metadata": {},
   "outputs": [],
   "source": []
  },
  {
   "cell_type": "code",
   "execution_count": null,
   "metadata": {},
   "outputs": [],
   "source": []
  },
  {
   "cell_type": "code",
   "execution_count": null,
   "metadata": {},
   "outputs": [],
   "source": []
  },
  {
   "cell_type": "code",
   "execution_count": null,
   "metadata": {},
   "outputs": [],
   "source": []
  },
  {
   "cell_type": "code",
   "execution_count": null,
   "metadata": {},
   "outputs": [],
   "source": []
  },
  {
   "cell_type": "code",
   "execution_count": null,
   "metadata": {},
   "outputs": [],
   "source": []
  },
  {
   "cell_type": "code",
   "execution_count": null,
   "metadata": {},
   "outputs": [],
   "source": []
  }
 ],
 "metadata": {
  "kernelspec": {
   "display_name": "Python 3",
   "language": "python",
   "name": "python3"
  },
  "language_info": {
   "codemirror_mode": {
    "name": "ipython",
    "version": 3
   },
   "file_extension": ".py",
   "mimetype": "text/x-python",
   "name": "python",
   "nbconvert_exporter": "python",
   "pygments_lexer": "ipython3",
   "version": "3.7.0"
  }
 },
 "nbformat": 4,
 "nbformat_minor": 2
}
