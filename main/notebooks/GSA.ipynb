{
 "cells": [
  {
   "cell_type": "markdown",
   "metadata": {},
   "source": [
    "In order to speed up processing time when running classification algorithms, it is often useful to choose only the most \"best\" genes to use.  There are various algorithms available to choose genes, however here we use Chi2 Select K best.  K is how many genes you wish to use for testing stability.  More genese is usually better, however again in order to speed up processing time we limit the number of genes used.  This program allows you to set a min and max number of genes and an interval.  This will in turn setup numpy arrays with class and the select number of genes for further processing by FASTR and FASTrand."
   ]
  },
  {
   "cell_type": "markdown",
   "metadata": {},
   "source": [
    "### Libraries\n",
    "Must be pre-installed.  Recommended to use virtual environment."
   ]
  },
  {
   "cell_type": "code",
   "execution_count": 325,
   "metadata": {},
   "outputs": [],
   "source": [
    "import numpy as np\n",
    "from enum import Enum\n",
    "from random import shuffle\n",
    "from os import path, getcwd, makedirs\n",
    "from sklearn.feature_selection import SelectKBest, chi2\n",
    "from sklearn.model_selection import StratifiedKFold\n",
    "from collections import Counter\n",
    "from sklearn.metrics import mean_squared_error\n",
    "from scipy.sparse.linalg import lsqr\n",
    "from math import sqrt\n",
    "from random import uniform, choice\n",
    "from sklearn import svm\n",
    "from sklearn import datasets"
   ]
  },
  {
   "cell_type": "markdown",
   "metadata": {},
   "source": [
    "## Methods and Classes"
   ]
  },
  {
   "cell_type": "code",
   "execution_count": null,
   "metadata": {},
   "outputs": [],
   "source": []
  },
  {
   "cell_type": "code",
   "execution_count": null,
   "metadata": {},
   "outputs": [],
   "source": []
  },
  {
   "cell_type": "code",
   "execution_count": 163,
   "metadata": {},
   "outputs": [],
   "source": [
    "class AlterStrategy(Enum):\n",
    "    GREEDY = 0\n",
    "    CHI2 = 1\n",
    "    RAND = 2\n",
    "    PERCENT = 3"
   ]
  },
  {
   "cell_type": "markdown",
   "metadata": {},
   "source": [
    "### NBC.py"
   ]
  },
  {
   "cell_type": "code",
   "execution_count": 522,
   "metadata": {},
   "outputs": [],
   "source": [
    "class Model:\n",
    "    \"\"\"Describes the model class.\"\"\"\n",
    "\n",
    "    def __init__(self, samples, eps, class_label):\n",
    "        \"\"\"Initialize the model class.\n",
    "\n",
    "        Args:\n",
    "            samples: training samples of size [samples, genes].\n",
    "            eps: epsilon value for correlation cutoff.\n",
    "            class_label: classification label.\n",
    "        \"\"\"\n",
    "\n",
    "        self.class_label = class_label\n",
    "        self.samples = np.array(samples)\n",
    "        self.eps = eps\n",
    "\n",
    "        # columns are variables, rows are samples\n",
    "        self.correlation = np.corrcoef(self.samples, y=None, rowvar=False)\n",
    "\n",
    "        # note that the mask is actually the graph\n",
    "        self.mask = (np.absolute(self.correlation) > self.eps)\n",
    "\n",
    "        # the coefficients associated with the system of equation: Ax=b,\n",
    "        # where A is an equation list created from the neighbors of gene\n",
    "        # n and b is the value of gene n.\n",
    "        self.geneFuncMasks = []  # these are the coefficients in Ax=b\n",
    "        for gene in range(len(self.correlation)):\n",
    "            currMask = self.mask[gene]\n",
    "            setOfNeighbors = []\n",
    "            solutions = []\n",
    "            for sample in self.samples:\n",
    "                neighbors = [sample[neighbor] if (currMask[neighbor] and (gene != neighbor))\n",
    "                             else 0 for neighbor in range(len(currMask))]\n",
    "                neighbors.append(1)\n",
    "                setOfNeighbors.append(neighbors)\n",
    "                solutions.append(sample[gene])\n",
    "            coeff = self.solver(setOfNeighbors, solutions, 2)\n",
    "            self.geneFuncMasks.append(coeff.tolist())\n",
    "\n",
    "        self.coefficients = np.array(self.geneFuncMasks)\n",
    "\n",
    "    def solver(self, neighbors, sols, choice):\n",
    "        # Use lsqr to solve Ax=b\n",
    "        A = np.array(neighbors)\n",
    "        b = np.array(sols)\n",
    "        x = lsqr(A, b)[0]\n",
    "        return x\n",
    "\n",
    "    def expression(self, sample):\n",
    "        \"\"\"Given a sample, return the hypothetical expression.\n",
    "\n",
    "        Args:\n",
    "            sample: the sample whose hypothetical expression we wish to\n",
    "            calculate\n",
    "        Returns:\n",
    "            expr: A list with the expression values of size number of genes.\n",
    "        \"\"\"\n",
    "        expression = []\n",
    "        for gene in range(len(self.coefficients)):\n",
    "            geneVal = 0\n",
    "            for neighbor in range(len(self.mask)-1):\n",
    "                geneVal += self.coefficients[gene][neighbor] * sample[neighbor]\n",
    "            geneVal += self.coefficients[gene][len(self.mask)]\n",
    "            expression.append(geneVal)\n",
    "        return np.array(expression)\n",
    "\n",
    "    def label (self):\n",
    "        \"\"\"Return the classification label of this model.\"\"\"\n",
    "        return self.class_label\n",
    "\n",
    "\n",
    "class NetworkBasedClassifier:\n",
    "    \"\"\"Describes the NBClassifier class.\"\"\"\n",
    "\n",
    "    def __init__(self, epsilon):\n",
    "        \"\"\"Initialize a NBF classifier.\n",
    "\n",
    "        Args:\n",
    "            eps: epsilon value\n",
    "        \"\"\"\n",
    "        self.models = []\n",
    "        self.epsilon = epsilon\n",
    "\n",
    "    def fit(self, X, y):\n",
    "        \"\"\"Fit the data with classes to create class models.\n",
    "\n",
    "        Fits the data [num_samples, num_genes] with classifications\n",
    "        [num_samples] to the model.  Creates as many models as classes.\n",
    "\n",
    "        Args:\n",
    "            X: the data we wish to train the classifier on\n",
    "            y: the classifications associated with the samples\n",
    "        \"\"\"\n",
    "        y = np.array(y)\n",
    "        X = np.array(X)\n",
    "        for key in Counter(y):\n",
    "            a_class = np.where(y == key)\n",
    "            self.models.append(Model([X[i] for i in a_class[0]], self.epsilon, key))\n",
    "\n",
    "            \n",
    "    def score(self, X, y):\n",
    "        \"\"\"Scores the classifications of a given set of samples (X) according to their\n",
    "        actual clsssifications (y).\n",
    "\n",
    "        Must fit the classifier before this method is called.\n",
    "\n",
    "        Args:\n",
    "            samples: the samples we wish to predict classification for.\n",
    "\n",
    "        Returns:\n",
    "            accuracy: the classification accuracy\n",
    "        \"\"\"\n",
    "        y = np.array(y)\n",
    "        X = np.array(X)\n",
    "        predicted = self.predict(X)        \n",
    "        correct = np.asarray(predicted == y)\n",
    "        return np.sum(correct)/correct.shape[0]        \n",
    "        \n",
    "        \n",
    "    def predict(self, X):\n",
    "        \"\"\"Predict the classification of a sample.\n",
    "\n",
    "        Must fit the classifier before this method is called.\n",
    "\n",
    "        Args:\n",
    "            samples: the samples we wish to predict classification for.\n",
    "\n",
    "        Returns:\n",
    "            classifications: the classifications of the samples.\n",
    "        \"\"\"\n",
    "        classifications = []\n",
    "        for sample in X:\n",
    "            RMSEs = []\n",
    "            for model in self.models:\n",
    "                rmse = sqrt( mean_squared_error(sample, model.expression(sample)))\n",
    "                RMSEs.append(rmse)\n",
    "            min_index = RMSEs.index(min(RMSEs))\n",
    "            label = self.models[min_index].label()\n",
    "            classifications.append(label)\n",
    "        return np.array(classifications)"
   ]
  },
  {
   "cell_type": "markdown",
   "metadata": {},
   "source": [
    "### Common.py"
   ]
  },
  {
   "cell_type": "code",
   "execution_count": 511,
   "metadata": {},
   "outputs": [],
   "source": [
    "def getAccuracy ( index, chosen, notChosen, series, size, type, change, flag = False, folds = 10, repeats = 10 ):\n",
    "\n",
    "    if ( change == 0 ):\n",
    "        test = [ i for i in chosen ]\n",
    "        test.append( notChosen[ index ] )\n",
    "\n",
    "    if ( change == 1 or change == 2 or change == 3 ):\n",
    "        test = index\n",
    "\n",
    "    classes = np.load ( \"FAST/%s_classes.npy\" % series )\n",
    "    exprs = np.load ( \"FAST/%s_%03d_fs_genes.npy\" % ( series, size ) )\n",
    "\n",
    "    training, testing = kFoldInd ( classes, folds )\n",
    "\n",
    "    if (flag):\n",
    "        classifiers = multi.getClassifiers( type, training, classes, exprs )\n",
    "        avg = multi.avgAccuracy( classifiers, testing, classes, exprs, change, test, series )\n",
    "    else :\n",
    "        classifiers = serial.getClassifiers( type, training, classes, exprs )\n",
    "        avg = serial.avgAccuracy( classifiers, testing, classes, exprs, change, test, series  )\n",
    "\n",
    "    return index, avg"
   ]
  },
  {
   "cell_type": "markdown",
   "metadata": {},
   "source": [
    "### Alter.py"
   ]
  },
  {
   "cell_type": "code",
   "execution_count": 512,
   "metadata": {},
   "outputs": [],
   "source": [
    "def alter (exprs, percent):\n",
    "    result = []\n",
    "    for expr in exprs:\n",
    "        alt = []\n",
    "        for gene in expr:\n",
    "            _offset = gene * percent\n",
    "            _low = gene - _offset\n",
    "            _high = gene + _offset\n",
    "            alt.append(choice([_low, _high]))\n",
    "        result.append(alt)\n",
    "    return np.array(result)"
   ]
  },
  {
   "cell_type": "code",
   "execution_count": null,
   "metadata": {},
   "outputs": [],
   "source": []
  },
  {
   "cell_type": "code",
   "execution_count": null,
   "metadata": {},
   "outputs": [],
   "source": []
  },
  {
   "cell_type": "markdown",
   "metadata": {},
   "source": [
    "## START MAIN PROGRAM"
   ]
  },
  {
   "cell_type": "markdown",
   "metadata": {},
   "source": [
    "###### Enter the series and feature_size to use\n",
    "Must be all upper case. e.g. `\"GSE27562\"`"
   ]
  },
  {
   "cell_type": "code",
   "execution_count": 480,
   "metadata": {},
   "outputs": [],
   "source": [
    "series = \"GSE19804\"\n",
    "feature_size = 10\n",
    "fs_strategy = fsStrategy.KBEST"
   ]
  },
  {
   "cell_type": "markdown",
   "metadata": {},
   "source": [
    "### Get/Create Directories\n",
    "Assumes this notebook is in `GenClass-Stability/main/notebooks/`"
   ]
  },
  {
   "cell_type": "code",
   "execution_count": 481,
   "metadata": {},
   "outputs": [],
   "source": [
    "notebook_dir = getcwd();\n",
    "main_dir = path.dirname(path.dirname(notebook_dir))\n",
    "load_path = path.join(main_dir, \"GSE\", series)\n",
    "gsa_path = path.join(main_dir,\"GSA\", series, str(feature_size))\n",
    "if not path.exists(gsa_path):\n",
    "    makedirs(gsa_path)"
   ]
  },
  {
   "cell_type": "markdown",
   "metadata": {},
   "source": [
    "### Import Classes and Expressions\n",
    "Load original data. Assumes SIT and custome GSE script have been run to import data."
   ]
  },
  {
   "cell_type": "code",
   "execution_count": 482,
   "metadata": {},
   "outputs": [],
   "source": [
    "classes =np.loadtxt(path.join(load_path, \"classes.txt\"), dtype=np.str, delimiter=\"\\t\")\n",
    "exprs = np.loadtxt(path.join(load_path, \"exprs.txt\"), delimiter=\"\\t\")"
   ]
  },
  {
   "cell_type": "markdown",
   "metadata": {},
   "source": [
    "Select K best genes for analysis."
   ]
  },
  {
   "cell_type": "code",
   "execution_count": 483,
   "metadata": {},
   "outputs": [],
   "source": [
    "b = SelectKBest(chi2, feature_size).fit(exprs, classes)\n",
    "a = b.get_support(indices = True)\n",
    "exprs = exprs[:, a]"
   ]
  },
  {
   "cell_type": "markdown",
   "metadata": {},
   "source": [
    "Save the selected expression data for potential later use."
   ]
  },
  {
   "cell_type": "code",
   "execution_count": 484,
   "metadata": {},
   "outputs": [],
   "source": [
    "np.save(path.join(gsa_path,\"exprs.npy\"), exprs)\n",
    "np.save(path.join(gsa_path,\"classses.npy\"), classes)"
   ]
  },
  {
   "cell_type": "markdown",
   "metadata": {},
   "source": [
    "## Stability Test I"
   ]
  },
  {
   "cell_type": "code",
   "execution_count": 485,
   "metadata": {},
   "outputs": [
    {
     "data": {
      "text/plain": [
       "(120, 10)"
      ]
     },
     "execution_count": 485,
     "metadata": {},
     "output_type": "execute_result"
    }
   ],
   "source": [
    "exprs.shape"
   ]
  },
  {
   "cell_type": "code",
   "execution_count": 486,
   "metadata": {},
   "outputs": [],
   "source": [
    "#exprs_alt = alter(exprs,1)\n",
    "#exprs_alt"
   ]
  },
  {
   "cell_type": "code",
   "execution_count": 487,
   "metadata": {},
   "outputs": [],
   "source": [
    "#import multiprocessing\n",
    "#multiprocessing.cpu_count()"
   ]
  },
  {
   "cell_type": "code",
   "execution_count": 516,
   "metadata": {},
   "outputs": [],
   "source": [
    "def crossValidate(estimator, X, y, cv=10, alt=0):\n",
    "    scores = []\n",
    "    skf = StratifiedKFold(cv)\n",
    "    for train_index, test_index in skf.split(X, y):\n",
    "        estimator.fit(X[train_index], y[train_index]) \n",
    "        accuracy = estimator.score(alter(X[test_index], alt), y[test_index])\n",
    "        scores.append(accuracy)\n",
    "    return np.array(scores)"
   ]
  },
  {
   "cell_type": "code",
   "execution_count": 533,
   "metadata": {},
   "outputs": [
    {
     "name": "stdout",
     "output_type": "stream",
     "text": [
      "[0.66666667 0.58333333 0.83333333 0.58333333 0.41666667 0.75\n",
      " 0.58333333 0.66666667 0.5        0.33333333]\n",
      "Accuracy: 0.59 (+/- 0.28)\n"
     ]
    }
   ],
   "source": [
    "svc = NetworkBasedClassifier( 0.8 )\n",
    "scores = crossValidate(svc, exprs, classes, 10, 1)\n",
    "print(scores)\n",
    "print(\"Accuracy: %0.2f (+/- %0.2f)\" % (scores.mean(), scores.std() * 2))"
   ]
  },
  {
   "cell_type": "code",
   "execution_count": null,
   "metadata": {},
   "outputs": [],
   "source": []
  },
  {
   "cell_type": "code",
   "execution_count": null,
   "metadata": {},
   "outputs": [],
   "source": []
  },
  {
   "cell_type": "code",
   "execution_count": null,
   "metadata": {},
   "outputs": [],
   "source": []
  },
  {
   "cell_type": "code",
   "execution_count": null,
   "metadata": {},
   "outputs": [],
   "source": []
  },
  {
   "cell_type": "code",
   "execution_count": null,
   "metadata": {},
   "outputs": [],
   "source": []
  },
  {
   "cell_type": "code",
   "execution_count": null,
   "metadata": {},
   "outputs": [],
   "source": []
  },
  {
   "cell_type": "code",
   "execution_count": null,
   "metadata": {},
   "outputs": [],
   "source": []
  },
  {
   "cell_type": "code",
   "execution_count": null,
   "metadata": {},
   "outputs": [],
   "source": []
  },
  {
   "cell_type": "code",
   "execution_count": null,
   "metadata": {},
   "outputs": [],
   "source": []
  }
 ],
 "metadata": {
  "kernelspec": {
   "display_name": "Python 3",
   "language": "python",
   "name": "python3"
  },
  "language_info": {
   "codemirror_mode": {
    "name": "ipython",
    "version": 3
   },
   "file_extension": ".py",
   "mimetype": "text/x-python",
   "name": "python",
   "nbconvert_exporter": "python",
   "pygments_lexer": "ipython3",
   "version": "3.7.0"
  }
 },
 "nbformat": 4,
 "nbformat_minor": 2
}
