{
 "cells": [
  {
   "cell_type": "markdown",
   "metadata": {},
   "source": [
    "# GSA - Genetic Stability Analyzer"
   ]
  },
  {
   "cell_type": "markdown",
   "metadata": {},
   "source": [
    "In order to speed up processing time when running classification algorithms, it is often useful to choose only the most \"best\" genes to use.  There are various algorithms available to choose genes, however here we use Chi2 Select K best.  K is how many genes you wish to use for testing stability.  More genese is usually better, however again in order to speed up processing time we limit the number of genes used.  This program allows you to set a min and max number of genes and an interval.  This will in turn setup numpy arrays with class and the select number of genes for further processing by FASTR and FASTrand."
   ]
  },
  {
   "cell_type": "markdown",
   "metadata": {},
   "source": [
    "### Libraries\n",
    "Must be pre-installed.  Recommended to use virtual environment."
   ]
  },
  {
   "cell_type": "code",
   "execution_count": 1,
   "metadata": {},
   "outputs": [
    {
     "name": "stderr",
     "output_type": "stream",
     "text": [
      "/Users/terek/.virtualenvs/py370/lib/python3.7/site-packages/sklearn/ensemble/weight_boosting.py:29: DeprecationWarning: numpy.core.umath_tests is an internal NumPy module and should not be imported. It will be removed in a future NumPy release.\n",
      "  from numpy.core.umath_tests import inner1d\n"
     ]
    }
   ],
   "source": [
    "import numpy as np\n",
    "from random import sample, choice\n",
    "from os import path, getcwd, makedirs\n",
    "from sklearn.feature_selection import SelectKBest, chi2\n",
    "from sklearn.model_selection import StratifiedKFold\n",
    "from collections import Counter\n",
    "from sklearn.metrics import mean_squared_error\n",
    "from scipy.sparse.linalg import lsqr\n",
    "from math import sqrt, floor\n",
    "from sklearn import svm\n",
    "import multiprocessing as mp\n",
    "from enum import Enum\n",
    "from sklearn.neighbors import KNeighborsClassifier\n",
    "from sklearn.ensemble import RandomForestClassifier\n",
    "from sklearn.naive_bayes import GaussianNB\n",
    "from sklearn import svm"
   ]
  },
  {
   "cell_type": "markdown",
   "metadata": {},
   "source": [
    "## Methods and Classes\n",
    "This section defines all classes and methods used.  The corresponding methods and classes for each .py file found in `main/Python` are described here."
   ]
  },
  {
   "cell_type": "markdown",
   "metadata": {},
   "source": [
    "### NBC.py"
   ]
  },
  {
   "cell_type": "markdown",
   "metadata": {},
   "source": [
    "The NBC.py file contains two classes: Model and NBC.  The Network-based supervised classification technique (NBC) is described in [Ahmet Ay et al](http://journals.sagepub.com/doi/abs/10.4137/CIN.S14025).  Briefly, for each gene, a model is constructed from the gene's neighbors.  The model is a function of the form:\n",
    "\n",
    "gene_expressipn @ g = neigh1X + neigh2X +....neighNx + C\n",
    "\n",
    "The set of expressions for all genes creates the expressio nmodel."
   ]
  },
  {
   "cell_type": "code",
   "execution_count": 2,
   "metadata": {},
   "outputs": [],
   "source": [
    "class Model:\n",
    "    \"\"\"Describes the model class.\"\"\"\n",
    "\n",
    "    def __init__(self, samples, eps, class_label):\n",
    "        \"\"\"Initialize the model class.\n",
    "\n",
    "        Args:\n",
    "            samples: training samples of size [samples, genes].\n",
    "            eps: epsilon value for correlation cutoff.\n",
    "            class_label: classification label.\n",
    "        \"\"\"\n",
    "\n",
    "        self.class_label = class_label\n",
    "        self.samples = np.array(samples)\n",
    "        self.eps = eps\n",
    "\n",
    "        # columns are variables, rows are samples\n",
    "        self.correlation = np.corrcoef(self.samples, y=None, rowvar=False)\n",
    "\n",
    "        # note that the mask is actually the graph\n",
    "        self.mask = (np.absolute(self.correlation) > self.eps)\n",
    "\n",
    "        # the coefficients associated with the system of equation: Ax=b,\n",
    "        # where A is an equation list created from the neighbors of gene\n",
    "        # n and b is the value of gene n.\n",
    "        self.geneFuncMasks = []  # these are the coefficients in Ax=b\n",
    "        for gene in range(len(self.correlation)):\n",
    "            currMask = self.mask[gene]\n",
    "            setOfNeighbors = []\n",
    "            solutions = []\n",
    "            for sample in self.samples:\n",
    "                neighbors = [sample[neighbor] if (currMask[neighbor] and (gene != neighbor))\n",
    "                             else 0 for neighbor in range(len(currMask))]\n",
    "                neighbors.append(1)\n",
    "                setOfNeighbors.append(neighbors)\n",
    "                solutions.append(sample[gene])\n",
    "            coeff = self.solver(setOfNeighbors, solutions, 2)\n",
    "            self.geneFuncMasks.append(coeff.tolist())\n",
    "\n",
    "        self.coefficients = np.array(self.geneFuncMasks)\n",
    "\n",
    "    def solver(self, neighbors, sols, choice):\n",
    "        # Use lsqr to solve Ax=b\n",
    "        A = np.array(neighbors)\n",
    "        b = np.array(sols)\n",
    "        x = lsqr(A, b)[0]\n",
    "        return x\n",
    "\n",
    "    def expression(self, sample):\n",
    "        \"\"\"Given a sample, return the hypothetical expression.\n",
    "\n",
    "        Args:\n",
    "            sample: the sample whose hypothetical expression we wish to\n",
    "            calculate\n",
    "        Returns:\n",
    "            expr: A list with the expression values of size number of genes.\n",
    "        \"\"\"\n",
    "        expression = []\n",
    "        for gene in range(len(self.coefficients)):\n",
    "            geneVal = 0\n",
    "            for neighbor in range(len(self.mask)-1):\n",
    "                geneVal += self.coefficients[gene][neighbor] * sample[neighbor]\n",
    "            geneVal += self.coefficients[gene][len(self.mask)]\n",
    "            expression.append(geneVal)\n",
    "        return np.array(expression)\n",
    "\n",
    "    def label (self):\n",
    "        \"\"\"Return the classification label of this model.\"\"\"\n",
    "        return self.class_label\n",
    "\n",
    "\n",
    "class NetworkBasedClassifier:\n",
    "    \"\"\"Describes the NBClassifier class.\"\"\"\n",
    "\n",
    "    def __init__(self, epsilon):\n",
    "        \"\"\"Initialize a NBF classifier.\n",
    "\n",
    "        Args:\n",
    "            eps: epsilon value\n",
    "        \"\"\"\n",
    "        self.models = []\n",
    "        self.epsilon = epsilon\n",
    "\n",
    "    def fit(self, X, y):\n",
    "        \"\"\"Fit the data with classes to create class models.\n",
    "\n",
    "        Fits the data [num_samples, num_genes] with classifications\n",
    "        [num_samples] to the model.  Creates as many models as classes.\n",
    "\n",
    "        Args:\n",
    "            X: the data we wish to train the classifier on\n",
    "            y: the classifications associated with the samples\n",
    "        \"\"\"\n",
    "        y = np.array(y)\n",
    "        X = np.array(X)\n",
    "        for key in Counter(y):\n",
    "            a_class = np.where(y == key)\n",
    "            self.models.append(Model([X[i] for i in a_class[0]], self.epsilon, key))\n",
    "\n",
    "            \n",
    "    def score(self, X, y):\n",
    "        \"\"\"Scores the classifications of a given set of samples (X) according to their\n",
    "        actual clsssifications (y).\n",
    "\n",
    "        Must fit the classifier before this method is called.\n",
    "\n",
    "        Args:\n",
    "            samples: the samples we wish to predict classification for.\n",
    "\n",
    "        Returns:\n",
    "            accuracy: the classification accuracy\n",
    "        \"\"\"\n",
    "        y = np.array(y)\n",
    "        X = np.array(X)\n",
    "        predicted = self.predict(X)        \n",
    "        correct = np.asarray(predicted == y)\n",
    "        return np.sum(correct)/correct.shape[0]        \n",
    "        \n",
    "        \n",
    "    def predict(self, X):\n",
    "        \"\"\"Predict the classification of a sample.\n",
    "\n",
    "        Must fit the classifier before this method is called.\n",
    "\n",
    "        Args:\n",
    "            samples: the samples we wish to predict classification for.\n",
    "\n",
    "        Returns:\n",
    "            classifications: the classifications of the samples.\n",
    "        \"\"\"\n",
    "        classifications = []\n",
    "        for sample in X:\n",
    "            RMSEs = []\n",
    "            for model in self.models:\n",
    "                rmse = sqrt( mean_squared_error(sample, model.expression(sample)))\n",
    "                RMSEs.append(rmse)\n",
    "            min_index = RMSEs.index(min(RMSEs))\n",
    "            label = self.models[min_index].label()\n",
    "            classifications.append(label)\n",
    "        return np.array(classifications)"
   ]
  },
  {
   "cell_type": "markdown",
   "metadata": {},
   "source": [
    "### Alter.py\n",
    "The Alter.py file contains all methods and helper methods used to alter expressions.  There are currently four methods to alter expressions:\n",
    "\n",
    "1) Greedy - uses a greed strategy to select the top k genes that will produce the largest bad accuracy\n",
    "2) All - alters all genes by some percent amount.\n",
    "3) Subset - alters a subset of the genes selected via chi2 value\n",
    "4) RandSubset - alters a subset of the genes selected randomly\n"
   ]
  },
  {
   "cell_type": "code",
   "execution_count": 3,
   "metadata": {},
   "outputs": [],
   "source": [
    "class AlterStrategy:\n",
    "    \"\"\"Describes the alteration strategy used.\"\"\"\n",
    "\n",
    "    # Alter strategies included:\n",
    "    ALL = 0\n",
    "    SUB = 1\n",
    "    RANDSUB = 2\n",
    "    GREEDY = 3\n",
    "    \n",
    "    def __init__(self,\n",
    "                 _type):\n",
    "        self._type = _type\n",
    "     \n",
    "    \n",
    "    def getType(self):\n",
    "        return self._type\n",
    "    \n",
    "    def getName(self):\n",
    "        return self._name\n",
    "    \n",
    "    def Accuracy(estimator, X, y, chosen, idx_to_change):\n",
    "        # TODO: run multiple times and return avg accuracy\n",
    "        result = []\n",
    "        for x in X:\n",
    "            alt = np.copy(x)\n",
    "            # alter prev chosen\n",
    "            for i in chosen:\n",
    "                #alt[i] = choice([0, alt[i]*2]) \n",
    "                alt[i] = 0\n",
    "            # alter new gene\n",
    "            #alt[idx_to_change] = choice([0, alt[idx_to_change]*2]) \n",
    "            alt[idx_to_change] = 0\n",
    "            result.append(alt)\n",
    "        result = np.array(result)\n",
    "        return estimator.score(result, y)\n",
    "\n",
    "    '''Static method'''\n",
    "    def RankGreedy(estimator, X, y):\n",
    "        fileName = '{}greedyRank.npy'.format(estimator.getName())\n",
    "        if (path.exists(path.join(gsa_path, fileName))):\n",
    "            return\n",
    "        print(\"GREEDY RANK INITIALIZER - THIS CAN TAKE A WHILE.\")\n",
    "        estimator.fit(X,y)\n",
    "        notChosen = list(range(X.shape[1]))\n",
    "        chosen = []\n",
    "        for i in range(X.shape[1]):\n",
    "            pool = mp.Pool(processes = mp.cpu_count())\n",
    "            accuracy = pool.starmap(AlterStrategy.Accuracy, [(estimator, X, y, chosen, idx) for idx in notChosen])\n",
    "            a = [x for _,x in sorted(zip(accuracy, notChosen))]\n",
    "            chosen.append(a[0])\n",
    "            print(notChosen)\n",
    "            print(accuracy)\n",
    "            notChosen.remove(a[0])  \n",
    "            print(chosen)\n",
    "        np.save(path.join(gsa_path,fileName), chosen)\n",
    "        \n",
    "    def Subset(percent, X):\n",
    "        \"\"\"\n",
    "        B/c genese are already ordered by chi2 rank we can choose top k to alter.\n",
    "        \"\"\"\n",
    "        result = []\n",
    "        idx = floor(X[0].size * percent)\n",
    "        if idx <= 0:\n",
    "            return X\n",
    "        else:\n",
    "            for x in X:\n",
    "                alt = np.copy(x)\n",
    "                for i in range(idx):\n",
    "                    alt[i] = choice([0, alt[i]*2])\n",
    "                result.append(alt)\n",
    "            return np.array(result)\n",
    "\n",
    "    def RandSubset(percent,X):\n",
    "        result = []\n",
    "        k = floor(X[0].size * percent)\n",
    "        if k <= 0:\n",
    "            return X\n",
    "        else:\n",
    "            indices = sample(range(X[0].size),k)\n",
    "            for x in X:\n",
    "                alt = np.copy(x)\n",
    "                for i in indices:\n",
    "                    alt[i] = choice([0, alt[i]*2])\n",
    "                result.append(alt)\n",
    "            return np.array(result)\n",
    "        \n",
    "    def All(percent, X):\n",
    "        result = []\n",
    "        for x in X:\n",
    "            alt = []\n",
    "            for gene in x:\n",
    "                _offset = gene * percent\n",
    "                _low = gene - _offset\n",
    "                _high = gene + _offset\n",
    "                alt.append(choice([_low, _high]))\n",
    "            result.append(alt)\n",
    "        return np.array(result)        \n",
    "        \n",
    "    def Greedy(percent, X, estimator):\n",
    "        result = []\n",
    "        k = floor(X[0].size * percent)\n",
    "        if k <= 0:\n",
    "            return X        \n",
    "        else:\n",
    "            file = path.join(gsa_path,'{}greedyRank.npy'.format(estimator.getName()))\n",
    "            indices = np.load(file)\n",
    "            for x in X:\n",
    "                alt = np.copy(x)\n",
    "                for i in indices:\n",
    "                    alt[i] = choice([0, alt[i]*2])\n",
    "                result.append(alt)\n",
    "            return np.array(result)        \n",
    "        \n",
    "    def Alter(self, percent, X, estimator):\n",
    "        if self._type == AlterStrategy.ALL:\n",
    "            return AlterStrategy.All(percent, X)\n",
    "        elif self._type == AlterStrategy.SUB:\n",
    "            return AlterStrategy.Subset(percent, X)\n",
    "        elif self._type == AlterStrategy.RANDSUB:\n",
    "            return AlterStrategy.RandSubset(percent, X)\n",
    "        elif self._type == AlterStrategy.GREEDY:\n",
    "            return AlterStrategy.Greedy(percent, X, estimator)\n"
   ]
  },
  {
   "cell_type": "markdown",
   "metadata": {},
   "source": [
    "#### Helpers"
   ]
  },
  {
   "cell_type": "markdown",
   "metadata": {},
   "source": [
    "The strategy is to choose greedily, however because of the random choice from the Accuracy method strategy, different genese may be chose, thus affecting the order in which the rank returns.  In general, the top gene should be the top gene in all cases, but as it progresses the genese can switch."
   ]
  },
  {
   "cell_type": "markdown",
   "metadata": {},
   "source": [
    "### Common.py\n",
    "These are files that are helpers for the main program.  They consist of two methods:\n",
    "1) A method to order the K best ranked genes.  This is used in conjunction with Atler.py Subset method.\n",
    "2) A method to cross validate.  This is different than normal cross validation in that the estimator is fit to correct data while the score is derived from altered data."
   ]
  },
  {
   "cell_type": "code",
   "execution_count": 4,
   "metadata": {},
   "outputs": [],
   "source": [
    "def SelectKBestRanked(k, X, y):    \n",
    "    b = SelectKBest(chi2, k).fit(X, y)\n",
    "    a = b.get_support(indices = True)\n",
    "    a = [x for _,x in sorted(zip(b.scores_[a],a),reverse=True)]\n",
    "    return np.array(a)"
   ]
  },
  {
   "cell_type": "code",
   "execution_count": 5,
   "metadata": {},
   "outputs": [],
   "source": [
    "def crossValidate(estimator, X, y, alterStrat, percent=0, cv=10):\n",
    "    scores = []\n",
    "    skf = StratifiedKFold(cv)\n",
    "    for train_index, test_index in skf.split(X, y):\n",
    "        estimator.fit(X[train_index], y[train_index]) \n",
    "        accuracy = estimator.score(\n",
    "            alterStrat.Alter(percent, X[test_index],estimator),\n",
    "            y[test_index])\n",
    "        scores.append(accuracy)\n",
    "    return np.array(scores)"
   ]
  },
  {
   "cell_type": "markdown",
   "metadata": {},
   "source": [
    "### Estimatory.py"
   ]
  },
  {
   "cell_type": "code",
   "execution_count": 6,
   "metadata": {},
   "outputs": [],
   "source": [
    "class Estimator:\n",
    "    \"\"\"Describes the classifier chooser.\"\"\"\n",
    "\n",
    "    # Classifiers included in the chooser\n",
    "    NBC = 0\n",
    "    KNN = 1\n",
    "    SVM = 2\n",
    "    RF = 3\n",
    "    NB = 4\n",
    "    \n",
    "    def __init__(self,\n",
    "                 _type,\n",
    "                 epsilon=0.8,\n",
    "                 neighbors=1):\n",
    "        \"\"\"Initialize a NBF classifier.\n",
    "\n",
    "        Args:\n",
    "            eps: epsilon value\n",
    "        \"\"\"\n",
    "        self._type = _type\n",
    "\n",
    "        # create the classifier\n",
    "        if _type == Estimator.NBC:\n",
    "            self._classifier = NetworkBasedClassifier(epsilon)\n",
    "            self._name = \"NBC\"\n",
    "        elif (_type == Estimator.kNN):\n",
    "            self._classifier = KNeighborsClassifier(neighbors)\n",
    "            self._name = \"KNN\"\n",
    "        elif (_type == Estimator.SVM):\n",
    "            self._classifier = svm.LinearSVC()\n",
    "            self._name = \"SVM\"\n",
    "        elif (_type == Estimator.RF):\n",
    "            self._classifier = RandomForestClassifier()\n",
    "            self._name = \"RF\"\n",
    "        elif (_type == Estimator.NB):\n",
    "            self._classifier = GaussianNB()\n",
    "            self._name = \"NB\"\n",
    "    \n",
    "    def getType(self):\n",
    "        return self._type\n",
    "    \n",
    "    def getName(self):\n",
    "        return self._name\n",
    "    \n",
    "    def fit(self, X, y):\n",
    "        self._classifier.fit(X,y)\n",
    "        \n",
    "    def score(self, X, y):\n",
    "        return self._classifier.score(X, y)\n",
    "        \n",
    "    def predict(self, X):\n",
    "        return self._classifier.predict(X)"
   ]
  },
  {
   "cell_type": "markdown",
   "metadata": {},
   "source": [
    "## START MAIN PROGRAM"
   ]
  },
  {
   "cell_type": "markdown",
   "metadata": {},
   "source": [
    "###### Enter the series and feature_size to use\n",
    "Must be all upper case. e.g. `\"GSE27562\"`"
   ]
  },
  {
   "cell_type": "code",
   "execution_count": 21,
   "metadata": {},
   "outputs": [],
   "source": [
    "series = \"GSE19804\"\n",
    "feature_size = 50\n",
    "alterStrat = AlterStrategy(AlterStrategy.GREEDY)\n",
    "estimator = Estimator(Estimator.kNN)"
   ]
  },
  {
   "cell_type": "markdown",
   "metadata": {},
   "source": [
    "### Get/Create Directories\n",
    "Assumes this notebook is in `GenClass-Stability/main/notebooks/`"
   ]
  },
  {
   "cell_type": "code",
   "execution_count": 22,
   "metadata": {},
   "outputs": [],
   "source": [
    "notebook_dir = getcwd();\n",
    "main_dir = path.dirname(path.dirname(notebook_dir))\n",
    "load_path = path.join(main_dir, \"GSE\", series)\n",
    "gsa_path = path.join(main_dir,\"GSA\", series, str(feature_size))\n",
    "if not path.exists(gsa_path):\n",
    "    makedirs(gsa_path)"
   ]
  },
  {
   "cell_type": "markdown",
   "metadata": {},
   "source": [
    "### Import Classes and Expressions\n",
    "Load original data. Assumes SIT and custome GSE script have been run to import data."
   ]
  },
  {
   "cell_type": "code",
   "execution_count": 23,
   "metadata": {},
   "outputs": [],
   "source": [
    "classes =np.loadtxt(path.join(load_path, \"classes.txt\"), dtype=np.str, delimiter=\"\\t\")\n",
    "exprs = np.loadtxt(path.join(load_path, \"exprs.txt\"), delimiter=\"\\t\")"
   ]
  },
  {
   "cell_type": "markdown",
   "metadata": {},
   "source": [
    "Select K best genes for analysis."
   ]
  },
  {
   "cell_type": "code",
   "execution_count": 24,
   "metadata": {},
   "outputs": [],
   "source": [
    "a = SelectKBestRanked(feature_size, exprs, classes)"
   ]
  },
  {
   "cell_type": "markdown",
   "metadata": {},
   "source": [
    "Get selected genes from expressions."
   ]
  },
  {
   "cell_type": "code",
   "execution_count": 25,
   "metadata": {},
   "outputs": [],
   "source": [
    "exprs = exprs[:, a]"
   ]
  },
  {
   "cell_type": "markdown",
   "metadata": {},
   "source": [
    "Save the selected expression data for potential later use."
   ]
  },
  {
   "cell_type": "code",
   "execution_count": 26,
   "metadata": {},
   "outputs": [],
   "source": [
    "np.save(path.join(gsa_path,\"exprs.npy\"), exprs)\n",
    "np.save(path.join(gsa_path,\"classses.npy\"), classes)"
   ]
  },
  {
   "cell_type": "markdown",
   "metadata": {},
   "source": [
    "### Stability Test"
   ]
  },
  {
   "cell_type": "code",
   "execution_count": 27,
   "metadata": {},
   "outputs": [
    {
     "name": "stdout",
     "output_type": "stream",
     "text": [
      "GREEDY RANK INITIALIZER - THIS CAN TAKE A WHILE.\n",
      "[0, 1, 2, 3, 4, 5, 6, 7, 8, 9, 10, 11, 12, 13, 14, 15, 16, 17, 18, 19, 20, 21, 22, 23, 24, 25, 26, 27, 28, 29, 30, 31, 32, 33, 34, 35, 36, 37, 38, 39, 40, 41, 42, 43, 44, 45, 46, 47, 48, 49]\n",
      "[1.0, 1.0, 1.0, 1.0, 1.0, 0.9833333333333333, 0.9833333333333333, 0.9916666666666667, 1.0, 1.0, 0.9916666666666667, 1.0, 0.9916666666666667, 0.9916666666666667, 1.0, 1.0, 0.9916666666666667, 1.0, 1.0, 1.0, 1.0, 0.9916666666666667, 1.0, 1.0, 1.0, 1.0, 1.0, 1.0, 1.0, 0.975, 1.0, 1.0, 1.0, 1.0, 0.9916666666666667, 1.0, 0.9833333333333333, 1.0, 1.0, 1.0, 1.0, 0.9916666666666667, 1.0, 1.0, 0.9916666666666667, 1.0, 1.0, 1.0, 0.9916666666666667, 1.0]\n",
      "[29]\n",
      "[0, 1, 2, 3, 4, 5, 6, 7, 8, 9, 10, 11, 12, 13, 14, 15, 16, 17, 18, 19, 20, 21, 22, 23, 24, 25, 26, 27, 28, 30, 31, 32, 33, 34, 35, 36, 37, 38, 39, 40, 41, 42, 43, 44, 45, 46, 47, 48, 49]\n",
      "[0.9666666666666667, 0.9583333333333334, 0.975, 0.9833333333333333, 0.9666666666666667, 0.975, 0.9833333333333333, 0.9833333333333333, 0.975, 0.975, 0.9833333333333333, 0.95, 0.9833333333333333, 0.9833333333333333, 0.9833333333333333, 0.9833333333333333, 0.9833333333333333, 0.975, 0.9916666666666667, 0.9833333333333333, 0.9833333333333333, 0.95, 0.9666666666666667, 0.9833333333333333, 0.8833333333333333, 0.9916666666666667, 0.9833333333333333, 0.95, 0.9416666666666667, 0.9833333333333333, 0.9833333333333333, 0.9583333333333334, 0.9833333333333333, 0.8666666666666667, 0.975, 0.9833333333333333, 0.9833333333333333, 0.975, 0.9916666666666667, 0.9833333333333333, 0.9916666666666667, 0.975, 0.9833333333333333, 0.9833333333333333, 0.9833333333333333, 0.9333333333333333, 0.9833333333333333, 0.9833333333333333, 0.9916666666666667]\n",
      "[29, 34]\n",
      "[0, 1, 2, 3, 4, 5, 6, 7, 8, 9, 10, 11, 12, 13, 14, 15, 16, 17, 18, 19, 20, 21, 22, 23, 24, 25, 26, 27, 28, 30, 31, 32, 33, 35, 36, 37, 38, 39, 40, 41, 42, 43, 44, 45, 46, 47, 48, 49]\n",
      "[0.8666666666666667, 0.8583333333333333, 0.9083333333333333, 0.9583333333333334, 0.8333333333333334, 0.9166666666666666, 0.9833333333333333, 0.9083333333333333, 0.975, 0.8416666666666667, 0.9833333333333333, 0.8583333333333333, 0.9333333333333333, 0.9833333333333333, 0.8916666666666667, 0.875, 0.9833333333333333, 0.8833333333333333, 0.9583333333333334, 0.9, 0.9833333333333333, 0.875, 0.8833333333333333, 0.8916666666666667, 0.8666666666666667, 0.9833333333333333, 0.9583333333333334, 0.8583333333333333, 0.8583333333333333, 0.9166666666666666, 0.9833333333333333, 0.825, 0.9166666666666666, 0.8583333333333333, 0.925, 0.975, 0.8833333333333333, 0.9833333333333333, 0.875, 0.975, 0.8416666666666667, 0.8916666666666667, 0.975, 0.9833333333333333, 0.85, 0.9416666666666667, 0.9833333333333333, 0.9]\n",
      "[29, 34, 32]\n",
      "[0, 1, 2, 3, 4, 5, 6, 7, 8, 9, 10, 11, 12, 13, 14, 15, 16, 17, 18, 19, 20, 21, 22, 23, 24, 25, 26, 27, 28, 30, 31, 33, 35, 36, 37, 38, 39, 40, 41, 42, 43, 44, 45, 46, 47, 48, 49]\n",
      "[0.8, 0.8166666666666667, 0.875, 0.9083333333333333, 0.8333333333333334, 0.9166666666666666, 0.975, 0.9083333333333333, 0.9333333333333333, 0.8166666666666667, 0.9833333333333333, 0.8416666666666667, 0.8583333333333333, 0.9833333333333333, 0.8833333333333333, 0.8416666666666667, 0.9833333333333333, 0.825, 0.9416666666666667, 0.7833333333333333, 0.975, 0.9083333333333333, 0.8333333333333334, 0.8666666666666667, 0.875, 0.975, 0.9666666666666667, 0.8416666666666667, 0.85, 0.8916666666666667, 0.975, 0.9, 0.8, 0.9083333333333333, 0.9416666666666667, 0.8666666666666667, 0.9416666666666667, 0.8, 0.9, 0.7916666666666666, 0.8833333333333333, 0.9833333333333333, 0.95, 0.7916666666666666, 0.875, 0.975, 0.8916666666666667]\n",
      "[29, 34, 32, 19]\n",
      "[0, 1, 2, 3, 4, 5, 6, 7, 8, 9, 10, 11, 12, 13, 14, 15, 16, 17, 18, 20, 21, 22, 23, 24, 25, 26, 27, 28, 30, 31, 33, 35, 36, 37, 38, 39, 40, 41, 42, 43, 44, 45, 46, 47, 48, 49]\n",
      "[0.7166666666666667, 0.7666666666666667, 0.85, 0.9, 0.775, 0.8916666666666667, 0.9916666666666667, 0.9, 0.8916666666666667, 0.7166666666666667, 0.9833333333333333, 0.7916666666666666, 0.8416666666666667, 0.9666666666666667, 0.7916666666666666, 0.7916666666666666, 0.975, 0.8166666666666667, 0.8833333333333333, 0.9333333333333333, 0.8583333333333333, 0.775, 0.825, 0.8416666666666667, 0.925, 0.9416666666666667, 0.7916666666666666, 0.7916666666666666, 0.85, 0.9583333333333334, 0.8666666666666667, 0.7416666666666667, 0.8833333333333333, 0.9166666666666666, 0.8333333333333334, 0.9666666666666667, 0.8166666666666667, 0.9083333333333333, 0.7416666666666667, 0.8416666666666667, 0.9583333333333334, 0.9583333333333334, 0.7666666666666667, 0.85, 0.9583333333333334, 0.825]\n",
      "[29, 34, 32, 19, 0]\n",
      "[1, 2, 3, 4, 5, 6, 7, 8, 9, 10, 11, 12, 13, 14, 15, 16, 17, 18, 20, 21, 22, 23, 24, 25, 26, 27, 28, 30, 31, 33, 35, 36, 37, 38, 39, 40, 41, 42, 43, 44, 45, 46, 47, 48, 49]\n",
      "[0.6666666666666666, 0.775, 0.8583333333333333, 0.7083333333333334, 0.8416666666666667, 0.925, 0.8416666666666667, 0.8166666666666667, 0.6666666666666666, 0.9333333333333333, 0.7, 0.7833333333333333, 0.925, 0.725, 0.725, 0.95, 0.725, 0.7833333333333333, 0.8583333333333333, 0.7666666666666667, 0.7166666666666667, 0.7833333333333333, 0.725, 0.85, 0.8833333333333333, 0.725, 0.6916666666666667, 0.775, 0.9166666666666666, 0.8166666666666667, 0.6666666666666666, 0.775, 0.8583333333333333, 0.7583333333333333, 0.925, 0.7333333333333333, 0.8416666666666667, 0.675, 0.7833333333333333, 0.9166666666666666, 0.9, 0.725, 0.8083333333333333, 0.8833333333333333, 0.775]\n",
      "[29, 34, 32, 19, 0, 1]\n",
      "[2, 3, 4, 5, 6, 7, 8, 9, 10, 11, 12, 13, 14, 15, 16, 17, 18, 20, 21, 22, 23, 24, 25, 26, 27, 28, 30, 31, 33, 35, 36, 37, 38, 39, 40, 41, 42, 43, 44, 45, 46, 47, 48, 49]\n",
      "[0.7166666666666667, 0.7833333333333333, 0.6416666666666667, 0.8083333333333333, 0.85, 0.7583333333333333, 0.7416666666666667, 0.475, 0.8833333333333333, 0.6333333333333333, 0.6916666666666667, 0.8666666666666667, 0.5833333333333334, 0.6666666666666666, 0.8916666666666667, 0.6416666666666667, 0.725, 0.775, 0.7166666666666667, 0.5166666666666667, 0.725, 0.6916666666666667, 0.7583333333333333, 0.8333333333333334, 0.6666666666666666, 0.6416666666666667, 0.7166666666666667, 0.875, 0.775, 0.625, 0.6333333333333333, 0.7166666666666667, 0.7083333333333334, 0.8083333333333333, 0.6666666666666666, 0.7333333333333333, 0.575, 0.7, 0.825, 0.85, 0.675, 0.7583333333333333, 0.825, 0.7166666666666667]\n",
      "[29, 34, 32, 19, 0, 1, 9]\n",
      "[2, 3, 4, 5, 6, 7, 8, 10, 11, 12, 13, 14, 15, 16, 17, 18, 20, 21, 22, 23, 24, 25, 26, 27, 28, 30, 31, 33, 35, 36, 37, 38, 39, 40, 41, 42, 43, 44, 45, 46, 47, 48, 49]\n",
      "[0.5333333333333333, 0.575, 0.475, 0.55, 0.7666666666666667, 0.5333333333333333, 0.5666666666666667, 0.7083333333333334, 0.475, 0.43333333333333335, 0.6916666666666667, 0.39166666666666666, 0.43333333333333335, 0.725, 0.5, 0.6916666666666667, 0.575, 0.475, 0.38333333333333336, 0.525, 0.5333333333333333, 0.5916666666666667, 0.6583333333333333, 0.4583333333333333, 0.45, 0.49166666666666664, 0.7833333333333333, 0.5666666666666667, 0.43333333333333335, 0.4083333333333333, 0.5666666666666667, 0.49166666666666664, 0.5916666666666667, 0.4166666666666667, 0.5666666666666667, 0.36666666666666664, 0.5083333333333333, 0.65, 0.6833333333333333, 0.5166666666666667, 0.6166666666666667, 0.6833333333333333, 0.5]\n",
      "[29, 34, 32, 19, 0, 1, 9, 42]\n",
      "[2, 3, 4, 5, 6, 7, 8, 10, 11, 12, 13, 14, 15, 16, 17, 18, 20, 21, 22, 23, 24, 25, 26, 27, 28, 30, 31, 33, 35, 36, 37, 38, 39, 40, 41, 43, 44, 45, 46, 47, 48, 49]\n",
      "[0.4166666666666667, 0.4166666666666667, 0.35833333333333334, 0.4, 0.7, 0.4166666666666667, 0.4666666666666667, 0.5833333333333334, 0.375, 0.375, 0.5916666666666667, 0.2916666666666667, 0.3416666666666667, 0.6583333333333333, 0.4583333333333333, 0.5333333333333333, 0.475, 0.36666666666666664, 0.31666666666666665, 0.4166666666666667, 0.375, 0.475, 0.55, 0.31666666666666665, 0.30833333333333335, 0.35833333333333334, 0.6833333333333333, 0.48333333333333334, 0.36666666666666664, 0.3333333333333333, 0.48333333333333334, 0.38333333333333336, 0.5083333333333333, 0.36666666666666664, 0.475, 0.39166666666666666, 0.525, 0.5833333333333334, 0.425, 0.5, 0.575, 0.35833333333333334]\n",
      "[29, 34, 32, 19, 0, 1, 9, 42, 14]\n",
      "[2, 3, 4, 5, 6, 7, 8, 10, 11, 12, 13, 15, 16, 17, 18, 20, 21, 22, 23, 24, 25, 26, 27, 28, 30, 31, 33, 35, 36, 37, 38, 39, 40, 41, 43, 44, 45, 46, 47, 48, 49]\n",
      "[0.36666666666666664, 0.45, 0.275, 0.35833333333333334, 0.6, 0.35, 0.39166666666666666, 0.525, 0.3, 0.4083333333333333, 0.5166666666666667, 0.31666666666666665, 0.5333333333333333, 0.36666666666666664, 0.5, 0.4583333333333333, 0.3, 0.26666666666666666, 0.35833333333333334, 0.2916666666666667, 0.43333333333333335, 0.4583333333333333, 0.3, 0.2916666666666667, 0.325, 0.5583333333333333, 0.39166666666666666, 0.26666666666666666, 0.35, 0.43333333333333335, 0.3333333333333333, 0.525, 0.31666666666666665, 0.43333333333333335, 0.3416666666666667, 0.49166666666666664, 0.49166666666666664, 0.31666666666666665, 0.39166666666666666, 0.49166666666666664, 0.3416666666666667]\n",
      "[29, 34, 32, 19, 0, 1, 9, 42, 14, 22]\n"
     ]
    },
    {
     "name": "stdout",
     "output_type": "stream",
     "text": [
      "[2, 3, 4, 5, 6, 7, 8, 10, 11, 12, 13, 15, 16, 17, 18, 20, 21, 23, 24, 25, 26, 27, 28, 30, 31, 33, 35, 36, 37, 38, 39, 40, 41, 43, 44, 45, 46, 47, 48, 49]\n",
      "[0.2916666666666667, 0.4083333333333333, 0.23333333333333334, 0.35, 0.5166666666666667, 0.3, 0.35, 0.5166666666666667, 0.25, 0.35833333333333334, 0.5, 0.2916666666666667, 0.49166666666666664, 0.3, 0.43333333333333335, 0.44166666666666665, 0.2916666666666667, 0.2833333333333333, 0.25, 0.4, 0.4083333333333333, 0.25833333333333336, 0.24166666666666667, 0.2833333333333333, 0.475, 0.3333333333333333, 0.26666666666666666, 0.375, 0.43333333333333335, 0.26666666666666666, 0.4583333333333333, 0.2916666666666667, 0.43333333333333335, 0.325, 0.48333333333333334, 0.49166666666666664, 0.225, 0.325, 0.4583333333333333, 0.3]\n",
      "[29, 34, 32, 19, 0, 1, 9, 42, 14, 22, 46]\n",
      "[2, 3, 4, 5, 6, 7, 8, 10, 11, 12, 13, 15, 16, 17, 18, 20, 21, 23, 24, 25, 26, 27, 28, 30, 31, 33, 35, 36, 37, 38, 39, 40, 41, 43, 44, 45, 47, 48, 49]\n",
      "[0.3, 0.26666666666666666, 0.2, 0.25833333333333336, 0.5166666666666667, 0.23333333333333334, 0.36666666666666664, 0.5166666666666667, 0.23333333333333334, 0.25, 0.5083333333333333, 0.225, 0.45, 0.26666666666666666, 0.43333333333333335, 0.36666666666666664, 0.225, 0.275, 0.20833333333333334, 0.4083333333333333, 0.36666666666666664, 0.19166666666666668, 0.20833333333333334, 0.275, 0.45, 0.275, 0.21666666666666667, 0.23333333333333334, 0.36666666666666664, 0.25833333333333336, 0.35833333333333334, 0.25, 0.35, 0.25, 0.4, 0.43333333333333335, 0.2833333333333333, 0.45, 0.23333333333333334]\n",
      "[29, 34, 32, 19, 0, 1, 9, 42, 14, 22, 46, 27]\n",
      "[2, 3, 4, 5, 6, 7, 8, 10, 11, 12, 13, 15, 16, 17, 18, 20, 21, 23, 24, 25, 26, 28, 30, 31, 33, 35, 36, 37, 38, 39, 40, 41, 43, 44, 45, 47, 48, 49]\n",
      "[0.25, 0.20833333333333334, 0.19166666666666668, 0.3333333333333333, 0.5166666666666667, 0.2916666666666667, 0.3333333333333333, 0.5083333333333333, 0.23333333333333334, 0.21666666666666667, 0.4583333333333333, 0.19166666666666668, 0.5583333333333333, 0.21666666666666667, 0.39166666666666666, 0.325, 0.30833333333333335, 0.225, 0.25, 0.36666666666666664, 0.275, 0.21666666666666667, 0.25833333333333336, 0.3416666666666667, 0.25, 0.21666666666666667, 0.2916666666666667, 0.26666666666666666, 0.225, 0.23333333333333334, 0.21666666666666667, 0.225, 0.24166666666666667, 0.38333333333333336, 0.375, 0.275, 0.325, 0.225]\n",
      "[29, 34, 32, 19, 0, 1, 9, 42, 14, 22, 46, 27, 4]\n",
      "[2, 3, 5, 6, 7, 8, 10, 11, 12, 13, 15, 16, 17, 18, 20, 21, 23, 24, 25, 26, 28, 30, 31, 33, 35, 36, 37, 38, 39, 40, 41, 43, 44, 45, 47, 48, 49]\n",
      "[0.23333333333333334, 0.21666666666666667, 0.38333333333333336, 0.49166666666666664, 0.325, 0.31666666666666665, 0.5, 0.21666666666666667, 0.20833333333333334, 0.4083333333333333, 0.19166666666666668, 0.5916666666666667, 0.19166666666666668, 0.39166666666666666, 0.3333333333333333, 0.35833333333333334, 0.225, 0.275, 0.325, 0.25833333333333336, 0.21666666666666667, 0.275, 0.375, 0.275, 0.2, 0.325, 0.24166666666666667, 0.225, 0.18333333333333332, 0.19166666666666668, 0.2, 0.26666666666666666, 0.4083333333333333, 0.30833333333333335, 0.275, 0.2833333333333333, 0.20833333333333334]\n",
      "[29, 34, 32, 19, 0, 1, 9, 42, 14, 22, 46, 27, 4, 39]\n",
      "[2, 3, 5, 6, 7, 8, 10, 11, 12, 13, 15, 16, 17, 18, 20, 21, 23, 24, 25, 26, 28, 30, 31, 33, 35, 36, 37, 38, 40, 41, 43, 44, 45, 47, 48, 49]\n",
      "[0.24166666666666667, 0.26666666666666666, 0.2916666666666667, 0.5083333333333333, 0.26666666666666666, 0.325, 0.5083333333333333, 0.20833333333333334, 0.2, 0.4666666666666667, 0.2, 0.525, 0.19166666666666668, 0.35833333333333334, 0.3416666666666667, 0.25833333333333336, 0.225, 0.21666666666666667, 0.35, 0.30833333333333335, 0.2, 0.25, 0.39166666666666666, 0.275, 0.19166666666666668, 0.26666666666666666, 0.2916666666666667, 0.23333333333333334, 0.2, 0.3, 0.25833333333333336, 0.39166666666666666, 0.35833333333333334, 0.2833333333333333, 0.35833333333333334, 0.21666666666666667]\n",
      "[29, 34, 32, 19, 0, 1, 9, 42, 14, 22, 46, 27, 4, 39, 17]\n",
      "[2, 3, 5, 6, 7, 8, 10, 11, 12, 13, 15, 16, 18, 20, 21, 23, 24, 25, 26, 28, 30, 31, 33, 35, 36, 37, 38, 40, 41, 43, 44, 45, 47, 48, 49]\n",
      "[0.26666666666666666, 0.26666666666666666, 0.23333333333333334, 0.5083333333333333, 0.20833333333333334, 0.3333333333333333, 0.5083333333333333, 0.2, 0.20833333333333334, 0.475, 0.21666666666666667, 0.4666666666666667, 0.25, 0.35833333333333334, 0.21666666666666667, 0.23333333333333334, 0.175, 0.38333333333333336, 0.3416666666666667, 0.2, 0.23333333333333334, 0.38333333333333336, 0.3333333333333333, 0.175, 0.23333333333333334, 0.35, 0.225, 0.20833333333333334, 0.3333333333333333, 0.275, 0.35833333333333334, 0.44166666666666665, 0.2916666666666667, 0.38333333333333336, 0.225]\n",
      "[29, 34, 32, 19, 0, 1, 9, 42, 14, 22, 46, 27, 4, 39, 17, 24]\n",
      "[2, 3, 5, 6, 7, 8, 10, 11, 12, 13, 15, 16, 18, 20, 21, 23, 25, 26, 28, 30, 31, 33, 35, 36, 37, 38, 40, 41, 43, 44, 45, 47, 48, 49]\n",
      "[0.23333333333333334, 0.175, 0.38333333333333336, 0.30833333333333335, 0.3333333333333333, 0.3333333333333333, 0.5083333333333333, 0.23333333333333334, 0.175, 0.425, 0.175, 0.5583333333333333, 0.24166666666666667, 0.35, 0.35833333333333334, 0.21666666666666667, 0.3333333333333333, 0.2916666666666667, 0.24166666666666667, 0.325, 0.3333333333333333, 0.26666666666666666, 0.15, 0.325, 0.24166666666666667, 0.23333333333333334, 0.18333333333333332, 0.2, 0.30833333333333335, 0.4166666666666667, 0.325, 0.2833333333333333, 0.3416666666666667, 0.23333333333333334]\n",
      "[29, 34, 32, 19, 0, 1, 9, 42, 14, 22, 46, 27, 4, 39, 17, 24, 35]\n",
      "[2, 3, 5, 6, 7, 8, 10, 11, 12, 13, 15, 16, 18, 20, 21, 23, 25, 26, 28, 30, 31, 33, 36, 37, 38, 40, 41, 43, 44, 45, 47, 48, 49]\n",
      "[0.19166666666666668, 0.20833333333333334, 0.30833333333333335, 0.3416666666666667, 0.23333333333333334, 0.26666666666666666, 0.44166666666666665, 0.16666666666666666, 0.16666666666666666, 0.36666666666666664, 0.175, 0.5583333333333333, 0.20833333333333334, 0.26666666666666666, 0.23333333333333334, 0.2, 0.3, 0.225, 0.2, 0.23333333333333334, 0.3, 0.30833333333333335, 0.21666666666666667, 0.2, 0.175, 0.175, 0.175, 0.25, 0.31666666666666665, 0.25, 0.23333333333333334, 0.31666666666666665, 0.175]\n",
      "[29, 34, 32, 19, 0, 1, 9, 42, 14, 22, 46, 27, 4, 39, 17, 24, 35, 11]\n",
      "[2, 3, 5, 6, 7, 8, 10, 12, 13, 15, 16, 18, 20, 21, 23, 25, 26, 28, 30, 31, 33, 36, 37, 38, 40, 41, 43, 44, 45, 47, 48, 49]\n",
      "[0.225, 0.225, 0.35, 0.3333333333333333, 0.31666666666666665, 0.31666666666666665, 0.475, 0.175, 0.39166666666666666, 0.18333333333333332, 0.575, 0.25, 0.31666666666666665, 0.3333333333333333, 0.225, 0.31666666666666665, 0.26666666666666666, 0.25, 0.30833333333333335, 0.31666666666666665, 0.325, 0.3, 0.20833333333333334, 0.18333333333333332, 0.16666666666666666, 0.18333333333333332, 0.30833333333333335, 0.4, 0.2833333333333333, 0.30833333333333335, 0.31666666666666665, 0.175]\n",
      "[29, 34, 32, 19, 0, 1, 9, 42, 14, 22, 46, 27, 4, 39, 17, 24, 35, 11, 40]\n",
      "[2, 3, 5, 6, 7, 8, 10, 12, 13, 15, 16, 18, 20, 21, 23, 25, 26, 28, 30, 31, 33, 36, 37, 38, 41, 43, 44, 45, 47, 48, 49]\n",
      "[0.24166666666666667, 0.225, 0.3, 0.2833333333333333, 0.225, 0.3, 0.475, 0.20833333333333334, 0.39166666666666666, 0.175, 0.5666666666666667, 0.20833333333333334, 0.3333333333333333, 0.24166666666666667, 0.225, 0.31666666666666665, 0.225, 0.19166666666666668, 0.23333333333333334, 0.3416666666666667, 0.31666666666666665, 0.225, 0.2, 0.19166666666666668, 0.16666666666666666, 0.26666666666666666, 0.3333333333333333, 0.24166666666666667, 0.275, 0.2916666666666667, 0.18333333333333332]\n",
      "[29, 34, 32, 19, 0, 1, 9, 42, 14, 22, 46, 27, 4, 39, 17, 24, 35, 11, 40, 41]\n",
      "[2, 3, 5, 6, 7, 8, 10, 12, 13, 15, 16, 18, 20, 21, 23, 25, 26, 28, 30, 31, 33, 36, 37, 38, 43, 44, 45, 47, 48, 49]\n",
      "[0.24166666666666667, 0.36666666666666664, 0.15, 0.475, 0.19166666666666668, 0.325, 0.5083333333333333, 0.19166666666666668, 0.4083333333333333, 0.16666666666666666, 0.3333333333333333, 0.21666666666666667, 0.4166666666666667, 0.2, 0.21666666666666667, 0.3333333333333333, 0.2916666666666667, 0.16666666666666666, 0.20833333333333334, 0.3416666666666667, 0.3, 0.16666666666666666, 0.25833333333333336, 0.225, 0.3, 0.225, 0.3, 0.38333333333333336, 0.3333333333333333, 0.175]\n",
      "[29, 34, 32, 19, 0, 1, 9, 42, 14, 22, 46, 27, 4, 39, 17, 24, 35, 11, 40, 41, 5]\n"
     ]
    },
    {
     "name": "stdout",
     "output_type": "stream",
     "text": [
      "[2, 3, 6, 7, 8, 10, 12, 13, 15, 16, 18, 20, 21, 23, 25, 26, 28, 30, 31, 33, 36, 37, 38, 43, 44, 45, 47, 48, 49]\n",
      "[0.20833333333333334, 0.39166666666666666, 0.3333333333333333, 0.2833333333333333, 0.36666666666666664, 0.5, 0.15833333333333333, 0.425, 0.15833333333333333, 0.5166666666666667, 0.21666666666666667, 0.4166666666666667, 0.2916666666666667, 0.19166666666666668, 0.3416666666666667, 0.19166666666666668, 0.18333333333333332, 0.16666666666666666, 0.35833333333333334, 0.2916666666666667, 0.3, 0.24166666666666667, 0.20833333333333334, 0.3416666666666667, 0.375, 0.2833333333333333, 0.4, 0.3, 0.16666666666666666]\n",
      "[29, 34, 32, 19, 0, 1, 9, 42, 14, 22, 46, 27, 4, 39, 17, 24, 35, 11, 40, 41, 5, 12]\n",
      "[2, 3, 6, 7, 8, 10, 13, 15, 16, 18, 20, 21, 23, 25, 26, 28, 30, 31, 33, 36, 37, 38, 43, 44, 45, 47, 48, 49]\n",
      "[0.21666666666666667, 0.4583333333333333, 0.3416666666666667, 0.30833333333333335, 0.30833333333333335, 0.4083333333333333, 0.38333333333333336, 0.16666666666666666, 0.5083333333333333, 0.24166666666666667, 0.475, 0.24166666666666667, 0.325, 0.36666666666666664, 0.20833333333333334, 0.23333333333333334, 0.13333333333333333, 0.39166666666666666, 0.4, 0.35, 0.25833333333333336, 0.21666666666666667, 0.375, 0.35833333333333334, 0.21666666666666667, 0.45, 0.25833333333333336, 0.15833333333333333]\n",
      "[29, 34, 32, 19, 0, 1, 9, 42, 14, 22, 46, 27, 4, 39, 17, 24, 35, 11, 40, 41, 5, 12, 30]\n",
      "[2, 3, 6, 7, 8, 10, 13, 15, 16, 18, 20, 21, 23, 25, 26, 28, 31, 33, 36, 37, 38, 43, 44, 45, 47, 48, 49]\n",
      "[0.19166666666666668, 0.48333333333333334, 0.35, 0.3, 0.18333333333333332, 0.15833333333333333, 0.13333333333333333, 0.14166666666666666, 0.425, 0.2, 0.38333333333333336, 0.19166666666666668, 0.3, 0.275, 0.175, 0.20833333333333334, 0.25, 0.3416666666666667, 0.4583333333333333, 0.14166666666666666, 0.13333333333333333, 0.23333333333333334, 0.2833333333333333, 0.13333333333333333, 0.475, 0.14166666666666666, 0.15]\n",
      "[29, 34, 32, 19, 0, 1, 9, 42, 14, 22, 46, 27, 4, 39, 17, 24, 35, 11, 40, 41, 5, 12, 30, 13]\n",
      "[2, 3, 6, 7, 8, 10, 15, 16, 18, 20, 21, 23, 25, 26, 28, 31, 33, 36, 37, 38, 43, 44, 45, 47, 48, 49]\n",
      "[0.20833333333333334, 0.48333333333333334, 0.425, 0.2916666666666667, 0.2, 0.15, 0.13333333333333333, 0.35, 0.14166666666666666, 0.43333333333333335, 0.13333333333333333, 0.3333333333333333, 0.175, 0.19166666666666668, 0.23333333333333334, 0.26666666666666666, 0.31666666666666665, 0.5, 0.13333333333333333, 0.15, 0.25, 0.175, 0.11666666666666667, 0.49166666666666664, 0.125, 0.13333333333333333]\n",
      "[29, 34, 32, 19, 0, 1, 9, 42, 14, 22, 46, 27, 4, 39, 17, 24, 35, 11, 40, 41, 5, 12, 30, 13, 45]\n",
      "[2, 3, 6, 7, 8, 10, 15, 16, 18, 20, 21, 23, 25, 26, 28, 31, 33, 36, 37, 38, 43, 44, 47, 48, 49]\n",
      "[0.20833333333333334, 0.4666666666666667, 0.225, 0.2, 0.18333333333333332, 0.13333333333333333, 0.125, 0.3333333333333333, 0.10833333333333334, 0.4166666666666667, 0.13333333333333333, 0.3333333333333333, 0.15, 0.18333333333333332, 0.21666666666666667, 0.24166666666666667, 0.19166666666666668, 0.5083333333333333, 0.11666666666666667, 0.13333333333333333, 0.18333333333333332, 0.15833333333333333, 0.4, 0.125, 0.10833333333333334]\n",
      "[29, 34, 32, 19, 0, 1, 9, 42, 14, 22, 46, 27, 4, 39, 17, 24, 35, 11, 40, 41, 5, 12, 30, 13, 45, 18]\n",
      "[2, 3, 6, 7, 8, 10, 15, 16, 20, 21, 23, 25, 26, 28, 31, 33, 36, 37, 38, 43, 44, 47, 48, 49]\n",
      "[0.2, 0.48333333333333334, 0.4166666666666667, 0.13333333333333333, 0.15833333333333333, 0.14166666666666666, 0.15, 0.19166666666666668, 0.4666666666666667, 0.11666666666666667, 0.325, 0.11666666666666667, 0.15833333333333333, 0.21666666666666667, 0.25, 0.13333333333333333, 0.5083333333333333, 0.125, 0.125, 0.11666666666666667, 0.19166666666666668, 0.225, 0.11666666666666667, 0.1]\n",
      "[29, 34, 32, 19, 0, 1, 9, 42, 14, 22, 46, 27, 4, 39, 17, 24, 35, 11, 40, 41, 5, 12, 30, 13, 45, 18, 49]\n",
      "[2, 3, 6, 7, 8, 10, 15, 16, 20, 21, 23, 25, 26, 28, 31, 33, 36, 37, 38, 43, 44, 47, 48]\n",
      "[0.15, 0.49166666666666664, 0.23333333333333334, 0.10833333333333334, 0.10833333333333334, 0.1, 0.10833333333333334, 0.14166666666666666, 0.21666666666666667, 0.11666666666666667, 0.4083333333333333, 0.1, 0.14166666666666666, 0.18333333333333332, 0.15, 0.125, 0.475, 0.1, 0.125, 0.11666666666666667, 0.1, 0.13333333333333333, 0.09166666666666666]\n",
      "[29, 34, 32, 19, 0, 1, 9, 42, 14, 22, 46, 27, 4, 39, 17, 24, 35, 11, 40, 41, 5, 12, 30, 13, 45, 18, 49, 48]\n",
      "[2, 3, 6, 7, 8, 10, 15, 16, 20, 21, 23, 25, 26, 28, 31, 33, 36, 37, 38, 43, 44, 47]\n",
      "[0.15, 0.49166666666666664, 0.175, 0.09166666666666666, 0.1, 0.09166666666666666, 0.09166666666666666, 0.15833333333333333, 0.175, 0.1, 0.4, 0.10833333333333334, 0.13333333333333333, 0.20833333333333334, 0.15, 0.16666666666666666, 0.5083333333333333, 0.09166666666666666, 0.11666666666666667, 0.10833333333333334, 0.09166666666666666, 0.13333333333333333]\n",
      "[29, 34, 32, 19, 0, 1, 9, 42, 14, 22, 46, 27, 4, 39, 17, 24, 35, 11, 40, 41, 5, 12, 30, 13, 45, 18, 49, 48, 7]\n",
      "[2, 3, 6, 8, 10, 15, 16, 20, 21, 23, 25, 26, 28, 31, 33, 36, 37, 38, 43, 44, 47]\n",
      "[0.15, 0.49166666666666664, 0.15, 0.10833333333333334, 0.09166666666666666, 0.1, 0.15833333333333333, 0.21666666666666667, 0.1, 0.5083333333333333, 0.10833333333333334, 0.14166666666666666, 0.225, 0.16666666666666666, 0.18333333333333332, 0.5083333333333333, 0.09166666666666666, 0.125, 0.15, 0.09166666666666666, 0.14166666666666666]\n",
      "[29, 34, 32, 19, 0, 1, 9, 42, 14, 22, 46, 27, 4, 39, 17, 24, 35, 11, 40, 41, 5, 12, 30, 13, 45, 18, 49, 48, 7, 10]\n",
      "[2, 3, 6, 8, 15, 16, 20, 21, 23, 25, 26, 28, 31, 33, 36, 37, 38, 43, 44, 47]\n",
      "[0.15, 0.49166666666666664, 0.15, 0.10833333333333334, 0.1, 0.15, 0.19166666666666668, 0.1, 0.5, 0.1, 0.14166666666666666, 0.2, 0.15, 0.15, 0.5083333333333333, 0.09166666666666666, 0.11666666666666667, 0.10833333333333334, 0.09166666666666666, 0.13333333333333333]\n",
      "[29, 34, 32, 19, 0, 1, 9, 42, 14, 22, 46, 27, 4, 39, 17, 24, 35, 11, 40, 41, 5, 12, 30, 13, 45, 18, 49, 48, 7, 10, 37]\n",
      "[2, 3, 6, 8, 15, 16, 20, 21, 23, 25, 26, 28, 31, 33, 36, 38, 43, 44, 47]\n",
      "[0.15, 0.49166666666666664, 0.15, 0.10833333333333334, 0.09166666666666666, 0.13333333333333333, 0.21666666666666667, 0.10833333333333334, 0.49166666666666664, 0.09166666666666666, 0.13333333333333333, 0.15, 0.15, 0.075, 0.5, 0.11666666666666667, 0.09166666666666666, 0.09166666666666666, 0.13333333333333333]\n",
      "[29, 34, 32, 19, 0, 1, 9, 42, 14, 22, 46, 27, 4, 39, 17, 24, 35, 11, 40, 41, 5, 12, 30, 13, 45, 18, 49, 48, 7, 10, 37, 33]\n",
      "[2, 3, 6, 8, 15, 16, 20, 21, 23, 25, 26, 28, 31, 36, 38, 43, 44, 47]\n",
      "[0.14166666666666666, 0.4666666666666667, 0.15, 0.09166666666666666, 0.08333333333333333, 0.14166666666666666, 0.15, 0.09166666666666666, 0.49166666666666664, 0.09166666666666666, 0.125, 0.14166666666666666, 0.13333333333333333, 0.5, 0.10833333333333334, 0.075, 0.075, 0.10833333333333334]\n",
      "[29, 34, 32, 19, 0, 1, 9, 42, 14, 22, 46, 27, 4, 39, 17, 24, 35, 11, 40, 41, 5, 12, 30, 13, 45, 18, 49, 48, 7, 10, 37, 33, 43]\n",
      "[2, 3, 6, 8, 15, 16, 20, 21, 23, 25, 26, 28, 31, 36, 38, 44, 47]\n",
      "[0.14166666666666666, 0.48333333333333334, 0.15, 0.09166666666666666, 0.08333333333333333, 0.13333333333333333, 0.175, 0.09166666666666666, 0.49166666666666664, 0.09166666666666666, 0.125, 0.15, 0.14166666666666666, 0.5, 0.10833333333333334, 0.075, 0.11666666666666667]\n",
      "[29, 34, 32, 19, 0, 1, 9, 42, 14, 22, 46, 27, 4, 39, 17, 24, 35, 11, 40, 41, 5, 12, 30, 13, 45, 18, 49, 48, 7, 10, 37, 33, 43, 44]\n",
      "[2, 3, 6, 8, 15, 16, 20, 21, 23, 25, 26, 28, 31, 36, 38, 47]\n",
      "[0.14166666666666666, 0.4666666666666667, 0.15, 0.09166666666666666, 0.08333333333333333, 0.13333333333333333, 0.15833333333333333, 0.09166666666666666, 0.49166666666666664, 0.09166666666666666, 0.125, 0.15, 0.13333333333333333, 0.5, 0.10833333333333334, 0.10833333333333334]\n",
      "[29, 34, 32, 19, 0, 1, 9, 42, 14, 22, 46, 27, 4, 39, 17, 24, 35, 11, 40, 41, 5, 12, 30, 13, 45, 18, 49, 48, 7, 10, 37, 33, 43, 44, 15]\n",
      "[2, 3, 6, 8, 16, 20, 21, 23, 25, 26, 28, 31, 36, 38, 47]\n",
      "[0.15, 0.49166666666666664, 0.15, 0.1, 0.13333333333333333, 0.18333333333333332, 0.09166666666666666, 0.49166666666666664, 0.09166666666666666, 0.13333333333333333, 0.15833333333333333, 0.14166666666666666, 0.5, 0.10833333333333334, 0.125]\n",
      "[29, 34, 32, 19, 0, 1, 9, 42, 14, 22, 46, 27, 4, 39, 17, 24, 35, 11, 40, 41, 5, 12, 30, 13, 45, 18, 49, 48, 7, 10, 37, 33, 43, 44, 15, 21]\n"
     ]
    },
    {
     "name": "stdout",
     "output_type": "stream",
     "text": [
      "[2, 3, 6, 8, 16, 20, 23, 25, 26, 28, 31, 36, 38, 47]\n",
      "[0.15, 0.49166666666666664, 0.15, 0.10833333333333334, 0.13333333333333333, 0.21666666666666667, 0.5, 0.09166666666666666, 0.13333333333333333, 0.15833333333333333, 0.15, 0.5, 0.125, 0.13333333333333333]\n",
      "[29, 34, 32, 19, 0, 1, 9, 42, 14, 22, 46, 27, 4, 39, 17, 24, 35, 11, 40, 41, 5, 12, 30, 13, 45, 18, 49, 48, 7, 10, 37, 33, 43, 44, 15, 21, 25]\n",
      "[2, 3, 6, 8, 16, 20, 23, 26, 28, 31, 36, 38, 47]\n",
      "[0.13333333333333333, 0.44166666666666665, 0.125, 0.08333333333333333, 0.125, 0.15, 0.45, 0.11666666666666667, 0.18333333333333332, 0.125, 0.48333333333333334, 0.08333333333333333, 0.11666666666666667]\n",
      "[29, 34, 32, 19, 0, 1, 9, 42, 14, 22, 46, 27, 4, 39, 17, 24, 35, 11, 40, 41, 5, 12, 30, 13, 45, 18, 49, 48, 7, 10, 37, 33, 43, 44, 15, 21, 25, 8]\n",
      "[2, 3, 6, 16, 20, 23, 26, 28, 31, 36, 38, 47]\n",
      "[0.14166666666666666, 0.4583333333333333, 0.15, 0.14166666666666666, 0.15833333333333333, 0.49166666666666664, 0.11666666666666667, 0.15833333333333333, 0.14166666666666666, 0.5, 0.10833333333333334, 0.10833333333333334]\n",
      "[29, 34, 32, 19, 0, 1, 9, 42, 14, 22, 46, 27, 4, 39, 17, 24, 35, 11, 40, 41, 5, 12, 30, 13, 45, 18, 49, 48, 7, 10, 37, 33, 43, 44, 15, 21, 25, 8, 38]\n",
      "[2, 3, 6, 16, 20, 23, 26, 28, 31, 36, 47]\n",
      "[0.18333333333333332, 0.5, 0.20833333333333334, 0.15, 0.325, 0.5, 0.14166666666666666, 0.19166666666666668, 0.15833333333333333, 0.5, 0.14166666666666666]\n",
      "[29, 34, 32, 19, 0, 1, 9, 42, 14, 22, 46, 27, 4, 39, 17, 24, 35, 11, 40, 41, 5, 12, 30, 13, 45, 18, 49, 48, 7, 10, 37, 33, 43, 44, 15, 21, 25, 8, 38, 26]\n",
      "[2, 3, 6, 16, 20, 23, 28, 31, 36, 47]\n",
      "[0.43333333333333335, 0.5, 0.35833333333333334, 0.275, 0.49166666666666664, 0.5, 0.38333333333333336, 0.375, 0.5, 0.30833333333333335]\n",
      "[29, 34, 32, 19, 0, 1, 9, 42, 14, 22, 46, 27, 4, 39, 17, 24, 35, 11, 40, 41, 5, 12, 30, 13, 45, 18, 49, 48, 7, 10, 37, 33, 43, 44, 15, 21, 25, 8, 38, 26, 16]\n",
      "[2, 3, 6, 20, 23, 28, 31, 36, 47]\n",
      "[0.5083333333333333, 0.5, 0.5, 0.5, 0.5083333333333333, 0.45, 0.5083333333333333, 0.5, 0.48333333333333334]\n",
      "[29, 34, 32, 19, 0, 1, 9, 42, 14, 22, 46, 27, 4, 39, 17, 24, 35, 11, 40, 41, 5, 12, 30, 13, 45, 18, 49, 48, 7, 10, 37, 33, 43, 44, 15, 21, 25, 8, 38, 26, 16, 28]\n",
      "[2, 3, 6, 20, 23, 31, 36, 47]\n",
      "[0.4166666666666667, 0.5583333333333333, 0.5, 0.5, 0.39166666666666666, 0.4166666666666667, 0.575, 0.4166666666666667]\n",
      "[29, 34, 32, 19, 0, 1, 9, 42, 14, 22, 46, 27, 4, 39, 17, 24, 35, 11, 40, 41, 5, 12, 30, 13, 45, 18, 49, 48, 7, 10, 37, 33, 43, 44, 15, 21, 25, 8, 38, 26, 16, 28, 23]\n",
      "[2, 3, 6, 20, 31, 36, 47]\n",
      "[0.38333333333333336, 0.4166666666666667, 0.5, 0.5, 0.4, 0.6, 0.38333333333333336]\n",
      "[29, 34, 32, 19, 0, 1, 9, 42, 14, 22, 46, 27, 4, 39, 17, 24, 35, 11, 40, 41, 5, 12, 30, 13, 45, 18, 49, 48, 7, 10, 37, 33, 43, 44, 15, 21, 25, 8, 38, 26, 16, 28, 23, 2]\n",
      "[3, 6, 20, 31, 36, 47]\n",
      "[0.4166666666666667, 0.5, 0.5, 0.425, 0.5333333333333333, 0.39166666666666666]\n",
      "[29, 34, 32, 19, 0, 1, 9, 42, 14, 22, 46, 27, 4, 39, 17, 24, 35, 11, 40, 41, 5, 12, 30, 13, 45, 18, 49, 48, 7, 10, 37, 33, 43, 44, 15, 21, 25, 8, 38, 26, 16, 28, 23, 2, 47]\n",
      "[3, 6, 20, 31, 36]\n",
      "[0.38333333333333336, 0.5, 0.5, 0.475, 0.5]\n",
      "[29, 34, 32, 19, 0, 1, 9, 42, 14, 22, 46, 27, 4, 39, 17, 24, 35, 11, 40, 41, 5, 12, 30, 13, 45, 18, 49, 48, 7, 10, 37, 33, 43, 44, 15, 21, 25, 8, 38, 26, 16, 28, 23, 2, 47, 3]\n",
      "[6, 20, 31, 36]\n",
      "[0.5, 0.5, 0.425, 0.5916666666666667]\n",
      "[29, 34, 32, 19, 0, 1, 9, 42, 14, 22, 46, 27, 4, 39, 17, 24, 35, 11, 40, 41, 5, 12, 30, 13, 45, 18, 49, 48, 7, 10, 37, 33, 43, 44, 15, 21, 25, 8, 38, 26, 16, 28, 23, 2, 47, 3, 31]\n",
      "[6, 20, 36]\n",
      "[0.5, 0.5, 0.44166666666666665]\n",
      "[29, 34, 32, 19, 0, 1, 9, 42, 14, 22, 46, 27, 4, 39, 17, 24, 35, 11, 40, 41, 5, 12, 30, 13, 45, 18, 49, 48, 7, 10, 37, 33, 43, 44, 15, 21, 25, 8, 38, 26, 16, 28, 23, 2, 47, 3, 31, 36]\n",
      "[6, 20]\n",
      "[0.5, 0.5]\n",
      "[29, 34, 32, 19, 0, 1, 9, 42, 14, 22, 46, 27, 4, 39, 17, 24, 35, 11, 40, 41, 5, 12, 30, 13, 45, 18, 49, 48, 7, 10, 37, 33, 43, 44, 15, 21, 25, 8, 38, 26, 16, 28, 23, 2, 47, 3, 31, 36, 6]\n",
      "[20]\n",
      "[0.5]\n",
      "[29, 34, 32, 19, 0, 1, 9, 42, 14, 22, 46, 27, 4, 39, 17, 24, 35, 11, 40, 41, 5, 12, 30, 13, 45, 18, 49, 48, 7, 10, 37, 33, 43, 44, 15, 21, 25, 8, 38, 26, 16, 28, 23, 2, 47, 3, 31, 36, 6, 20]\n"
     ]
    }
   ],
   "source": [
    "if(alterStrat.getType() == AlterStrategy.GREEDY):\n",
    "    AlterStrategy.RankGreedy(estimator, exprs, classes)"
   ]
  },
  {
   "cell_type": "code",
   "execution_count": 28,
   "metadata": {},
   "outputs": [
    {
     "name": "stdout",
     "output_type": "stream",
     "text": [
      "Accuracy: 0.83 (+/- 0.29)\n"
     ]
    }
   ],
   "source": [
    "\n",
    "scores = crossValidate(estimator, exprs, classes, alterStrat, 0.05, 10)\n",
    "print(\"Accuracy: %0.2f (+/- %0.2f)\" % (scores.mean(), scores.std() * 2))"
   ]
  },
  {
   "cell_type": "code",
   "execution_count": 29,
   "metadata": {},
   "outputs": [],
   "source": [
    "tmp = np.load(path.join(gsa_path,\"NBCgreedyRank_tmp2.npy\"))"
   ]
  },
  {
   "cell_type": "code",
   "execution_count": 30,
   "metadata": {},
   "outputs": [
    {
     "data": {
      "text/plain": [
       "array([41, 39, 25, 36, 24,  6,  9, 43, 26,  0, 49,  7,  4, 30, 21, 45,  8,\n",
       "       18, 10, 11, 20, 47, 46, 16, 33, 40,  3, 14, 48, 35,  2, 13, 15, 34,\n",
       "       19, 23,  1, 28, 29, 42, 27, 32,  5, 38, 12, 44, 22, 17, 31, 37])"
      ]
     },
     "execution_count": 30,
     "metadata": {},
     "output_type": "execute_result"
    }
   ],
   "source": [
    "tmp"
   ]
  },
  {
   "cell_type": "code",
   "execution_count": 31,
   "metadata": {},
   "outputs": [],
   "source": [
    "tmp = np.load(path.join(gsa_path,\"NBCgreedyRank_tmp.npy\"))"
   ]
  },
  {
   "cell_type": "code",
   "execution_count": 32,
   "metadata": {},
   "outputs": [
    {
     "data": {
      "text/plain": [
       "array([41, 43,  7, 22, 39,  6, 21, 31, 26,  2, 30, 44, 18, 47,  4, 19, 14,\n",
       "       25, 20, 16,  5,  9,  3,  8, 13, 23, 45, 32, 48, 27,  1, 34, 24,  0,\n",
       "       42, 15, 33, 36, 10, 37, 40, 12, 28, 29, 49, 11, 46, 35, 17, 38])"
      ]
     },
     "execution_count": 32,
     "metadata": {},
     "output_type": "execute_result"
    }
   ],
   "source": [
    "tmp"
   ]
  },
  {
   "cell_type": "code",
   "execution_count": 33,
   "metadata": {},
   "outputs": [],
   "source": [
    "tmp = np.load(path.join(gsa_path,\"NBCgreedyRank.npy\"))"
   ]
  },
  {
   "cell_type": "code",
   "execution_count": null,
   "metadata": {},
   "outputs": [],
   "source": [
    "tmp"
   ]
  },
  {
   "cell_type": "code",
   "execution_count": null,
   "metadata": {},
   "outputs": [],
   "source": []
  },
  {
   "cell_type": "code",
   "execution_count": null,
   "metadata": {},
   "outputs": [],
   "source": []
  },
  {
   "cell_type": "code",
   "execution_count": null,
   "metadata": {},
   "outputs": [],
   "source": []
  },
  {
   "cell_type": "code",
   "execution_count": null,
   "metadata": {},
   "outputs": [],
   "source": []
  },
  {
   "cell_type": "code",
   "execution_count": null,
   "metadata": {},
   "outputs": [],
   "source": []
  }
 ],
 "metadata": {
  "kernelspec": {
   "display_name": "Python 3",
   "language": "python",
   "name": "python3"
  },
  "language_info": {
   "codemirror_mode": {
    "name": "ipython",
    "version": 3
   },
   "file_extension": ".py",
   "mimetype": "text/x-python",
   "name": "python",
   "nbconvert_exporter": "python",
   "pygments_lexer": "ipython3",
   "version": "3.7.0"
  }
 },
 "nbformat": 4,
 "nbformat_minor": 2
}
