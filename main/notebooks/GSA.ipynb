{
 "cells": [
  {
   "cell_type": "markdown",
   "metadata": {},
   "source": [
    "In order to speed up processing time when running classification algorithms, it is often useful to choose only the most \"best\" genes to use.  There are various algorithms available to choose genes, however here we use Chi2 Select K best.  K is how many genes you wish to use for testing stability.  More genese is usually better, however again in order to speed up processing time we limit the number of genes used.  This program allows you to set a min and max number of genes and an interval.  This will in turn setup numpy arrays with class and the select number of genes for further processing by FASTR and FASTrand."
   ]
  },
  {
   "cell_type": "markdown",
   "metadata": {},
   "source": [
    "### Libraries\n",
    "Must be pre-installed.  Recommended to use virtual environment."
   ]
  },
  {
   "cell_type": "code",
   "execution_count": 124,
   "metadata": {},
   "outputs": [],
   "source": [
    "import numpy as np\n",
    "from enum import Enum\n",
    "from random import shuffle\n",
    "from os import path, getcwd, makedirs\n",
    "from sklearn.feature_selection import SelectKBest, chi2\n",
    "from collections import Counter\n",
    "from sklearn.metrics import mean_squared_error\n",
    "from scipy.sparse.linalg import lsqr\n",
    "from math import sqrt\n",
    "from random import uniform, choice"
   ]
  },
  {
   "cell_type": "markdown",
   "metadata": {},
   "source": [
    "## Methods and Classes"
   ]
  },
  {
   "cell_type": "code",
   "execution_count": null,
   "metadata": {},
   "outputs": [],
   "source": []
  },
  {
   "cell_type": "code",
   "execution_count": 8,
   "metadata": {},
   "outputs": [],
   "source": []
  },
  {
   "cell_type": "code",
   "execution_count": 6,
   "metadata": {},
   "outputs": [],
   "source": [
    "class AlterStrategy(Enum):\n",
    "    GREEDY = 0\n",
    "    CHI2 = 1\n",
    "    RAND = 2\n",
    "    PERCENT = 3"
   ]
  },
  {
   "cell_type": "markdown",
   "metadata": {},
   "source": [
    "### NBC.py"
   ]
  },
  {
   "cell_type": "code",
   "execution_count": 7,
   "metadata": {},
   "outputs": [],
   "source": [
    "class Model:\n",
    "    \"\"\"Describes the model class.\"\"\"\n",
    "\n",
    "    def __init__(self, samples, eps, class_label):\n",
    "        \"\"\"Initialize the model class.\n",
    "\n",
    "        Args:\n",
    "            samples: training samples of size [samples, genes].\n",
    "            eps: epsilon value for correlation cutoff.\n",
    "            class_label: classification label.\n",
    "        \"\"\"\n",
    "\n",
    "        self.class_label = class_label\n",
    "        self.samples = np.array(samples)\n",
    "        self.eps = eps\n",
    "\n",
    "        # columns are variables, rows are samples\n",
    "        self.correlation = np.corrcoef(self.samples, y=None, rowvar=False)\n",
    "\n",
    "        # note that the mask is actually the graph\n",
    "        self.mask = (np.absolute(self.correlation) > self.eps)\n",
    "\n",
    "        # the coefficients associated with the system of equation: Ax=b,\n",
    "        # where A is an equation list created from the neighbors of gene\n",
    "        # n and b is the value of gene n.\n",
    "        self.geneFuncMasks = []  # these are the coefficients in Ax=b\n",
    "        for gene in range(len(self.correlation)):\n",
    "            currMask = self.mask[gene]\n",
    "            setOfNeighbors = []\n",
    "            solutions = []\n",
    "            for sample in self.samples:\n",
    "                neighbors = [sample[neighbor] if (currMask[neighbor] and (gene != neighbor))\n",
    "                             else 0 for neighbor in range(len(currMask))]\n",
    "                neighbors.append(1)\n",
    "                setOfNeighbors.append(neighbors)\n",
    "                solutions.append(sample[gene])\n",
    "            coeff = self.solver(setOfNeighbors, solutions, 2)\n",
    "            self.geneFuncMasks.append(coeff.tolist())\n",
    "\n",
    "        self.coefficients = np.array(self.geneFuncMasks)\n",
    "\n",
    "    def solver(self, neighbors, sols, choice):\n",
    "        # Use lsqr to solve Ax=b\n",
    "        A = np.array(neighbors)\n",
    "        b = np.array(sols)\n",
    "        x = lsqr(A, b)[0]\n",
    "        return x\n",
    "\n",
    "    def expression(self, sample):\n",
    "        \"\"\"Given a sample, return the hypothetical expression.\n",
    "\n",
    "        Args:\n",
    "            sample: the sample whose hypothetical expression we wish to\n",
    "            calculate\n",
    "        Returns:\n",
    "            expr: A list with the expression values of size number of genes.\n",
    "        \"\"\"\n",
    "        expression = []\n",
    "        for gene in range(len(self.coefficients)):\n",
    "            geneVal = 0\n",
    "            for neighbor in range(len(self.mask)-1):\n",
    "                geneVal += self.coefficients[gene][neighbor] * sample[neighbor]\n",
    "            geneVal += self.coefficients[gene][len(self.mask)]\n",
    "            expression.append(geneVal)\n",
    "        return np.array(expression)\n",
    "\n",
    "    def label (self):\n",
    "        \"\"\"Return the classification label of this model.\"\"\"\n",
    "        return self.class_label\n",
    "\n",
    "\n",
    "class NetworkBasedClassifier:\n",
    "    \"\"\"Describes the NBClassifier class.\"\"\"\n",
    "\n",
    "    def __init__(self, epsilon):\n",
    "        \"\"\"Initialize a NBF classifier.\n",
    "\n",
    "        Args:\n",
    "            eps: epsilon value\n",
    "        \"\"\"\n",
    "        self.models = []\n",
    "        self.epsilon = epsilon\n",
    "\n",
    "    def fit(self, X, y):\n",
    "        \"\"\"Fit the data with classes to create class models.\n",
    "\n",
    "        Fits the data [num_samples, num_genes] with classifications\n",
    "        [num_samples] to the model.  Creates as many models as classes.\n",
    "\n",
    "        Args:\n",
    "            X: the data we wish to train the classifier on\n",
    "            y: the classifications associated with the samples\n",
    "        \"\"\"\n",
    "        y = np.array(y)\n",
    "        X = np.array(X)\n",
    "        for key in Counter(y):\n",
    "            a_class = np.where(y == key)\n",
    "            self.models.append(Model([X[i] for i in a_class[0]], self.epsilon, key))\n",
    "\n",
    "    def predict(self, X):\n",
    "        \"\"\"Predict the classification of a sample.\n",
    "\n",
    "        Must fit the classifier before this method is called.\n",
    "\n",
    "        Args:\n",
    "            samples: the samples we wish to predict classification for.\n",
    "\n",
    "        Returns:\n",
    "            classifications: the classifications of the samples.\n",
    "        \"\"\"\n",
    "        classifications = []\n",
    "        for sample in X:\n",
    "            RMSEs = []\n",
    "            for model in self.models:\n",
    "                rmse = sqrt( mean_squared_error(sample, model.expression(sample)))\n",
    "                RMSEs.append(rmse)\n",
    "            min_index = RMSEs.index(min(RMSEs))\n",
    "            label = self.models[min_index].label()\n",
    "            classifications.append(label)\n",
    "        return np.array(classifications)"
   ]
  },
  {
   "cell_type": "markdown",
   "metadata": {},
   "source": [
    "### Common.py"
   ]
  },
  {
   "cell_type": "code",
   "execution_count": null,
   "metadata": {},
   "outputs": [],
   "source": []
  },
  {
   "cell_type": "markdown",
   "metadata": {},
   "source": [
    "### Alter.py"
   ]
  },
  {
   "cell_type": "code",
   "execution_count": 147,
   "metadata": {},
   "outputs": [],
   "source": [
    "def alter (exprs, percent):\n",
    "    result = []\n",
    "    for expr in exprs:\n",
    "        alt = []\n",
    "        for gene in expr:\n",
    "            _offset = gene * percent\n",
    "            _low = gene - _offset\n",
    "            _high = gene + _offset\n",
    "            alt.append(choice([_low, _high]))\n",
    "        result.append(alt)\n",
    "    return np.array(result)"
   ]
  },
  {
   "cell_type": "markdown",
   "metadata": {},
   "source": [
    "## START MAIN PROGRAM"
   ]
  },
  {
   "cell_type": "markdown",
   "metadata": {},
   "source": [
    "###### Enter the series and feature_size to use\n",
    "Must be all upper case. e.g. `\"GSE27562\"`"
   ]
  },
  {
   "cell_type": "code",
   "execution_count": 140,
   "metadata": {},
   "outputs": [],
   "source": [
    "series = \"GSE27562\"\n",
    "feature_size = 10\n",
    "fs_strategy = fsStrategy.KBEST"
   ]
  },
  {
   "cell_type": "markdown",
   "metadata": {},
   "source": [
    "### Get/Create Directories\n",
    "Assumes this notebook is in `GenClass-Stability/main/notebooks/`"
   ]
  },
  {
   "cell_type": "code",
   "execution_count": 141,
   "metadata": {},
   "outputs": [],
   "source": [
    "notebook_dir = getcwd();\n",
    "main_dir = path.dirname(path.dirname(notebook_dir))\n",
    "load_path = path.join(main_dir, \"GSE\", series)\n",
    "gsa_path = path.join(main_dir,\"GSA\", series, str(feature_size))\n",
    "if not path.exists(gsa_path):\n",
    "    makedirs(gsa_path)"
   ]
  },
  {
   "cell_type": "markdown",
   "metadata": {},
   "source": [
    "### Import Classes and Expressions\n",
    "Load original data. Assumes SIT and custome GSE script have been run to import data."
   ]
  },
  {
   "cell_type": "code",
   "execution_count": 142,
   "metadata": {},
   "outputs": [],
   "source": [
    "classes =np.loadtxt(path.join(load_path, \"classes.txt\"), dtype=np.str, delimiter=\"\\t\")\n",
    "exprs = np.loadtxt(path.join(load_path, \"exprs.txt\"), delimiter=\"\\t\")"
   ]
  },
  {
   "cell_type": "markdown",
   "metadata": {},
   "source": [
    "Select K best genes for analysis."
   ]
  },
  {
   "cell_type": "code",
   "execution_count": 143,
   "metadata": {},
   "outputs": [],
   "source": [
    "b = SelectKBest(chi2, feature_size).fit(exprs, classes)\n",
    "a = b.get_support(indices = True)\n",
    "exprs = exprs[:, a]"
   ]
  },
  {
   "cell_type": "markdown",
   "metadata": {},
   "source": [
    "Save the selected expression data for potential later use."
   ]
  },
  {
   "cell_type": "code",
   "execution_count": 144,
   "metadata": {},
   "outputs": [],
   "source": [
    "np.save(path.join(gsa_path,\"exprs.npy\"), exprs)\n",
    "np.save(path.join(gsa_path,\"classses.npy\"), classes)"
   ]
  },
  {
   "cell_type": "markdown",
   "metadata": {},
   "source": [
    "## Stability Test I"
   ]
  },
  {
   "cell_type": "code",
   "execution_count": 145,
   "metadata": {},
   "outputs": [
    {
     "data": {
      "text/plain": [
       "array([[ 9.98205891,  8.80499698,  6.06705536, ...,  4.04860832,\n",
       "         6.00040582,  6.4677598 ],\n",
       "       [ 6.72960679,  8.07265421,  5.59216432, ...,  4.15901196,\n",
       "         4.26277999,  4.51382143],\n",
       "       [10.05329346,  7.24772335,  5.82537025, ...,  3.89825586,\n",
       "         3.42084859,  6.05324247],\n",
       "       ...,\n",
       "       [10.36843308,  8.24140776,  4.75391267, ...,  6.20912277,\n",
       "         3.13763694,  8.21837823],\n",
       "       [11.05542227,  8.69241259,  4.89380999, ...,  7.26503729,\n",
       "         4.0318941 ,  8.70174055],\n",
       "       [10.47816641, 10.40235359,  4.85256164, ...,  6.62386944,\n",
       "         6.99643153,  7.62414493]])"
      ]
     },
     "execution_count": 145,
     "metadata": {},
     "output_type": "execute_result"
    }
   ],
   "source": [
    "exprs"
   ]
  },
  {
   "cell_type": "code",
   "execution_count": 150,
   "metadata": {},
   "outputs": [
    {
     "data": {
      "text/plain": [
       "array([[14.97308836,  4.40249849,  9.10058304, ...,  6.07291248,\n",
       "         9.00060873,  3.2338799 ],\n",
       "       [ 3.36480339, 12.10898131,  8.38824648, ...,  2.07950598,\n",
       "         6.39416998,  6.77073214],\n",
       "       [15.07994019, 10.87158503,  8.73805537, ...,  5.84738379,\n",
       "         1.7104243 ,  9.07986371],\n",
       "       ...,\n",
       "       [ 5.18421654,  4.12070388,  7.13086901, ...,  3.10456138,\n",
       "         4.70645542, 12.32756734],\n",
       "       [ 5.52771113, 13.03861888,  2.446905  , ..., 10.89755594,\n",
       "         2.01594705,  4.35087027],\n",
       "       [ 5.2390832 , 15.60353039,  2.42628082, ...,  3.31193472,\n",
       "        10.4946473 , 11.4362174 ]])"
      ]
     },
     "execution_count": 150,
     "metadata": {},
     "output_type": "execute_result"
    }
   ],
   "source": [
    "alter(exprs,0.5)"
   ]
  },
  {
   "cell_type": "code",
   "execution_count": null,
   "metadata": {},
   "outputs": [],
   "source": []
  },
  {
   "cell_type": "code",
   "execution_count": null,
   "metadata": {},
   "outputs": [],
   "source": []
  },
  {
   "cell_type": "code",
   "execution_count": null,
   "metadata": {},
   "outputs": [],
   "source": []
  },
  {
   "cell_type": "code",
   "execution_count": null,
   "metadata": {},
   "outputs": [],
   "source": []
  },
  {
   "cell_type": "code",
   "execution_count": 127,
   "metadata": {},
   "outputs": [],
   "source": [
    "selected = exprs[:, indices]"
   ]
  },
  {
   "cell_type": "code",
   "execution_count": 128,
   "metadata": {},
   "outputs": [
    {
     "data": {
      "text/plain": [
       "(125, 100)"
      ]
     },
     "execution_count": 128,
     "metadata": {},
     "output_type": "execute_result"
    }
   ],
   "source": [
    "selected.shape"
   ]
  },
  {
   "cell_type": "code",
   "execution_count": 129,
   "metadata": {},
   "outputs": [
    {
     "data": {
      "text/plain": [
       "array([[4.31152269, 4.4071346 , 5.77272197, ..., 5.83642061, 6.17221809,\n",
       "        6.24050669],\n",
       "       [4.7492688 , 3.5923242 , 7.04037055, ..., 5.82981242, 7.350479  ,\n",
       "        7.94567565],\n",
       "       [4.43324923, 4.26058516, 5.25456661, ..., 6.98871558, 6.12976211,\n",
       "        5.41058594],\n",
       "       ...,\n",
       "       [4.34395247, 5.26436647, 8.34279915, ..., 4.94476902, 6.67167526,\n",
       "        6.42701463],\n",
       "       [4.16553918, 6.06950417, 6.54962712, ..., 4.71671069, 6.30876414,\n",
       "        6.03027806],\n",
       "       [3.80756212, 4.93443121, 7.427341  , ..., 4.82043323, 5.45108573,\n",
       "        5.79667554]])"
      ]
     },
     "execution_count": 129,
     "metadata": {},
     "output_type": "execute_result"
    }
   ],
   "source": [
    "selected"
   ]
  },
  {
   "cell_type": "code",
   "execution_count": 137,
   "metadata": {},
   "outputs": [
    {
     "name": "stdout",
     "output_type": "stream",
     "text": [
      "[ 4 19 22 32 35 47 48 53 61 62 63 69 71 73 77 78 89 90 93 97]\n"
     ]
    }
   ],
   "source": [
    "    indices = chi2_fs(selected, classes, 20)\n",
    "    print(indices)"
   ]
  },
  {
   "cell_type": "code",
   "execution_count": 138,
   "metadata": {},
   "outputs": [
    {
     "name": "stdout",
     "output_type": "stream",
     "text": [
      "[ 344 1961 2080 2852 3091 3892 3895 4195 4954 5218 5229 5768 6140 6495\n",
      " 6930 7141 8581 9262 9367 9678]\n"
     ]
    }
   ],
   "source": [
    "indices = chi2_fs(exprs,classes,20)\n",
    "print(indices)"
   ]
  },
  {
   "cell_type": "code",
   "execution_count": 134,
   "metadata": {},
   "outputs": [
    {
     "data": {
      "text/plain": [
       "(125, 10094)"
      ]
     },
     "execution_count": 134,
     "metadata": {},
     "output_type": "execute_result"
    }
   ],
   "source": [
    "exprs.shape"
   ]
  },
  {
   "cell_type": "code",
   "execution_count": null,
   "metadata": {},
   "outputs": [],
   "source": [
    "exp = np.arange(0, main_size, 1)\n",
    "random.shuffle(exp)"
   ]
  }
 ],
 "metadata": {
  "kernelspec": {
   "display_name": "Python 3",
   "language": "python",
   "name": "python3"
  },
  "language_info": {
   "codemirror_mode": {
    "name": "ipython",
    "version": 3
   },
   "file_extension": ".py",
   "mimetype": "text/x-python",
   "name": "python",
   "nbconvert_exporter": "python",
   "pygments_lexer": "ipython3",
   "version": "3.7.0"
  }
 },
 "nbformat": 4,
 "nbformat_minor": 2
}
