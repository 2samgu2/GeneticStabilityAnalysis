{
 "cells": [
  {
   "cell_type": "markdown",
   "metadata": {},
   "source": [
    "In order to speed up processing time when running classification algorithms, it is often useful to choose only the most \"best\" genes to use.  There are various algorithms available to choose genes, however here we use Chi2 Select K best.  K is how many genes you wish to use for testing stability.  More genese is usually better, however again in order to speed up processing time we limit the number of genes used.  This program allows you to set a min and max number of genes and an interval.  This will in turn setup numpy arrays with class and the select number of genes for further processing by FASTR and FASTrand."
   ]
  },
  {
   "cell_type": "markdown",
   "metadata": {},
   "source": [
    "### Libraries\n",
    "Must be pre-installed.  Recommended to use virtual environment."
   ]
  },
  {
   "cell_type": "code",
   "execution_count": 21,
   "metadata": {},
   "outputs": [],
   "source": [
    "import numpy as np\n",
    "from enum import Enum\n",
    "from random import shuffle\n",
    "from os import path, getcwd\n",
    "from sklearn.feature_selection import SelectKBest, chi2\n",
    "from collections import Counter\n",
    "from sklearn.metrics import mean_squared_error\n",
    "from scipy.sparse.linalg import lsqr\n",
    "from math import sqrt"
   ]
  },
  {
   "cell_type": "markdown",
   "metadata": {},
   "source": [
    "## Methods and Classes"
   ]
  },
  {
   "cell_type": "code",
   "execution_count": 22,
   "metadata": {},
   "outputs": [],
   "source": [
    "class SelectionStrategy(Enum):\n",
    "    KBEST = 1\n",
    "    RAND = 2"
   ]
  },
  {
   "cell_type": "code",
   "execution_count": 23,
   "metadata": {},
   "outputs": [],
   "source": [
    "class AlterStrategy(Enum):\n",
    "    GREEDY = 0\n",
    "    CHI2 = 1\n",
    "    RAND = 2\n",
    "    PERCENT = 3"
   ]
  },
  {
   "cell_type": "code",
   "execution_count": 24,
   "metadata": {},
   "outputs": [],
   "source": [
    "class Model:\n",
    "\n",
    "    def __init__(self, samples, eps, class_label):\n",
    "\n",
    "        self.class_label = class_label\n",
    "        self.samples = np.array(samples)\n",
    "        self.eps = eps\n",
    "\n",
    "        self.correlation = np.corrcoef( self.samples, y=None, rowvar=0, bias=0, ddof=None ) # columns are variables, rows are samples\n",
    "\n",
    "        self.mask = (np.absolute(self.correlation) > self.eps) # note that the mask is actually the graph\n",
    "\n",
    "        self.geneFuncMasks = [] #these are the coefficients in Ax=b\n",
    "        for gene in range(len(self.correlation)):\n",
    "            currMask = self.mask[gene]\n",
    "            setOfNeighbors = []\n",
    "            solutions = []\n",
    "            for sample in self.samples:\n",
    "                neighbors = [sample[neighbor] if ((currMask[neighbor] == True) and (gene != neighbor)) else 0 for neighbor in range(len(currMask))]\n",
    "                neighbors.append(1)\n",
    "                setOfNeighbors.append(neighbors)\n",
    "                solutions.append(sample[gene])\n",
    "            coeff = self.AxbSolver(setOfNeighbors, solutions, 2)\n",
    "            self.geneFuncMasks.append(coeff.tolist())\n",
    "\n",
    "        self.coefficients = np.array(self.geneFuncMasks)\n",
    "\n",
    "    def AxbSolver(self, neighbors, sols, choice):\n",
    "        # Use lsqr to solve Ax=b\n",
    "        A=np.array(neighbors)\n",
    "        b=np.array(sols)\n",
    "        x = lsqr(A,b)[0]\n",
    "        return x\n",
    "\n",
    "    def getExpression(self, sample):\n",
    "        expression = []\n",
    "        for gene in range(len(self.coefficients)):\n",
    "            geneVal = 0\n",
    "            for neighbor in range(len(self.mask)-1):\n",
    "                geneVal += self.coefficients[gene][neighbor] * sample[neighbor]\n",
    "            geneVal += self.coefficients[gene][len(self.mask)]\n",
    "            expression.append(geneVal)\n",
    "        return np.array(expression)\n",
    "\n",
    "    def getClass (self):\n",
    "        return self.class_label\n",
    "\n",
    "class NetworkBasedClassifier:\n",
    "\n",
    "    def __init__(self, epsilon):\n",
    "\n",
    "        self.models = []\n",
    "        self.epsilon = epsilon\n",
    "\n",
    "    def fit ( self, X, y ):\n",
    "        y = np.array(y)\n",
    "        X = np.array(X)\n",
    "        for key in Counter( y ):\n",
    "            a_class = np.where( y == key )\n",
    "            self.models.append( Model ( [ X[i] for i in a_class[0] ], self.epsilon, key  ) )\n",
    "\n",
    "    def predict ( self, X ):\n",
    "        classifications = []\n",
    "        for sample in X:\n",
    "            RMSEs = []\n",
    "            for model in self.models:\n",
    "                rmse = sqrt( mean_squared_error( sample, model.getExpression( sample ) ) )\n",
    "                RMSEs.append(rmse)\n",
    "            min_index = RMSEs.index( min(RMSEs) )\n",
    "            label = self.models[min_index].getClass()\n",
    "            classifications.append(label)\n",
    "        return np.array(classifications)\n"
   ]
  },
  {
   "cell_type": "markdown",
   "metadata": {},
   "source": [
    "###### Enter the series and feature_size to use\n",
    "Must be all upper case. e.g. `\"GSE27562\"`"
   ]
  },
  {
   "cell_type": "code",
   "execution_count": 20,
   "metadata": {},
   "outputs": [],
   "source": [
    "series = \"GSE27562\"\n",
    "feature_size = 100\n",
    "fs_strategy = SelectionStrategy.KBEST"
   ]
  },
  {
   "cell_type": "markdown",
   "metadata": {},
   "source": [
    "## START MAIN PROGRAM"
   ]
  },
  {
   "cell_type": "markdown",
   "metadata": {},
   "source": [
    "### Get/Create Directories\n",
    "Assumes this notebook is in `GenClass-Stability/main/notebooks/`"
   ]
  },
  {
   "cell_type": "code",
   "execution_count": 5,
   "metadata": {},
   "outputs": [],
   "source": [
    "notebook_dir = getcwd();\n",
    "main_dir = path.dirname(path.dirname(notebook_dir))\n",
    "series_dir = path.join(main_dir,\"GSE\",series)\n",
    "classes_path = path.join(series_dir, \"classes.txt\")\n",
    "exprs_path = path.join(series_dir, \"exprs.txt\")"
   ]
  },
  {
   "cell_type": "markdown",
   "metadata": {},
   "source": [
    "### Import Classes and Expressions\n",
    "Assumes SIT and custome GSE script have been run to import data."
   ]
  },
  {
   "cell_type": "code",
   "execution_count": 6,
   "metadata": {},
   "outputs": [],
   "source": [
    "classes =np.loadtxt(classes_path, dtype=np.str, delimiter=\"\\t\")\n",
    "exprs = np.loadtxt(exprs_path, delimiter=\"\\t\", unpack=True)"
   ]
  },
  {
   "cell_type": "code",
   "execution_count": 10,
   "metadata": {},
   "outputs": [
    {
     "data": {
      "text/plain": [
       "(10094, 125)"
      ]
     },
     "execution_count": 10,
     "metadata": {},
     "output_type": "execute_result"
    }
   ],
   "source": []
  },
  {
   "cell_type": "code",
   "execution_count": 117,
   "metadata": {},
   "outputs": [],
   "source": [
    "def chi2_fs ( genes, classes, num ):\n",
    "    b = SelectKBest( chi2, num ).fit( genes, classes )\n",
    "    a = b.get_support( indices = True )\n",
    "    return a"
   ]
  },
  {
   "cell_type": "code",
   "execution_count": null,
   "metadata": {},
   "outputs": [],
   "source": [
    "def rand_fs( genes, num ):\n",
    "    b = np.arange(0, num+1, 1)\n",
    "    random.shuffle(b)"
   ]
  },
  {
   "cell_type": "code",
   "execution_count": null,
   "metadata": {},
   "outputs": [],
   "source": []
  },
  {
   "cell_type": "code",
   "execution_count": 118,
   "metadata": {},
   "outputs": [],
   "source": [
    "fs_sizes = np.arange(50,101,25)"
   ]
  },
  {
   "cell_type": "code",
   "execution_count": null,
   "metadata": {},
   "outputs": [],
   "source": []
  },
  {
   "cell_type": "code",
   "execution_count": 125,
   "metadata": {},
   "outputs": [
    {
     "name": "stdout",
     "output_type": "stream",
     "text": [
      "[ 129  273  344  828 1172 1519 1782 1961 2077 2080 2084 2120 2301 2405\n",
      " 2575 2760 2852 3091 3484 3681 3892 3895 3943 3973 4195 4277 4283 4618\n",
      " 4677 4954 5218 5229 5370 5768 6140 6213 6495 6611 6930 7141 7187 7907\n",
      " 8494 8501 8581 9262 9326 9367 9661 9678]\n",
      "[ 129  273  299  344  828  900  934 1161 1172 1372 1474 1519 1725 1782\n",
      " 1961 1992 2077 2080 2081 2084 2120 2251 2279 2301 2405 2575 2760 2852\n",
      " 2866 3091 3311 3484 3681 3881 3892 3895 3943 3973 4049 4069 4195 4277\n",
      " 4283 4546 4618 4677 4954 5218 5229 5370 5390 5408 5768 6140 6213 6495\n",
      " 6611 6826 6930 7141 7155 7187 7907 8494 8501 8537 8581 9262 9326 9353\n",
      " 9367 9557 9661 9678 9845]\n",
      "[ 129  157  273  299  344  570  761  828  833  900  934  947 1161 1172\n",
      " 1372 1474 1519 1725 1782 1961 1992 2077 2080 2081 2084 2120 2251 2279\n",
      " 2301 2405 2575 2760 2852 2866 2876 3091 3125 3137 3141 3184 3311 3393\n",
      " 3484 3681 3757 3812 3881 3892 3895 3943 3973 4049 4069 4195 4277 4283\n",
      " 4546 4576 4618 4624 4677 4954 5218 5229 5370 5390 5408 5429 5664 5768\n",
      " 5933 6140 6213 6495 6611 6660 6826 6930 7141 7155 7177 7187 7903 7907\n",
      " 7940 8494 8499 8501 8537 8581 9262 9326 9353 9367 9526 9557 9661 9678\n",
      " 9753 9845]\n"
     ]
    }
   ],
   "source": [
    "for fs in fs_sizes:\n",
    "    indices = chi2_fs(exprs, classes, fs)\n",
    "    print(indices)"
   ]
  },
  {
   "cell_type": "code",
   "execution_count": null,
   "metadata": {},
   "outputs": [],
   "source": []
  },
  {
   "cell_type": "code",
   "execution_count": null,
   "metadata": {},
   "outputs": [],
   "source": []
  },
  {
   "cell_type": "code",
   "execution_count": null,
   "metadata": {},
   "outputs": [],
   "source": []
  },
  {
   "cell_type": "code",
   "execution_count": 127,
   "metadata": {},
   "outputs": [],
   "source": [
    "selected = exprs[:, indices]"
   ]
  },
  {
   "cell_type": "code",
   "execution_count": 128,
   "metadata": {},
   "outputs": [
    {
     "data": {
      "text/plain": [
       "(125, 100)"
      ]
     },
     "execution_count": 128,
     "metadata": {},
     "output_type": "execute_result"
    }
   ],
   "source": [
    "selected.shape"
   ]
  },
  {
   "cell_type": "code",
   "execution_count": 129,
   "metadata": {},
   "outputs": [
    {
     "data": {
      "text/plain": [
       "array([[4.31152269, 4.4071346 , 5.77272197, ..., 5.83642061, 6.17221809,\n",
       "        6.24050669],\n",
       "       [4.7492688 , 3.5923242 , 7.04037055, ..., 5.82981242, 7.350479  ,\n",
       "        7.94567565],\n",
       "       [4.43324923, 4.26058516, 5.25456661, ..., 6.98871558, 6.12976211,\n",
       "        5.41058594],\n",
       "       ...,\n",
       "       [4.34395247, 5.26436647, 8.34279915, ..., 4.94476902, 6.67167526,\n",
       "        6.42701463],\n",
       "       [4.16553918, 6.06950417, 6.54962712, ..., 4.71671069, 6.30876414,\n",
       "        6.03027806],\n",
       "       [3.80756212, 4.93443121, 7.427341  , ..., 4.82043323, 5.45108573,\n",
       "        5.79667554]])"
      ]
     },
     "execution_count": 129,
     "metadata": {},
     "output_type": "execute_result"
    }
   ],
   "source": [
    "selected"
   ]
  },
  {
   "cell_type": "code",
   "execution_count": 137,
   "metadata": {},
   "outputs": [
    {
     "name": "stdout",
     "output_type": "stream",
     "text": [
      "[ 4 19 22 32 35 47 48 53 61 62 63 69 71 73 77 78 89 90 93 97]\n"
     ]
    }
   ],
   "source": [
    "    indices = chi2_fs(selected, classes, 20)\n",
    "    print(indices)"
   ]
  },
  {
   "cell_type": "code",
   "execution_count": 138,
   "metadata": {},
   "outputs": [
    {
     "name": "stdout",
     "output_type": "stream",
     "text": [
      "[ 344 1961 2080 2852 3091 3892 3895 4195 4954 5218 5229 5768 6140 6495\n",
      " 6930 7141 8581 9262 9367 9678]\n"
     ]
    }
   ],
   "source": [
    "indices = chi2_fs(exprs,classes,20)\n",
    "print(indices)"
   ]
  },
  {
   "cell_type": "code",
   "execution_count": 134,
   "metadata": {},
   "outputs": [
    {
     "data": {
      "text/plain": [
       "(125, 10094)"
      ]
     },
     "execution_count": 134,
     "metadata": {},
     "output_type": "execute_result"
    }
   ],
   "source": [
    "exprs.shape"
   ]
  },
  {
   "cell_type": "code",
   "execution_count": null,
   "metadata": {},
   "outputs": [],
   "source": [
    "exp = np.arange(0, main_size, 1)\n",
    "random.shuffle(exp)"
   ]
  }
 ],
 "metadata": {
  "kernelspec": {
   "display_name": "Python 3",
   "language": "python",
   "name": "python3"
  },
  "language_info": {
   "codemirror_mode": {
    "name": "ipython",
    "version": 3
   },
   "file_extension": ".py",
   "mimetype": "text/x-python",
   "name": "python",
   "nbconvert_exporter": "python",
   "pygments_lexer": "ipython3",
   "version": "3.7.0"
  }
 },
 "nbformat": 4,
 "nbformat_minor": 2
}
