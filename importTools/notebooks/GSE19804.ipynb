{
 "cells": [
  {
   "cell_type": "markdown",
   "metadata": {},
   "source": [
    "# GSE19804 - Notebook Version 1.0\n",
    "This is a series specific file that makes modifications to the GSE19804 matrix imported through FIT, exporting only the data needed for FaST processing.  See [GSE19804](https://www.ncbi.nlm.nih.gov/geo/query/acc.cgi?acc=GSE19804) for more information on series. This program is written in R.\n",
    "\n",
    "From the series data:\n",
    ">RNA was extracted from paired tumor and normal tissues for gene expression analysis.\n",
    "\n",
    "A total of **120** subjects with **60** cancer and **60** normal classes."
   ]
  },
  {
   "cell_type": "markdown",
   "metadata": {},
   "source": [
    "### Get/Create Directories\n",
    "Assumes this notebook is in `GenClass-Stability/importTools/notebooks/`"
   ]
  },
  {
   "cell_type": "code",
   "execution_count": 28,
   "metadata": {},
   "outputs": [],
   "source": [
    "notebook_dir <- getwd() # get the working directory\n",
    "main_dir <- dirname(dirname(notebook_dir)) # get two levels up\n",
    "gse_dir = file.path(main_dir,\"GSE\",\"GSE19804\")"
   ]
  },
  {
   "cell_type": "code",
   "execution_count": 29,
   "metadata": {},
   "outputs": [],
   "source": [
    "setwd(gse_dir)"
   ]
  },
  {
   "cell_type": "markdown",
   "metadata": {},
   "source": [
    "### Import Matrix\n",
    "Assumes this notebook is in `GenClass-Stability/importTools/notebooks/` and GSE data from SIT is stored in `GenClass-Stability/GSE`."
   ]
  },
  {
   "cell_type": "code",
   "execution_count": 30,
   "metadata": {},
   "outputs": [],
   "source": [
    "matrix <- read.table(\"filteredRMA.txt\",header=TRUE,row.names=1)"
   ]
  },
  {
   "cell_type": "markdown",
   "metadata": {},
   "source": [
    "### Modify Matrix\n",
    "Remove `Lung.` and everything after second `.` from column names.\n",
    "\n",
    "Note: this remaining code is specific to the GSE and the data that you want to test.  However, the format for classes and expressions should always be the same."
   ]
  },
  {
   "cell_type": "code",
   "execution_count": 31,
   "metadata": {},
   "outputs": [],
   "source": [
    "classes <- gsub(\"Lung.\", \"\", colnames(matrix))\n",
    "classes = gsub(\"\\\\..*\",\"\",classes)"
   ]
  },
  {
   "cell_type": "markdown",
   "metadata": {},
   "source": [
    "Modify the column names with the classes."
   ]
  },
  {
   "cell_type": "code",
   "execution_count": 32,
   "metadata": {},
   "outputs": [],
   "source": [
    "colnames(matrix) <- classes"
   ]
  },
  {
   "cell_type": "markdown",
   "metadata": {},
   "source": [
    "Get select gene expressions."
   ]
  },
  {
   "cell_type": "code",
   "execution_count": 33,
   "metadata": {},
   "outputs": [],
   "source": [
    "patterns <- c(\"Cancer\", \"Normal\")\n",
    "expressions = matrix[ , grepl( paste(patterns, collapse=\"|\") , names( matrix ) ) ]"
   ]
  },
  {
   "cell_type": "markdown",
   "metadata": {},
   "source": [
    "### Write Classes\n",
    "First remove extra numbers added by datafram"
   ]
  },
  {
   "cell_type": "code",
   "execution_count": 34,
   "metadata": {},
   "outputs": [],
   "source": [
    "classes = gsub(\"\\\\..*\",\"\",colnames(expressions))\n",
    "classes = as.matrix(classes)\n",
    "write.table(classes,file.path(gse_dir,\"classes.txt\"),sep = \"\\t\", quote = FALSE, row.names=FALSE, col.names=FALSE)"
   ]
  },
  {
   "cell_type": "markdown",
   "metadata": {},
   "source": [
    "### Write Expressions"
   ]
  },
  {
   "cell_type": "code",
   "execution_count": 35,
   "metadata": {},
   "outputs": [],
   "source": [
    "expressions = t(expressions)\n",
    "write.table(expressions,file.path(gse_dir,\"exprs.txt\"),sep = \"\\t\", row.names=FALSE, col.names=FALSE)"
   ]
  },
  {
   "cell_type": "code",
   "execution_count": null,
   "metadata": {},
   "outputs": [],
   "source": []
  }
 ],
 "metadata": {
  "kernelspec": {
   "display_name": "R",
   "language": "R",
   "name": "ir"
  },
  "language_info": {
   "codemirror_mode": "r",
   "file_extension": ".r",
   "mimetype": "text/x-r-source",
   "name": "R",
   "pygments_lexer": "r",
   "version": "3.5.1"
  }
 },
 "nbformat": 4,
 "nbformat_minor": 2
}
