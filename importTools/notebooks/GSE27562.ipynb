{
 "cells": [
  {
   "cell_type": "markdown",
   "metadata": {},
   "source": [
    "# GSE27562 - Notebook Version 1.0\n",
    "\n",
    "This is a series specific file that makes modifications to the GSE27562 matrix imported through FIT, exporting only the data needed for FaST processing.  See [GSE27562](https://www.ncbi.nlm.nih.gov/geo/query/acc.cgi?acc=GSE27562) for more information on series. This program is written in R.\n",
    "\n",
    "From the series data:\n",
    ">In total, we collected blood from **57** women with a diagnosis of breast cancer and **37** with a benign diagnosis. We also collected blood from **31** women with normal initial mammograms as negative controls and 15 breast cancer patients following surgery.\n",
    "\n",
    "We ignore patients following surgery since these may or may not have cancer tissue.  Instead we only consider three classes:  those with breast cancer (*malignant*) those with benign tumors (*benign*) and those with no cancer (*normal*).  This totals **125** samples."
   ]
  },
  {
   "cell_type": "markdown",
   "metadata": {},
   "source": [
    "### Get/Create Directories\n",
    "Assumes this notebook is in `GenClass-Stability/importTools/notebooks/`"
   ]
  },
  {
   "cell_type": "code",
   "execution_count": 1,
   "metadata": {},
   "outputs": [],
   "source": [
    "notebook_dir <- getwd() # get the working directory\n",
    "main_dir <- dirname(dirname(notebook_dir)) # get two levels up\n",
    "gse_dir = file.path(main_dir,\"GSE\",\"GSE27562\")"
   ]
  },
  {
   "cell_type": "code",
   "execution_count": 2,
   "metadata": {},
   "outputs": [],
   "source": [
    "setwd(gse_dir)"
   ]
  },
  {
   "cell_type": "markdown",
   "metadata": {},
   "source": [
    "### Import Matrix\n",
    "Assumes this notebook is in `GenClass-Stability/importTools/notebooks/` and GSE data from SIT is stored in `GenClass-Stability/GSE`."
   ]
  },
  {
   "cell_type": "code",
   "execution_count": 3,
   "metadata": {},
   "outputs": [],
   "source": [
    "matrix <- read.table(\"filteredRMA.txt\",header=TRUE,row.names=1)"
   ]
  },
  {
   "cell_type": "markdown",
   "metadata": {},
   "source": [
    "### Modify Matrix\n",
    "The remaining code is specific to the GSE and the data that you want to test.  However, the format for classes and expressions should always be the same.\n",
    "\n",
    "Remove `PBMC_` from column names."
   ]
  },
  {
   "cell_type": "code",
   "execution_count": 4,
   "metadata": {},
   "outputs": [],
   "source": [
    "classes <- gsub(\"PBMC_\", \"\", colnames(matrix))"
   ]
  },
  {
   "cell_type": "markdown",
   "metadata": {},
   "source": [
    "Remove `_training_` from column names."
   ]
  },
  {
   "cell_type": "code",
   "execution_count": 5,
   "metadata": {},
   "outputs": [],
   "source": [
    "toRemove <- rev(c(1:10))\n",
    "toRemove <- paste(c(\"_training_\"), toRemove, sep = '', collapse = ' ')\n",
    "toRemove <- unlist(strsplit(toRemove, split=\" \"))\n",
    "for (i in 1:length(toRemove)) {\n",
    "    classes <- sub(toRemove[i][1], \"\", classes)\n",
    "}"
   ]
  },
  {
   "cell_type": "markdown",
   "metadata": {},
   "source": [
    "Remove `_validation_` from column names."
   ]
  },
  {
   "cell_type": "code",
   "execution_count": 6,
   "metadata": {},
   "outputs": [],
   "source": [
    "toRemove <- rev(c(1:47))\n",
    "toRemove <- paste(c(\"_validation_\"), toRemove, sep='', collapse=' ')\n",
    "toRemove <- unlist(strsplit(toRemove, split=\" \"))\n",
    "for (i in 1:length(toRemove))\n",
    "{\n",
    "    classes <- sub(toRemove[i][1], \"\", classes)\n",
    "}"
   ]
  },
  {
   "cell_type": "markdown",
   "metadata": {},
   "source": [
    "Modify the column names with the classes."
   ]
  },
  {
   "cell_type": "code",
   "execution_count": 7,
   "metadata": {},
   "outputs": [],
   "source": [
    "colnames(matrix) <- classes"
   ]
  },
  {
   "cell_type": "markdown",
   "metadata": {},
   "source": [
    "Get select gene expressions."
   ]
  },
  {
   "cell_type": "code",
   "execution_count": 8,
   "metadata": {},
   "outputs": [],
   "source": [
    "patterns <- c(\"normal\", \"benign\", \"malignant\")\n",
    "expressions = matrix[ , grepl( paste(patterns, collapse=\"|\") , names( matrix ) ) ]"
   ]
  },
  {
   "cell_type": "markdown",
   "metadata": {},
   "source": [
    "### Write Classes\n",
    "First remove extra numbers added by datafram"
   ]
  },
  {
   "cell_type": "code",
   "execution_count": 22,
   "metadata": {},
   "outputs": [
    {
     "data": {
      "text/html": [
       "<ol class=list-inline>\n",
       "\t<li>1</li>\n",
       "\t<li>125</li>\n",
       "</ol>\n"
      ],
      "text/latex": [
       "\\begin{enumerate*}\n",
       "\\item 1\n",
       "\\item 125\n",
       "\\end{enumerate*}\n"
      ],
      "text/markdown": [
       "1. 1\n",
       "2. 125\n",
       "\n",
       "\n"
      ],
      "text/plain": [
       "[1]   1 125"
      ]
     },
     "metadata": {},
     "output_type": "display_data"
    }
   ],
   "source": [
    "classes = gsub(\"\\\\..*\",\"\",colnames(expressions))\n",
    "classes = as.matrix(classes)\n",
    "classes = t(classes)\n",
    "write.table(classes,file.path(gse_dir,\"classes.txt\"),sep = \"\\t\", quote = FALSE, row.names=FALSE, col.names=FALSE)"
   ]
  },
  {
   "cell_type": "markdown",
   "metadata": {},
   "source": [
    "### Write Expressions"
   ]
  },
  {
   "cell_type": "code",
   "execution_count": 11,
   "metadata": {},
   "outputs": [],
   "source": [
    "expressions = t(expressions)\n",
    "write.table(expressions,file.path(gse_dir,\"exprs.txt\"),sep = \"\\t\", row.names=FALSE, col.names=FALSE)"
   ]
  },
  {
   "cell_type": "code",
   "execution_count": null,
   "metadata": {},
   "outputs": [],
   "source": []
  }
 ],
 "metadata": {
  "kernelspec": {
   "display_name": "R",
   "language": "R",
   "name": "ir"
  },
  "language_info": {
   "codemirror_mode": "r",
   "file_extension": ".r",
   "mimetype": "text/x-r-source",
   "name": "R",
   "pygments_lexer": "r",
   "version": "3.5.1"
  }
 },
 "nbformat": 4,
 "nbformat_minor": 2
}
