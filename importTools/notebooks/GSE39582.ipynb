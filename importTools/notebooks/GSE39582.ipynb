{
 "cells": [
  {
   "cell_type": "markdown",
   "metadata": {},
   "source": [
    "# GSE39582 - Notebook Version 1.0\n",
    "\n",
    "This is a series specific file that makes modifications to the GSE27562 matrix imported through FIT, exporting only the data needed for FaST processing.  See [GSE39582](https://www.ncbi.nlm.nih.gov/geo/query/acc.cgi?acc=GSE39582) for more information on series. This program is written in R.\n",
    "\n",
    "From the series data:\n",
    ">In total, we collected blood from **57** women with a diagnosis of breast cancer and **37** with a benign diagnosis. We also collected blood from **31** women with normal initial mammograms as negative controls and 15 breast cancer patients following surgery.\n",
    "\n",
    "We ignore patients following surgery since these may or may not have cancer tissue.  Instead we only consider three classes:  those with breast cancer (*malignant*) those with benign tumors (*benign*) and those with no cancer (*normal*).  This totals **125** samples."
   ]
  },
  {
   "cell_type": "code",
   "execution_count": 1,
   "metadata": {},
   "outputs": [],
   "source": [
    "notebook_dir <- getwd() # get the working directory\n",
    "main_dir <- dirname(dirname(notebook_dir)) # get two levels up\n",
    "gse_dir = file.path(main_dir,\"GSE\",\"GSE39582\")"
   ]
  },
  {
   "cell_type": "code",
   "execution_count": 2,
   "metadata": {},
   "outputs": [
    {
     "ename": "ERROR",
     "evalue": "Error in setwd(gse_dir): cannot change working directory\n",
     "output_type": "error",
     "traceback": [
      "Error in setwd(gse_dir): cannot change working directory\nTraceback:\n",
      "1. setwd(gse_dir)"
     ]
    }
   ],
   "source": [
    "setwd(gse_dir)"
   ]
  },
  {
   "cell_type": "markdown",
   "metadata": {},
   "source": [
    "### Import Matrix\n",
    "Assumes this notebook is in `GenClass-Stability/importTools/notebooks/` and GSE data from SIT is stored in `GenClass-Stability/GSE`."
   ]
  },
  {
   "cell_type": "code",
   "execution_count": 3,
   "metadata": {},
   "outputs": [
    {
     "name": "stderr",
     "output_type": "stream",
     "text": [
      "Warning message in file(file, \"rt\"):\n",
      "“cannot open file 'filteredRMA.txt': No such file or directory”"
     ]
    },
    {
     "ename": "ERROR",
     "evalue": "Error in file(file, \"rt\"): cannot open the connection\n",
     "output_type": "error",
     "traceback": [
      "Error in file(file, \"rt\"): cannot open the connection\nTraceback:\n",
      "1. read.table(\"filteredRMA.txt\", header = TRUE, row.names = 1)",
      "2. file(file, \"rt\")"
     ]
    }
   ],
   "source": [
    "matrix <- read.table(\"filteredRMA.txt\",header=TRUE,row.names=1)"
   ]
  },
  {
   "cell_type": "markdown",
   "metadata": {},
   "source": [
    "### Modify Matrix\n",
    "The remaining code is specific to the GSE and the data that you want to test.  However, the format for classes and expressions should always be the same."
   ]
  },
  {
   "cell_type": "code",
   "execution_count": null,
   "metadata": {},
   "outputs": [],
   "source": []
  },
  {
   "cell_type": "code",
   "execution_count": null,
   "metadata": {},
   "outputs": [],
   "source": []
  },
  {
   "cell_type": "code",
   "execution_count": null,
   "metadata": {},
   "outputs": [],
   "source": []
  },
  {
   "cell_type": "code",
   "execution_count": null,
   "metadata": {},
   "outputs": [],
   "source": []
  },
  {
   "cell_type": "code",
   "execution_count": null,
   "metadata": {},
   "outputs": [],
   "source": []
  }
 ],
 "metadata": {
  "kernelspec": {
   "display_name": "R",
   "language": "R",
   "name": "ir"
  },
  "language_info": {
   "codemirror_mode": "r",
   "file_extension": ".r",
   "mimetype": "text/x-r-source",
   "name": "R",
   "pygments_lexer": "r",
   "version": "3.5.1"
  }
 },
 "nbformat": 4,
 "nbformat_minor": 2
}
