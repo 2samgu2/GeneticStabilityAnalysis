{
 "cells": [
  {
   "cell_type": "markdown",
   "metadata": {},
   "source": [
    "# GSE39582 - Notebook Version 1.0\n",
    "\n",
    "This is a series specific file that makes modifications to the GSE39582 matrix imported through FIT, exporting only the data needed for FaST processing.  See [GSE39582](https://www.ncbi.nlm.nih.gov/geo/query/acc.cgi?acc=GSE39582) for more information on series. This program is written in R.\n",
    "\n",
    "From the series data:\n",
    ">**566** samples fulfilled RNA quality requirements. Unsupervised consensus hierarchical clustering applied to gene expression data from a discovery subset of 443 CC samples identified six molecular subtypes...The subtypes C4 and C6, but not the subtypes C1, C2, C3, and C5, were independently associated with shorter relapse-free survival...\n",
    "\n",
    "From this we know there are **566** total samples, divided into six subtypes."
   ]
  },
  {
   "cell_type": "markdown",
   "metadata": {},
   "source": [
    "### Get/Create Directories\n",
    "Assumes this notebook is in `GenClass-Stability/importTools/notebooks/`"
   ]
  },
  {
   "cell_type": "code",
   "execution_count": 112,
   "metadata": {},
   "outputs": [],
   "source": [
    "notebook_dir <- getwd() # get the working directory\n",
    "main_dir <- dirname(dirname(notebook_dir)) # get two levels up\n",
    "gse_dir = file.path(main_dir,\"GSE\",\"GSE39582\")"
   ]
  },
  {
   "cell_type": "code",
   "execution_count": 113,
   "metadata": {},
   "outputs": [],
   "source": [
    "setwd(gse_dir)"
   ]
  },
  {
   "cell_type": "markdown",
   "metadata": {},
   "source": [
    "### Import Matrix\n",
    "Assumes this notebook is in `GenClass-Stability/importTools/notebooks/` and GSE data from SIT is stored in `GenClass-Stability/GSE`."
   ]
  },
  {
   "cell_type": "code",
   "execution_count": 114,
   "metadata": {},
   "outputs": [],
   "source": [
    "matrix <- read.table(\"filteredRMA.txt\",header=TRUE,row.names=1)"
   ]
  },
  {
   "cell_type": "markdown",
   "metadata": {},
   "source": [
    "### Modify Matrix\n",
    "The remaining code is specific to the GSE and the data that you want to test.  However, the format for classes and expressions should always be the same.\n",
    "\n",
    "Reimport GSE data to change column names."
   ]
  },
  {
   "cell_type": "code",
   "execution_count": 115,
   "metadata": {},
   "outputs": [
    {
     "name": "stderr",
     "output_type": "stream",
     "text": [
      "Found 1 file(s)\n",
      "GSE39582_series_matrix.txt.gz\n",
      "Using locally cached version: /Users/terek/Documents/Github/GenClass-Stability/GSE/GSE39582_series_matrix.txt.gz\n",
      "Parsed with column specification:\n",
      "cols(\n",
      "  .default = col_double(),\n",
      "  ID_REF = col_character()\n",
      ")\n",
      "See spec(...) for full column specifications.\n",
      "Using locally cached version of GPL570 found here:\n",
      "/Users/terek/Documents/Github/GenClass-Stability/GSE/GPL570.soft \n"
     ]
    }
   ],
   "source": [
    "library(GEOquery)\n",
    "gse <- getGEO(GEO = 'GSE39582', destdir = dirname(gse_dir))\n",
    "if(length(gse) > 1) {\n",
    "    print(\"WARNING: multiple SubSeries.\")\n",
    "}"
   ]
  },
  {
   "cell_type": "markdown",
   "metadata": {},
   "source": [
    "Change column names to subtype."
   ]
  },
  {
   "cell_type": "code",
   "execution_count": 116,
   "metadata": {},
   "outputs": [],
   "source": [
    "pheno <-phenoData(gse[[1]])\n",
    "colnames(matrix)<-pheno$characteristics_ch1.30"
   ]
  },
  {
   "cell_type": "markdown",
   "metadata": {},
   "source": [
    "Modify the column names with the classes."
   ]
  },
  {
   "cell_type": "code",
   "execution_count": 123,
   "metadata": {},
   "outputs": [],
   "source": [
    "classes <- gsub(\"cit.molecularsubtype: \", \"\", colnames(matrix))\n",
    "colnames(matrix) <- classes"
   ]
  },
  {
   "cell_type": "markdown",
   "metadata": {},
   "source": [
    "Get select gene expressions."
   ]
  },
  {
   "cell_type": "code",
   "execution_count": 124,
   "metadata": {},
   "outputs": [],
   "source": [
    "patterns <- c(\"C1\",\"C2\",\"C3\",\"C4\",\"C5\",\"C6\")\n",
    "expressions = matrix[ , grepl( paste(patterns, collapse=\"|\") , names( matrix ) ) ]"
   ]
  },
  {
   "cell_type": "markdown",
   "metadata": {},
   "source": [
    "### Write Classes\n",
    "First remove extra numbers added by datafram"
   ]
  },
  {
   "cell_type": "code",
   "execution_count": 127,
   "metadata": {},
   "outputs": [],
   "source": [
    "classes = gsub(\"\\\\..*\",\"\",colnames(expressions))\n",
    "classes = as.matrix(classes)\n",
    "classes = t(classes)\n",
    "write.table(classes,file.path(gse_dir,\"classes.txt\"),sep = \"\\t\", quote = FALSE, row.names=FALSE, col.names=FALSE)"
   ]
  },
  {
   "cell_type": "markdown",
   "metadata": {},
   "source": [
    "### Write Expressions"
   ]
  },
  {
   "cell_type": "code",
   "execution_count": 128,
   "metadata": {},
   "outputs": [],
   "source": [
    "expressions = t(expressions)\n",
    "write.table(expressions,file.path(gse_dir,\"exprs.txt\"),sep = \"\\t\", row.names=FALSE, col.names=FALSE)"
   ]
  },
  {
   "cell_type": "code",
   "execution_count": null,
   "metadata": {},
   "outputs": [],
   "source": []
  }
 ],
 "metadata": {
  "kernelspec": {
   "display_name": "R",
   "language": "R",
   "name": "ir"
  },
  "language_info": {
   "codemirror_mode": "r",
   "file_extension": ".r",
   "mimetype": "text/x-r-source",
   "name": "R",
   "pygments_lexer": "r",
   "version": "3.5.1"
  }
 },
 "nbformat": 4,
 "nbformat_minor": 2
}
