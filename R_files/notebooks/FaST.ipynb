{
 "cells": [
  {
   "cell_type": "markdown",
   "metadata": {},
   "source": [
    "In order to speed up processing time when running classification algorithms, it is often useful to choose only the most \"best\" genes to use.  There are various algorithms available to choose genes, however here we use Chi2 Select K best.  K is how many genes you wish to use for testing stability.  More genese is usually better, however again in order to speed up processing time we limit the number of genes used.  This program allows you to set a min and max number of genes and an interval.  This will in turn setup numpy arrays with class and the select number of genes for further processing by FASTR and FASTrand."
   ]
  },
  {
   "cell_type": "code",
   "execution_count": 139,
   "metadata": {},
   "outputs": [],
   "source": [
    "import numpy as np\n",
    "from random import shuffle\n",
    "from os import path, getcwd\n",
    "from sklearn.feature_selection import SelectKBest, chi2"
   ]
  },
  {
   "cell_type": "code",
   "execution_count": 96,
   "metadata": {},
   "outputs": [],
   "source": [
    "series = \"GSE27562\""
   ]
  },
  {
   "cell_type": "code",
   "execution_count": 140,
   "metadata": {},
   "outputs": [],
   "source": [
    "notebook_dir = getcwd();\n",
    "main_dir = path.dirname(path.dirname(notebook_dir))\n",
    "series_dir = path.join(main_dir,\"GSE\",series)\n",
    "classes_path = path.join(series_dir, \"classes.txt\")\n",
    "exprs_path = path.join(series_dir, \"exprs.txt\")"
   ]
  },
  {
   "cell_type": "code",
   "execution_count": 113,
   "metadata": {},
   "outputs": [],
   "source": [
    "exprs = np.loadtxt(exprs_path, delimiter=\"\\t\", unpack=True)\n",
    "classes =np.loadtxt(classes_path, dtype=np.str, delimiter=\"\\t\")"
   ]
  },
  {
   "cell_type": "code",
   "execution_count": 117,
   "metadata": {},
   "outputs": [],
   "source": [
    "def chi2_fs ( genes, classes, num ):\n",
    "    b = SelectKBest( chi2, num ).fit( genes, classes )\n",
    "    a = b.get_support( indices = True )\n",
    "    return a"
   ]
  },
  {
   "cell_type": "code",
   "execution_count": null,
   "metadata": {},
   "outputs": [],
   "source": [
    "def rand_fs( genes, num ):\n",
    "    b = np.arange(0, num+1, 1)\n",
    "    random.shuffle(b)"
   ]
  },
  {
   "cell_type": "code",
   "execution_count": null,
   "metadata": {},
   "outputs": [],
   "source": []
  },
  {
   "cell_type": "code",
   "execution_count": 118,
   "metadata": {},
   "outputs": [],
   "source": [
    "fs_sizes = np.arange(50,101,25)"
   ]
  },
  {
   "cell_type": "code",
   "execution_count": null,
   "metadata": {},
   "outputs": [],
   "source": []
  },
  {
   "cell_type": "code",
   "execution_count": 125,
   "metadata": {},
   "outputs": [
    {
     "name": "stdout",
     "output_type": "stream",
     "text": [
      "[ 129  273  344  828 1172 1519 1782 1961 2077 2080 2084 2120 2301 2405\n",
      " 2575 2760 2852 3091 3484 3681 3892 3895 3943 3973 4195 4277 4283 4618\n",
      " 4677 4954 5218 5229 5370 5768 6140 6213 6495 6611 6930 7141 7187 7907\n",
      " 8494 8501 8581 9262 9326 9367 9661 9678]\n",
      "[ 129  273  299  344  828  900  934 1161 1172 1372 1474 1519 1725 1782\n",
      " 1961 1992 2077 2080 2081 2084 2120 2251 2279 2301 2405 2575 2760 2852\n",
      " 2866 3091 3311 3484 3681 3881 3892 3895 3943 3973 4049 4069 4195 4277\n",
      " 4283 4546 4618 4677 4954 5218 5229 5370 5390 5408 5768 6140 6213 6495\n",
      " 6611 6826 6930 7141 7155 7187 7907 8494 8501 8537 8581 9262 9326 9353\n",
      " 9367 9557 9661 9678 9845]\n",
      "[ 129  157  273  299  344  570  761  828  833  900  934  947 1161 1172\n",
      " 1372 1474 1519 1725 1782 1961 1992 2077 2080 2081 2084 2120 2251 2279\n",
      " 2301 2405 2575 2760 2852 2866 2876 3091 3125 3137 3141 3184 3311 3393\n",
      " 3484 3681 3757 3812 3881 3892 3895 3943 3973 4049 4069 4195 4277 4283\n",
      " 4546 4576 4618 4624 4677 4954 5218 5229 5370 5390 5408 5429 5664 5768\n",
      " 5933 6140 6213 6495 6611 6660 6826 6930 7141 7155 7177 7187 7903 7907\n",
      " 7940 8494 8499 8501 8537 8581 9262 9326 9353 9367 9526 9557 9661 9678\n",
      " 9753 9845]\n"
     ]
    }
   ],
   "source": [
    "for fs in fs_sizes:\n",
    "    indices = chi2_fs(exprs, classes, fs)\n",
    "    print(indices)"
   ]
  },
  {
   "cell_type": "code",
   "execution_count": null,
   "metadata": {},
   "outputs": [],
   "source": []
  },
  {
   "cell_type": "code",
   "execution_count": null,
   "metadata": {},
   "outputs": [],
   "source": []
  },
  {
   "cell_type": "code",
   "execution_count": null,
   "metadata": {},
   "outputs": [],
   "source": []
  },
  {
   "cell_type": "code",
   "execution_count": 127,
   "metadata": {},
   "outputs": [],
   "source": [
    "selected = exprs[:, indices]"
   ]
  },
  {
   "cell_type": "code",
   "execution_count": 128,
   "metadata": {},
   "outputs": [
    {
     "data": {
      "text/plain": [
       "(125, 100)"
      ]
     },
     "execution_count": 128,
     "metadata": {},
     "output_type": "execute_result"
    }
   ],
   "source": [
    "selected.shape"
   ]
  },
  {
   "cell_type": "code",
   "execution_count": 129,
   "metadata": {},
   "outputs": [
    {
     "data": {
      "text/plain": [
       "array([[4.31152269, 4.4071346 , 5.77272197, ..., 5.83642061, 6.17221809,\n",
       "        6.24050669],\n",
       "       [4.7492688 , 3.5923242 , 7.04037055, ..., 5.82981242, 7.350479  ,\n",
       "        7.94567565],\n",
       "       [4.43324923, 4.26058516, 5.25456661, ..., 6.98871558, 6.12976211,\n",
       "        5.41058594],\n",
       "       ...,\n",
       "       [4.34395247, 5.26436647, 8.34279915, ..., 4.94476902, 6.67167526,\n",
       "        6.42701463],\n",
       "       [4.16553918, 6.06950417, 6.54962712, ..., 4.71671069, 6.30876414,\n",
       "        6.03027806],\n",
       "       [3.80756212, 4.93443121, 7.427341  , ..., 4.82043323, 5.45108573,\n",
       "        5.79667554]])"
      ]
     },
     "execution_count": 129,
     "metadata": {},
     "output_type": "execute_result"
    }
   ],
   "source": [
    "selected"
   ]
  },
  {
   "cell_type": "code",
   "execution_count": 137,
   "metadata": {},
   "outputs": [
    {
     "name": "stdout",
     "output_type": "stream",
     "text": [
      "[ 4 19 22 32 35 47 48 53 61 62 63 69 71 73 77 78 89 90 93 97]\n"
     ]
    }
   ],
   "source": [
    "    indices = chi2_fs(selected, classes, 20)\n",
    "    print(indices)"
   ]
  },
  {
   "cell_type": "code",
   "execution_count": 138,
   "metadata": {},
   "outputs": [
    {
     "name": "stdout",
     "output_type": "stream",
     "text": [
      "[ 344 1961 2080 2852 3091 3892 3895 4195 4954 5218 5229 5768 6140 6495\n",
      " 6930 7141 8581 9262 9367 9678]\n"
     ]
    }
   ],
   "source": [
    "indices = chi2_fs(exprs,classes,20)\n",
    "print(indices)"
   ]
  },
  {
   "cell_type": "code",
   "execution_count": 134,
   "metadata": {},
   "outputs": [
    {
     "data": {
      "text/plain": [
       "(125, 10094)"
      ]
     },
     "execution_count": 134,
     "metadata": {},
     "output_type": "execute_result"
    }
   ],
   "source": [
    "exprs.shape"
   ]
  },
  {
   "cell_type": "code",
   "execution_count": null,
   "metadata": {},
   "outputs": [],
   "source": [
    "exp = np.arange(0, main_size, 1)\n",
    "random.shuffle(exp)"
   ]
  }
 ],
 "metadata": {
  "kernelspec": {
   "display_name": "Python 3",
   "language": "python",
   "name": "python3"
  },
  "language_info": {
   "codemirror_mode": {
    "name": "ipython",
    "version": 3
   },
   "file_extension": ".py",
   "mimetype": "text/x-python",
   "name": "python",
   "nbconvert_exporter": "python",
   "pygments_lexer": "ipython3",
   "version": "3.7.0"
  }
 },
 "nbformat": 4,
 "nbformat_minor": 2
}
