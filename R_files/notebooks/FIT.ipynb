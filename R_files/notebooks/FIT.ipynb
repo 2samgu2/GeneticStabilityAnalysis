{
 "cells": [
  {
   "cell_type": "markdown",
   "metadata": {},
   "source": [
    "# FIT (Fast Import Tool) - Notebook Version 1.0\n",
    "The FIT imports GSE data from [NCBI GEO](https://www.ncbi.nlm.nih.gov/geo/). This is the entry point for all program data for GenClass-Stability. This program is written in R.\n",
    "\n",
    "\n",
    "#### Background Information:\n",
    "The NCBI Gene Expression Omnibus (GEO) is a repository for genetic based experimental data. The data is mostly microarray-based results, typically measuring RNA, DNA, and protein data. There are three basic types of data that GEO makes available: Platforms, Samples, and Series.\n",
    "\n",
    "Platform records describes the array used for an experiment (e.g., cDNAs, oligonucleotide probesets, ORFs, antibodies). Each Platform record is assigned a unique and stable GEO accession number (GPLxxx).\n",
    "\n",
    "A Sample record describes the conditions under which an individual Sample was taken and its measurements (e.g. expression of Rat 1 under a given condtion). Each Sample record is assigned a unique and stable GEO accession number (GSMxxx). A Sample entity must reference only one Platform and may be included in multiple Series. \n",
    "\n",
    "A Series record defines a set of related Samples considered to be part of a group, how the Samples are related, and if and how they are ordered. A Series provides a description of the experiment as a whole. Series records may also contain tables describing extracted data, summary conclusions, or analyses. Each Series record is assigned a unique and stable GEO accession number (GSExxx)."
   ]
  },
  {
   "cell_type": "markdown",
   "metadata": {},
   "source": [
    "###### Enter the series for import:\n",
    "Must be all upper case. e.g. `\"GSE27562\"`"
   ]
  },
  {
   "cell_type": "code",
   "execution_count": 1,
   "metadata": {},
   "outputs": [],
   "source": [
    "series = \"GSE27562\""
   ]
  },
  {
   "cell_type": "markdown",
   "metadata": {},
   "source": [
    "### Libraries\n",
    "Must be pre-installed.  See *Extras.ipynb* for more info."
   ]
  },
  {
   "cell_type": "code",
   "execution_count": 2,
   "metadata": {},
   "outputs": [
    {
     "name": "stderr",
     "output_type": "stream",
     "text": [
      "Loading required package: Biobase\n",
      "Loading required package: BiocGenerics\n",
      "Loading required package: parallel\n",
      "\n",
      "Attaching package: ‘BiocGenerics’\n",
      "\n",
      "The following objects are masked from ‘package:parallel’:\n",
      "\n",
      "    clusterApply, clusterApplyLB, clusterCall, clusterEvalQ,\n",
      "    clusterExport, clusterMap, parApply, parCapply, parLapply,\n",
      "    parLapplyLB, parRapply, parSapply, parSapplyLB\n",
      "\n",
      "The following objects are masked from ‘package:stats’:\n",
      "\n",
      "    IQR, mad, sd, var, xtabs\n",
      "\n",
      "The following objects are masked from ‘package:base’:\n",
      "\n",
      "    anyDuplicated, append, as.data.frame, basename, cbind, colMeans,\n",
      "    colnames, colSums, dirname, do.call, duplicated, eval, evalq,\n",
      "    Filter, Find, get, grep, grepl, intersect, is.unsorted, lapply,\n",
      "    lengths, Map, mapply, match, mget, order, paste, pmax, pmax.int,\n",
      "    pmin, pmin.int, Position, rank, rbind, Reduce, rowMeans, rownames,\n",
      "    rowSums, sapply, setdiff, sort, table, tapply, union, unique,\n",
      "    unsplit, which, which.max, which.min\n",
      "\n",
      "Welcome to Bioconductor\n",
      "\n",
      "    Vignettes contain introductory material; view with\n",
      "    'browseVignettes()'. To cite Bioconductor, see\n",
      "    'citation(\"Biobase\")', and for packages 'citation(\"pkgname\")'.\n",
      "\n",
      "Setting options('download.file.method.GEOquery'='auto')\n",
      "Setting options('GEOquery.inmemory.gpl'=FALSE)\n",
      "Loading required package: genefilter\n",
      "Loading required package: gcrma\n"
     ]
    }
   ],
   "source": [
    "library(GEOquery)\n",
    "library(affy)\n",
    "library(simpleaffy)"
   ]
  },
  {
   "cell_type": "markdown",
   "metadata": {},
   "source": [
    "### Get/Create directories\n",
    "Assumes this notebook is in `GenClass-Stability/importTools/notebooks/`"
   ]
  },
  {
   "cell_type": "code",
   "execution_count": 3,
   "metadata": {},
   "outputs": [],
   "source": [
    "notebook_dir <- getwd() # get the working directory\n",
    "main_dir <- dirname(dirname(notebook_dir)) # get two levels up\n",
    "gse_dir = file.path(main_dir,\"GSE\")\n",
    "if (!dir.exists(gse_dir)) {\n",
    "    dir.create(gse_dir)\n",
    "}"
   ]
  },
  {
   "cell_type": "markdown",
   "metadata": {},
   "source": [
    "### Load GEO data\n",
    "Note: this function returns a list, since you thre could be multiple SubSeries.  For data used in the GenClass-Stability project there should be no subseries used."
   ]
  },
  {
   "cell_type": "code",
   "execution_count": 4,
   "metadata": {},
   "outputs": [
    {
     "name": "stderr",
     "output_type": "stream",
     "text": [
      "Found 1 file(s)\n",
      "GSE27562_series_matrix.txt.gz\n",
      "Parsed with column specification:\n",
      "cols(\n",
      "  .default = col_double(),\n",
      "  ID_REF = col_character()\n",
      ")\n",
      "See spec(...) for full column specifications.\n",
      "File stored at: \n",
      "/Users/terek/Documents/Github/GenClass-Stability/GSE/GPL570.soft\n"
     ]
    }
   ],
   "source": [
    "gse <- getGEO(GEO = series, destdir = gse_dir)\n",
    "if(length(gse) > 1) {\n",
    "    print(\"WARNING: multiple SubSeries.\")\n",
    "}"
   ]
  },
  {
   "cell_type": "markdown",
   "metadata": {},
   "source": [
    "Get the phenotype data.  This is used later to get the column names used for GSMs."
   ]
  },
  {
   "cell_type": "code",
   "execution_count": 5,
   "metadata": {},
   "outputs": [],
   "source": [
    "series.pheno <- phenoData(gse[[1]])"
   ]
  },
  {
   "cell_type": "markdown",
   "metadata": {},
   "source": [
    "### Download Supplementary Files\n",
    "Get the raw expression data for the samples.  The raw expression data is needed to ensure that the normalization process used for the data is the same for all series tested. GSE objects contain already normalized data but may be normalized using different methods.  \n",
    "\n",
    "Note: getGEOSuppFiles doesn't check if the files already exist, so a check is performed."
   ]
  },
  {
   "cell_type": "code",
   "execution_count": 6,
   "metadata": {},
   "outputs": [],
   "source": [
    "if (!dir.exists(file.path(gse_dir, series))) {\n",
    "    suppFiles = getGEOSuppFiles(GEO = series, makeDirectory = TRUE, baseDir = gse_dir)\n",
    "    tarFiles = file.path(rownames(suppFiles)[1])\n",
    "    untarPath = file.path(dirname(tarFiles),\"data\")\n",
    "    if (!dir.exists(file.path(untarPath))) {\n",
    "        untar(tarFiles, exdir = untarPath)\n",
    "    }\n",
    "}"
   ]
  },
  {
   "cell_type": "markdown",
   "metadata": {},
   "source": [
    "### Create AffyBatch from CELs"
   ]
  },
  {
   "cell_type": "code",
   "execution_count": 7,
   "metadata": {},
   "outputs": [],
   "source": [
    "setwd(file.path(gse_dir,series,\"data\")) # TODO: convert series to upper case.\n",
    "celfiles.data = ReadAffy()"
   ]
  },
  {
   "cell_type": "markdown",
   "metadata": {},
   "source": [
    "### Download Probe Data\n",
    "\n",
    "Currently there is no good way to check for previous probe data.  It will simply overwrite the library if it exists.  This ensures that RMA and other normalization techniques can be used."
   ]
  },
  {
   "cell_type": "code",
   "execution_count": 8,
   "metadata": {},
   "outputs": [],
   "source": [
    "probe_name = annotation(celfiles.data)\n",
    "lib <- paste(probe_name, \".db\", sep = \"\")\n",
    "source(\"https://bioconductor.org/biocLite.R\")\n",
    "biocLite(lib)\n",
    "library(lib, character.only=TRUE)"
   ]
  },
  {
   "cell_type": "markdown",
   "metadata": {},
   "source": [
    "### Perform RMA Normalization and Filtering"
   ]
  },
  {
   "cell_type": "code",
   "execution_count": 9,
   "metadata": {},
   "outputs": [
    {
     "name": "stderr",
     "output_type": "stream",
     "text": [
      "Warning message:\n",
      "“replacing previous import ‘AnnotationDbi::tail’ by ‘utils::tail’ when loading ‘hgu133plus2cdf’”Warning message:\n",
      "“replacing previous import ‘AnnotationDbi::head’ by ‘utils::head’ when loading ‘hgu133plus2cdf’”\n"
     ]
    },
    {
     "name": "stdout",
     "output_type": "stream",
     "text": [
      "Background correcting\n",
      "Normalizing\n",
      "Calculating Expression\n"
     ]
    },
    {
     "name": "stderr",
     "output_type": "stream",
     "text": [
      "\n",
      "Attaching package: ‘S4Vectors’\n",
      "\n",
      "The following object is masked from ‘package:base’:\n",
      "\n",
      "    expand.grid\n",
      "\n",
      "\n",
      "Attaching package: ‘IRanges’\n",
      "\n",
      "The following object is masked from ‘package:simpleaffy’:\n",
      "\n",
      "    members\n",
      "\n",
      "\n",
      "\n"
     ]
    }
   ],
   "source": [
    "celfiles.rma <- rma(celfiles.data)\n",
    "celfiles.filtered_rma <- nsFilter(celfiles.rma, require.entrez=TRUE, remove.dupEntrez=TRUE)"
   ]
  },
  {
   "cell_type": "markdown",
   "metadata": {},
   "source": [
    "### Get expression data\n",
    "The expression data is stored in a matrix."
   ]
  },
  {
   "cell_type": "code",
   "execution_count": 11,
   "metadata": {},
   "outputs": [],
   "source": [
    "rma_mat <- exprs(celfiles.filtered_rma[[1]])\n",
    "colnames(rma_mat) <- pData(series.pheno)$title"
   ]
  },
  {
   "cell_type": "markdown",
   "metadata": {},
   "source": [
    "### Store Expression\n",
    "Matrix is used in further GSE series-specific processing."
   ]
  },
  {
   "cell_type": "code",
   "execution_count": 12,
   "metadata": {},
   "outputs": [],
   "source": [
    "setwd(gse_dir)\n",
    "result_path = file.path(gse_dir,series,\"rma_mat_filt.txt\")\n",
    "write.table(rma_mat,result_path,sep = \"\\t\", row.names=TRUE)"
   ]
  }
 ],
 "metadata": {
  "kernelspec": {
   "display_name": "R",
   "language": "R",
   "name": "ir"
  },
  "language_info": {
   "codemirror_mode": "r",
   "file_extension": ".r",
   "mimetype": "text/x-r-source",
   "name": "R",
   "pygments_lexer": "r",
   "version": "3.5.1"
  }
 },
 "nbformat": 4,
 "nbformat_minor": 2
}
