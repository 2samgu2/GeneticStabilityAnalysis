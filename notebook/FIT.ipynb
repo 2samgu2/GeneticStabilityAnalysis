{
 "cells": [
  {
   "cell_type": "markdown",
   "metadata": {},
   "source": [
    "# FIT (Fast Import Tool)\n",
    "\n",
    "The FIT imports appropriate data from NCBI GEO."
   ]
  },
  {
   "cell_type": "markdown",
   "metadata": {},
   "source": [
    "**Enter the series for import:**"
   ]
  },
  {
   "cell_type": "code",
   "execution_count": 1,
   "metadata": {},
   "outputs": [],
   "source": [
    "series = \"GSE7079\""
   ]
  },
  {
   "cell_type": "markdown",
   "metadata": {},
   "source": [
    "### Libraries used\n",
    "\n",
    "To install libraries, from R console use:\n",
    "```R\n",
    "install.packages(\"ggplot2\")\n",
    "```\n",
    "\n",
    "For Bioconductor packages first get biocLite via\n",
    "```R\n",
    "source(\"https://bioconductor.org/biocLite.R\")\n",
    "```\n",
    "Then install packages. Example:\n",
    "```R\n",
    "biocLite(\"GEOquery\")\n",
    "```"
   ]
  },
  {
   "cell_type": "code",
   "execution_count": 2,
   "metadata": {},
   "outputs": [
    {
     "name": "stderr",
     "output_type": "stream",
     "text": [
      "Loading required package: Biobase\n",
      "Loading required package: BiocGenerics\n",
      "Loading required package: parallel\n",
      "\n",
      "Attaching package: ‘BiocGenerics’\n",
      "\n",
      "The following objects are masked from ‘package:parallel’:\n",
      "\n",
      "    clusterApply, clusterApplyLB, clusterCall, clusterEvalQ,\n",
      "    clusterExport, clusterMap, parApply, parCapply, parLapply,\n",
      "    parLapplyLB, parRapply, parSapply, parSapplyLB\n",
      "\n",
      "The following objects are masked from ‘package:stats’:\n",
      "\n",
      "    IQR, mad, sd, var, xtabs\n",
      "\n",
      "The following objects are masked from ‘package:base’:\n",
      "\n",
      "    anyDuplicated, append, as.data.frame, basename, cbind, colMeans,\n",
      "    colnames, colSums, dirname, do.call, duplicated, eval, evalq,\n",
      "    Filter, Find, get, grep, grepl, intersect, is.unsorted, lapply,\n",
      "    lengths, Map, mapply, match, mget, order, paste, pmax, pmax.int,\n",
      "    pmin, pmin.int, Position, rank, rbind, Reduce, rowMeans, rownames,\n",
      "    rowSums, sapply, setdiff, sort, table, tapply, union, unique,\n",
      "    unsplit, which, which.max, which.min\n",
      "\n",
      "Welcome to Bioconductor\n",
      "\n",
      "    Vignettes contain introductory material; view with\n",
      "    'browseVignettes()'. To cite Bioconductor, see\n",
      "    'citation(\"Biobase\")', and for packages 'citation(\"pkgname\")'.\n",
      "\n",
      "Setting options('download.file.method.GEOquery'='auto')\n",
      "Setting options('GEOquery.inmemory.gpl'=FALSE)\n",
      "Loading required package: preprocessCore\n",
      "Loading required package: genefilter\n"
     ]
    }
   ],
   "source": [
    "library(GEOquery);\n",
    "library(affy);\n",
    "library(gcrma);\n",
    "library(RColorBrewer);\n",
    "library(affyPLM);\n",
    "library(simpleaffy);"
   ]
  },
  {
   "cell_type": "markdown",
   "metadata": {},
   "source": [
    "### Get/Create directories\n",
    "\n",
    "Assumes this notebook is in notebook folder."
   ]
  },
  {
   "cell_type": "code",
   "execution_count": 3,
   "metadata": {},
   "outputs": [],
   "source": [
    "notebook_dir <- getwd()\n",
    "main_dir <- dirname(notebook_dir)\n",
    "gse_dir = file.path(main_dir,\"gseRaw\")\n",
    "if (!dir.exists(gse_dir)) {\n",
    "    dir.create(gse_dir)\n",
    "}"
   ]
  },
  {
   "cell_type": "markdown",
   "metadata": {},
   "source": [
    "### Load GEO data"
   ]
  },
  {
   "cell_type": "code",
   "execution_count": 4,
   "metadata": {},
   "outputs": [
    {
     "name": "stderr",
     "output_type": "stream",
     "text": [
      "Found 1 file(s)\n",
      "GSE7079_series_matrix.txt.gz\n",
      "Parsed with column specification:\n",
      "cols(\n",
      "  .default = col_double(),\n",
      "  ID_REF = col_character()\n",
      ")\n",
      "See spec(...) for full column specifications.\n",
      "File stored at: \n",
      "/Users/terek/Documents/Github/GenClass-Stability/gseRaw/GPL85.soft\n"
     ]
    }
   ],
   "source": [
    "gse <- getGEO(GEO = series, destdir = gse_dir)"
   ]
  },
  {
   "cell_type": "code",
   "execution_count": 5,
   "metadata": {},
   "outputs": [
    {
     "data": {
      "text/html": [
       "<table>\n",
       "<thead><tr><th></th><th scope=col>size</th><th scope=col>isdir</th><th scope=col>mode</th><th scope=col>mtime</th><th scope=col>ctime</th><th scope=col>atime</th><th scope=col>uid</th><th scope=col>gid</th><th scope=col>uname</th><th scope=col>grname</th></tr></thead>\n",
       "<tbody>\n",
       "\t<tr><th scope=row>/Users/terek/Documents/Github/GenClass-Stability/gseRaw/GSE7079/GSE7079_RAW.tar</th><td>417187840          </td><td>FALSE              </td><td>644                </td><td>2018-08-13 20:23:30</td><td>2018-08-13 20:23:30</td><td>2018-08-13 20:23:30</td><td>501                </td><td>20                 </td><td>terek              </td><td>staff              </td></tr>\n",
       "</tbody>\n",
       "</table>\n"
      ],
      "text/latex": [
       "\\begin{tabular}{r|llllllllll}\n",
       "  & size & isdir & mode & mtime & ctime & atime & uid & gid & uname & grname\\\\\n",
       "\\hline\n",
       "\t/Users/terek/Documents/Github/GenClass-Stability/gseRaw/GSE7079/GSE7079\\_RAW.tar & 417187840           & FALSE               & 644                 & 2018-08-13 20:23:30 & 2018-08-13 20:23:30 & 2018-08-13 20:23:30 & 501                 & 20                  & terek               & staff              \\\\\n",
       "\\end{tabular}\n"
      ],
      "text/markdown": [
       "\n",
       "| <!--/--> | size | isdir | mode | mtime | ctime | atime | uid | gid | uname | grname | \n",
       "|---|\n",
       "| /Users/terek/Documents/Github/GenClass-Stability/gseRaw/GSE7079/GSE7079_RAW.tar | 417187840           | FALSE               | 644                 | 2018-08-13 20:23:30 | 2018-08-13 20:23:30 | 2018-08-13 20:23:30 | 501                 | 20                  | terek               | staff               | \n",
       "\n",
       "\n"
      ],
      "text/plain": [
       "                                                                                size     \n",
       "/Users/terek/Documents/Github/GenClass-Stability/gseRaw/GSE7079/GSE7079_RAW.tar 417187840\n",
       "                                                                                isdir\n",
       "/Users/terek/Documents/Github/GenClass-Stability/gseRaw/GSE7079/GSE7079_RAW.tar FALSE\n",
       "                                                                                mode\n",
       "/Users/terek/Documents/Github/GenClass-Stability/gseRaw/GSE7079/GSE7079_RAW.tar 644 \n",
       "                                                                                mtime              \n",
       "/Users/terek/Documents/Github/GenClass-Stability/gseRaw/GSE7079/GSE7079_RAW.tar 2018-08-13 20:23:30\n",
       "                                                                                ctime              \n",
       "/Users/terek/Documents/Github/GenClass-Stability/gseRaw/GSE7079/GSE7079_RAW.tar 2018-08-13 20:23:30\n",
       "                                                                                atime              \n",
       "/Users/terek/Documents/Github/GenClass-Stability/gseRaw/GSE7079/GSE7079_RAW.tar 2018-08-13 20:23:30\n",
       "                                                                                uid\n",
       "/Users/terek/Documents/Github/GenClass-Stability/gseRaw/GSE7079/GSE7079_RAW.tar 501\n",
       "                                                                                gid\n",
       "/Users/terek/Documents/Github/GenClass-Stability/gseRaw/GSE7079/GSE7079_RAW.tar 20 \n",
       "                                                                                uname\n",
       "/Users/terek/Documents/Github/GenClass-Stability/gseRaw/GSE7079/GSE7079_RAW.tar terek\n",
       "                                                                                grname\n",
       "/Users/terek/Documents/Github/GenClass-Stability/gseRaw/GSE7079/GSE7079_RAW.tar staff "
      ]
     },
     "metadata": {},
     "output_type": "display_data"
    }
   ],
   "source": [
    "getGEOSuppFiles(GEO = series, makeDirectory = TRUE, baseDir = gse_dir)"
   ]
  },
  {
   "cell_type": "code",
   "execution_count": 26,
   "metadata": {},
   "outputs": [
    {
     "data": {
      "text/html": [
       "'/Users/terek/Documents/Github'"
      ],
      "text/latex": [
       "'/Users/terek/Documents/Github'"
      ],
      "text/markdown": [
       "'/Users/terek/Documents/Github'"
      ],
      "text/plain": [
       "[1] \"/Users/terek/Documents/Github\""
      ]
     },
     "metadata": {},
     "output_type": "display_data"
    }
   ],
   "source": []
  },
  {
   "cell_type": "code",
   "execution_count": null,
   "metadata": {},
   "outputs": [],
   "source": []
  },
  {
   "cell_type": "code",
   "execution_count": 29,
   "metadata": {},
   "outputs": [
    {
     "name": "stderr",
     "output_type": "stream",
     "text": [
      "Found 1 file(s)\n",
      "GSE7079_series_matrix.txt.gz\n",
      "Parsed with column specification:\n",
      "cols(\n",
      "  .default = col_double(),\n",
      "  ID_REF = col_character()\n",
      ")\n",
      "See spec(...) for full column specifications.\n",
      "File stored at: \n",
      "/var/folders/qc/g4qqknrn1035gprs6yrmshwm0000gn/T//Rtmpb66U8a/GPL85.soft\n"
     ]
    }
   ],
   "source": [
    "gse <- getGEO(series)"
   ]
  },
  {
   "cell_type": "code",
   "execution_count": 30,
   "metadata": {},
   "outputs": [
    {
     "name": "stdout",
     "output_type": "stream",
     "text": [
      "$GSE7079_series_matrix.txt.gz\n",
      "ExpressionSet (storageMode: lockedEnvironment)\n",
      "assayData: 8799 features, 209 samples \n",
      "  element names: exprs \n",
      "protocolData: none\n",
      "phenoData\n",
      "  sampleNames: GSM170276 GSM170277 ... GSM170484 (209 total)\n",
      "  varLabels: title geo_accession ... Tissue :ch1 (34 total)\n",
      "  varMetadata: labelDescription\n",
      "featureData\n",
      "  featureNames: A01157cds_s_at A03913cds_s_at ... Z96106_at (8799\n",
      "    total)\n",
      "  fvarLabels: ID GB_ACC ... Gene Ontology Molecular Function (16 total)\n",
      "  fvarMetadata: Column Description labelDescription\n",
      "experimentData: use 'experimentData(object)'\n",
      "Annotation: GPL85 \n",
      "\n"
     ]
    }
   ],
   "source": [
    "show(gse)"
   ]
  },
  {
   "cell_type": "code",
   "execution_count": null,
   "metadata": {},
   "outputs": [],
   "source": []
  }
 ],
 "metadata": {
  "kernelspec": {
   "display_name": "R",
   "language": "R",
   "name": "ir"
  },
  "language_info": {
   "codemirror_mode": "r",
   "file_extension": ".r",
   "mimetype": "text/x-r-source",
   "name": "R",
   "pygments_lexer": "r",
   "version": "3.5.1"
  }
 },
 "nbformat": 4,
 "nbformat_minor": 2
}
