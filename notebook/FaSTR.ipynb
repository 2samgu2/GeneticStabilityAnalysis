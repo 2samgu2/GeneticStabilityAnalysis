{
 "cells": [
  {
   "cell_type": "markdown",
   "metadata": {},
   "source": [
    "#FaSTR - Feature (a) Selection Reinforced\n",
    "\n",
    "##About: \n",
    "\n",
    "The a is there b/c I wanted it to say FaST, even if it is slow.  Unlike FaST, FaSTR generates indices for a given FS size of the top K features for some number of subsets using both Chi2 and Random selection strategies.  Note FaST should be run first.\n",
    "\n",
    "Author: Terek Arce"
   ]
  },
  {
   "cell_type": "markdown",
   "metadata": {},
   "source": [
    "##TO DO:\n",
    "* add other fs techniques"
   ]
  },
  {
   "cell_type": "code",
   "execution_count": 49,
   "metadata": {
    "collapsed": true
   },
   "outputs": [],
   "source": [
    "Database = \"predict_kit2\"\n",
    "User = \"terek\"\n",
    "Password = \"\"\n",
    "Host = \"localhost\"\n",
    "Port = \"5432\""
   ]
  },
  {
   "cell_type": "markdown",
   "metadata": {},
   "source": [
    "Enter the path where files can be stored and located for future reference."
   ]
  },
  {
   "cell_type": "code",
   "execution_count": 50,
   "metadata": {
    "collapsed": true
   },
   "outputs": [],
   "source": [
    "Path = \"/Users/terek/Dropbox/Mac/FutureConfStability/iNotebook/FaSTR_files\""
   ]
  },
  {
   "cell_type": "markdown",
   "metadata": {},
   "source": [
    "Set the following variables to True if you'd like the corresponding feature selection algorithm to be used, False otherwise."
   ]
  },
  {
   "cell_type": "code",
   "execution_count": 51,
   "metadata": {
    "collapsed": true
   },
   "outputs": [],
   "source": [
    "Chi2 = True"
   ]
  },
  {
   "cell_type": "markdown",
   "metadata": {},
   "source": [
    "Set the list to format: [series, REGEX of classes]"
   ]
  },
  {
   "cell_type": "code",
   "execution_count": 52,
   "metadata": {
    "collapsed": true
   },
   "outputs": [],
   "source": [
    "get_data = [ [\"GSE19804\", \"%normal%|%tumor%\"] ,\n",
    "             [\"GSE39582\", \"%C1|%C2|%C3|%C4|%C5|%C6\"] ,\n",
    "             [\"GSE27562\", \"%normal mammogram|%breast cancer, confirmed by diagnostic biopsy|%benign%\" ] ]"
   ]
  },
  {
   "cell_type": "markdown",
   "metadata": {
    "collapsed": true
   },
   "source": [
    "##Main Program Start:\n",
    "\n",
    "No user input is needed beyond this point.  When executing the code, responses from the DB and program will be displayed below each code piece.\n",
    "\n",
    "The packages used by our program are found below:"
   ]
  },
  {
   "cell_type": "code",
   "execution_count": 2,
   "metadata": {
    "collapsed": true
   },
   "outputs": [],
   "source": [
    "import numpy as np\n",
    "import random\n",
    "from sklearn.feature_selection import SelectKBest, chi2\n",
    "from os.path import exists\n",
    "from psycopg2 import connect"
   ]
  },
  {
   "cell_type": "markdown",
   "metadata": {},
   "source": [
    "Opens a connection to the database:"
   ]
  },
  {
   "cell_type": "code",
   "execution_count": 54,
   "metadata": {},
   "outputs": [
    {
     "name": "stdout",
     "output_type": "stream",
     "text": [
      "DB Response: Opened connection to database successfully :)\n"
     ]
    }
   ],
   "source": [
    "conn = connect(database=Database, user=User, password=Password, host=Host, port=Port)\n",
    "print ( \"DB Response: Opened connection to database successfully :)\" )"
   ]
  },
  {
   "cell_type": "markdown",
   "metadata": {},
   "source": [
    "Given a set of genes (n_samples, n_features), the classes associated with the genes (n_features) the number of features to be selected (k), this function will return the indices of the features to be selected with the top k highest chi2 scores."
   ]
  },
  {
   "cell_type": "code",
   "execution_count": 55,
   "metadata": {
    "collapsed": true
   },
   "outputs": [],
   "source": [
    "def chi2_fs ( genes, classes, num ):\n",
    "    b = SelectKBest( chi2, num ).fit( genes, classes )\n",
    "    a = b.get_support( indices = True )\n",
    "    return a"
   ]
  },
  {
   "cell_type": "markdown",
   "metadata": {
    "collapsed": true
   },
   "source": [
    "Saves the feature selected indices to a file, size [n_selected_features]."
   ]
  },
  {
   "cell_type": "code",
   "execution_count": 56,
   "metadata": {},
   "outputs": [],
   "source": [
    "feature_selection_sizes = np.arange(5,101,5)\n",
    "\n",
    "for i in range( len( get_data ) ): \n",
    "    classes_file = ( \"FaST_files/%s_classes.npy\" % get_data[i][0]  )\n",
    "    genes_file = ( \"FaST_files/%s_genes.npy\" % get_data[i][0] )\n",
    "    if ( exists( genes_file ) and exists( classes_file ) ):\n",
    "        genes = np.load( genes_file )\n",
    "        classes = np.load( classes_file )\n",
    "        for fs_size in feature_selection_sizes:\n",
    "            if ( Chi2 ):\n",
    "                indices = chi2_fs ( genes, classes, fs_size ) \n",
    "                indices_file = ( \"FaSTR_files/FS/%s_%03d_fs_indices.npy\" % (get_data[i][0], fs_size) )\n",
    "                np.save( indices_file, indices)\n",
    "            # TODO: add other fs methods here"
   ]
  },
  {
   "cell_type": "markdown",
   "metadata": {},
   "source": [
    "Gets the indices of the selected genes for a certain feature size [n_selected_features]."
   ]
  },
  {
   "cell_type": "code",
   "execution_count": 60,
   "metadata": {},
   "outputs": [],
   "source": [
    "main_size = feature_selection_sizes[ len( feature_selection_sizes ) - 1 ]\n",
    "for i in range( len( get_data ) ):\n",
    "    indices_file = ( \"FaSTR_files/FS/%s_%03d_fs_indices.npy\" % (get_data[i][0], main_size) )\n",
    "    if ( exists( indices_file ) ):\n",
    "        N = np.load( indices_file )\n",
    "        for fs_size in feature_selection_sizes:\n",
    "            sub_index_file = ( \"FaSTR_files/FS/%s_%03d_fs_indices.npy\" % (get_data[i][0], fs_size) )\n",
    "            if ( exists( indices_file ) ):\n",
    "                K = np.load( sub_index_file )\n",
    "                indices = [ np.where(N==k)[0][0] for k in K ]\n",
    "                nCk = ( \"FaSTR_files/%s_%03d_%03d_nCk.npy\" % (get_data[i][0], main_size, fs_size) )\n",
    "                np.save( nCk, indices)"
   ]
  },
  {
   "cell_type": "markdown",
   "metadata": {},
   "source": [
    "Generate the random indices for a certain feature size [n_selected_features]."
   ]
  },
  {
   "cell_type": "code",
   "execution_count": 78,
   "metadata": {},
   "outputs": [],
   "source": [
    "exp = np.arange(0, main_size, 1)\n",
    "random.shuffle(exp)\n",
    "for i in range( len( get_data ) ):\n",
    "    for fs_size in feature_selection_sizes:   \n",
    "        nCk = ( \"FaSTR_files/%s_%03d_%03d_nCk_rand.npy\" % (get_data[i][0], main_size, fs_size) )\n",
    "        np.save( nCk, exp[0:fs_size])"
   ]
  },
  {
   "cell_type": "markdown",
   "metadata": {},
   "source": [
    "Closes the connection to the DB."
   ]
  },
  {
   "cell_type": "code",
   "execution_count": 58,
   "metadata": {},
   "outputs": [
    {
     "name": "stdout",
     "output_type": "stream",
     "text": [
      "DB Response: Closed connection to database successfully - Goodbye :(\n"
     ]
    }
   ],
   "source": [
    "conn.close()\n",
    "print (\"DB Response: Closed connection to database successfully - Goodbye :(\")"
   ]
  }
 ],
 "metadata": {
  "kernelspec": {
   "display_name": "Python 3",
   "language": "python",
   "name": "python3"
  },
  "language_info": {
   "codemirror_mode": {
    "name": "ipython",
    "version": 3
   },
   "file_extension": ".py",
   "mimetype": "text/x-python",
   "name": "python",
   "nbconvert_exporter": "python",
   "pygments_lexer": "ipython3",
   "version": "3.7.0"
  }
 },
 "nbformat": 4,
 "nbformat_minor": 1
}
