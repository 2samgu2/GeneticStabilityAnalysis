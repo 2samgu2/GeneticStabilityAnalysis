{
 "cells": [
  {
   "cell_type": "markdown",
   "metadata": {},
   "source": [
    "# FaST - Feature (a) Selection Tool\n",
    "\n",
    "## About: \n",
    "\n",
    "The a is there b/c I wanted it to say FaST, even if it is slow.\n",
    "\n",
    "Author: Terek Arce"
   ]
  },
  {
   "cell_type": "markdown",
   "metadata": {},
   "source": [
    "##TO DO:\n",
    "* add other fs techniques"
   ]
  },
  {
   "cell_type": "code",
   "execution_count": 1,
   "metadata": {
    "collapsed": true
   },
   "outputs": [],
   "source": [
    "Database = \"predict_kit2\"\n",
    "User = \"terek\"\n",
    "Password = \"\"\n",
    "Host = \"localhost\"\n",
    "Port = \"5432\""
   ]
  },
  {
   "cell_type": "markdown",
   "metadata": {},
   "source": [
    "Enter the path where files can be stored and located for future reference."
   ]
  },
  {
   "cell_type": "code",
   "execution_count": 2,
   "metadata": {
    "collapsed": true
   },
   "outputs": [],
   "source": [
    "Path = \"/Users/terek/Dropbox/Mac/FutureConfStability/iNotebook/FaST_files\""
   ]
  },
  {
   "cell_type": "markdown",
   "metadata": {},
   "source": [
    "Set the following variables to True if you'd like the corresponding feature selection algorithm to be used, False otherwise."
   ]
  },
  {
   "cell_type": "code",
   "execution_count": 3,
   "metadata": {
    "collapsed": true
   },
   "outputs": [],
   "source": [
    "Chi2 = True"
   ]
  },
  {
   "cell_type": "markdown",
   "metadata": {},
   "source": [
    "Set the list to format: [series, REGEX of classes]"
   ]
  },
  {
   "cell_type": "code",
   "execution_count": 4,
   "metadata": {
    "collapsed": true
   },
   "outputs": [],
   "source": [
    "get_data = [ [\"GSE19804\", \"%normal%|%tumor%\"] ,\n",
    "             [\"GSE39582\", \"%C1|%C2|%C3|%C4|%C5|%C6\"] ,\n",
    "             [\"GSE27562\", \"%normal mammogram|%breast cancer, confirmed by diagnostic biopsy|%benign%\" ] ]"
   ]
  },
  {
   "cell_type": "markdown",
   "metadata": {
    "collapsed": true
   },
   "source": [
    "##Main Program Start:\n",
    "\n",
    "No user input is needed beyond this point.  When executing the code, responses from the DB and program will be displayed below each code piece.\n",
    "\n",
    "The packages used by our program are found below:"
   ]
  },
  {
   "cell_type": "code",
   "execution_count": 5,
   "metadata": {
    "collapsed": true
   },
   "outputs": [],
   "source": [
    "import numpy as np\n",
    "from sklearn.feature_selection import SelectKBest, chi2\n",
    "from os.path import exists\n",
    "from psycopg2 import connect"
   ]
  },
  {
   "cell_type": "markdown",
   "metadata": {},
   "source": [
    "Opens a connection to the database:"
   ]
  },
  {
   "cell_type": "code",
   "execution_count": 6,
   "metadata": {},
   "outputs": [
    {
     "name": "stdout",
     "output_type": "stream",
     "text": [
      "DB Response: Opened connection to database successfully :)\n"
     ]
    }
   ],
   "source": [
    "conn = connect(database=Database, user=User, password=Password, host=Host, port=Port)\n",
    "print ( \"DB Response: Opened connection to database successfully :)\" )"
   ]
  },
  {
   "cell_type": "markdown",
   "metadata": {},
   "source": [
    "Given a set of genes (n_samples, n_features), the classes associated with the genes (n_features) the number of features to be selected (k), this function will return the indices of the features to be selected with the top k highest chi2 scores."
   ]
  },
  {
   "cell_type": "code",
   "execution_count": 7,
   "metadata": {
    "collapsed": true
   },
   "outputs": [],
   "source": [
    "def chi2_fs ( genes, classes, num ):\n",
    "    b = SelectKBest( chi2, num ).fit( genes, classes )\n",
    "    a = b.get_support( indices = True )\n",
    "    return a"
   ]
  },
  {
   "cell_type": "markdown",
   "metadata": {},
   "source": [
    "Gets the genes and classes from the database.  Genese are of size [n_samples, n_features] and classes are of size [n_samples]"
   ]
  },
  {
   "cell_type": "code",
   "execution_count": 8,
   "metadata": {},
   "outputs": [],
   "source": [
    "get_samples = (\"SELECT sample.source_name, series_sample.sample_geo_accession, series_sample.series_geo_accession, series.platform_id \" \n",
    "                       \"FROM sample \"\n",
    "                       \"JOIN series_sample ON sample.geo_accession = series_sample.sample_geo_accession \"\n",
    "                       \"JOIN series ON series.geo_accession = series_sample.series_geo_accession \"\n",
    "                       \"WHERE series_sample.series_geo_accession='{0}' AND sample.source_name SIMILAR TO '{1}' \"\n",
    "                       \"ORDER BY sample.source_name ASC;\")\n",
    "\n",
    "get_genes = (\"SELECT gb_acc, MAX({0}) AS {0} \"\n",
    "                 \"FROM {2}_platform \"\n",
    "                 \"JOIN {1}_matrix ON {2}_platform.id = {1}_matrix.id_ref \"\n",
    "                 \"WHERE gb_acc != '' \"\n",
    "                 \"GROUP BY gb_acc \"\n",
    "                 \"ORDER BY gb_acc\")  \n",
    "\n",
    "for i in range( len( get_data ) ): \n",
    "    values = []\n",
    "    classes = []\n",
    "        \n",
    "    with conn:\n",
    "        with conn.cursor() as curs:\n",
    "            curs.execute( get_samples.format( get_data[i][0], get_data[i][1] )  ) \n",
    "            samples = curs.fetchall()\n",
    "\n",
    "            for s in samples:\n",
    "                classes.append(s[0])\n",
    "                \n",
    "                with conn:\n",
    "                    with conn.cursor() as curs:\n",
    "                        curs.execute( get_genes.format( s[1], s[2], s[3] ) )\n",
    "                        genes = curs.fetchall()\n",
    "                        values.append( [g[1] for g in genes] ) \n",
    "    \n",
    "    save_classes = np.array( classes )\n",
    "    save_genes = np.array( values, dtype = float )\n",
    "    \n",
    "    classes_file = ( \"FaST_files/%s_classes.npy\" % get_data[i][0]  )\n",
    "    genes_file = ( \"FaST_files/%s_genes.npy\" % get_data[i][0] )\n",
    "    \n",
    "    np.save( genes_file, save_genes)\n",
    "    np.save( classes_file, save_classes)  "
   ]
  },
  {
   "cell_type": "markdown",
   "metadata": {
    "collapsed": true
   },
   "source": [
    "Saves the feature selected indices to a file, size [n_selected_features]."
   ]
  },
  {
   "cell_type": "code",
   "execution_count": 9,
   "metadata": {},
   "outputs": [],
   "source": [
    "feature_selection_sizes = np.arange(50,301,5)\n",
    "\n",
    "for i in range( len( get_data ) ): \n",
    "    classes_file = ( \"FaST_files/%s_classes.npy\" % get_data[i][0]  )\n",
    "    genes_file = ( \"FaST_files/%s_genes.npy\" % get_data[i][0] )\n",
    "    if ( exists( genes_file ) and exists( classes_file ) ):\n",
    "        genes = np.load( genes_file )\n",
    "        classes = np.load( classes_file )\n",
    "        for fs_size in feature_selection_sizes:\n",
    "            if ( Chi2 ):\n",
    "                indices = chi2_fs ( genes, classes, fs_size ) \n",
    "                indices_file = ( \"FaST_files/%s_%03d_fs_indices.npy\" % (get_data[i][0], fs_size) )\n",
    "                np.save( indices_file, indices)\n",
    "            # TODO: add other fs methods here"
   ]
  },
  {
   "cell_type": "markdown",
   "metadata": {
    "collapsed": true
   },
   "source": [
    "Saves the gene values of the features selected, size [n_samples, n_selected_features]"
   ]
  },
  {
   "cell_type": "code",
   "execution_count": 10,
   "metadata": {},
   "outputs": [],
   "source": [
    "# genes is [n_samples, n_features]\n",
    "for i in range( len( get_data ) ): \n",
    "    genes_file = ( \"FaST_files/%s_genes.npy\" % get_data[i][0] )\n",
    "    \n",
    "    if exists( genes_file ):\n",
    "        genes = np.load( genes_file )\n",
    "        for fs_size in feature_selection_sizes:\n",
    "            indices_file = ( \"FaST_files/%s_%03d_fs_indices.npy\" % (get_data[i][0], fs_size) )\n",
    "            \n",
    "            if exists( indices_file ):\n",
    "                indices = np.load( indices_file )\n",
    "                fs_values = [[g[i] for i in indices] for g in genes]\n",
    "                fs_genes = np.array(fs_values)\n",
    "                fs_genes_file = ( \"FaST_files/%s_%03d_fs_genes.npy\" % (get_data[i][0], fs_size) )\n",
    "                np.save( fs_genes_file, fs_genes)"
   ]
  },
  {
   "cell_type": "markdown",
   "metadata": {},
   "source": [
    "Closes the connection to the DB."
   ]
  },
  {
   "cell_type": "code",
   "execution_count": 11,
   "metadata": {},
   "outputs": [
    {
     "name": "stdout",
     "output_type": "stream",
     "text": [
      "DB Response: Closed connection to database successfully - Goodbye :(\n"
     ]
    }
   ],
   "source": [
    "conn.close()\n",
    "print (\"DB Response: Closed connection to database successfully - Goodbye :(\")"
   ]
  }
 ],
 "metadata": {
  "kernelspec": {
   "display_name": "Python 3",
   "language": "python",
   "name": "python3"
  },
  "language_info": {
   "codemirror_mode": {
    "name": "ipython",
    "version": 3
   },
   "file_extension": ".py",
   "mimetype": "text/x-python",
   "name": "python",
   "nbconvert_exporter": "python",
   "pygments_lexer": "ipython3",
   "version": "3.7.0"
  }
 },
 "nbformat": 4,
 "nbformat_minor": 1
}
